{
 "cells": [
  {
   "cell_type": "code",
   "execution_count": 1,
   "metadata": {
    "collapsed": true
   },
   "outputs": [],
   "source": [
    "import pandas as pd\n",
    "import requests\n",
    "import json\n",
    "import requests\n",
    "import time\n",
    "from datetime import datetime\n",
    "from IPython.display import display, clear_output\n",
    "import numpy as np"
   ]
  },
  {
   "cell_type": "code",
   "execution_count": 2,
   "metadata": {},
   "outputs": [],
   "source": [
    "pd.set_option('display.max_columns', None)\n",
    "pd.set_option('display.max_rows', None)"
   ]
  },
  {
   "cell_type": "code",
   "execution_count": 3,
   "metadata": {},
   "outputs": [],
   "source": [
    "target_diff = 0.0025\n",
    "stop_loss = 0.0025\n",
    "profit = (target_diff / 0.0001)*0.75\n",
    "loss = (stop_loss / 0.0001)*0.75\n",
    "version = '10'"
   ]
  },
  {
   "cell_type": "code",
   "execution_count": 4,
   "metadata": {},
   "outputs": [
    {
     "data": {
      "text/plain": [
       "18.75"
      ]
     },
     "execution_count": 4,
     "metadata": {},
     "output_type": "execute_result"
    }
   ],
   "source": [
    "profit"
   ]
  },
  {
   "cell_type": "code",
   "execution_count": 5,
   "metadata": {},
   "outputs": [
    {
     "data": {
      "text/plain": [
       "(16415, 785)"
      ]
     },
     "execution_count": 5,
     "metadata": {},
     "output_type": "execute_result"
    }
   ],
   "source": [
    "filename_date = '100919'\n",
    "\n",
    "layout = pd.read_csv('../data/' + filename_date + 'mds_out_layout.csv')\n",
    "layout = layout['features'].values\n",
    "data = pd.read_csv('../data/' + filename_date + 'mds_out.csv', usecols=layout)\n",
    "data.shape"
   ]
  },
  {
   "cell_type": "code",
   "execution_count": 6,
   "metadata": {},
   "outputs": [
    {
     "data": {
      "text/plain": [
       "'2017-01-19 21:00:00'"
      ]
     },
     "execution_count": 6,
     "metadata": {},
     "output_type": "execute_result"
    }
   ],
   "source": [
    "data['time'].min()"
   ]
  },
  {
   "cell_type": "code",
   "execution_count": 7,
   "metadata": {},
   "outputs": [
    {
     "data": {
      "text/plain": [
       "'2019-09-24 19:00:00'"
      ]
     },
     "execution_count": 7,
     "metadata": {},
     "output_type": "execute_result"
    }
   ],
   "source": [
    "data['time'].max()"
   ]
  },
  {
   "cell_type": "code",
   "execution_count": 8,
   "metadata": {},
   "outputs": [],
   "source": [
    "num_cols = ['ask_c', 'bid_c']"
   ]
  },
  {
   "cell_type": "code",
   "execution_count": 9,
   "metadata": {},
   "outputs": [],
   "source": [
    "data['time'] = pd.to_datetime(data['time'])\n",
    "data = data.sort_values(by='time')\n",
    "data = data.drop_duplicates(subset=['time'])\n",
    "data = data.reset_index(drop=True)\n",
    "data['index'] = data.index\n",
    "for n in num_cols:\n",
    "    data[n] = pd.to_numeric(data[n])\n",
    "data['target_tp'] = data['ask_c'] + target_diff\n",
    "data['target_sl'] = data['bid_c'] - stop_loss\n",
    "data = data[~data['target_tp'].isnull()]"
   ]
  },
  {
   "cell_type": "code",
   "execution_count": 10,
   "metadata": {},
   "outputs": [
    {
     "data": {
      "text/plain": [
       "count    16415.000000\n",
       "mean         0.005155\n",
       "std          0.000097\n",
       "min          0.005090\n",
       "25%          0.005120\n",
       "50%          0.005130\n",
       "75%          0.005140\n",
       "max          0.006500\n",
       "Name: diff, dtype: float64"
      ]
     },
     "execution_count": 10,
     "metadata": {},
     "output_type": "execute_result"
    }
   ],
   "source": [
    "data['diff'] = data['target_tp'] - data['target_sl']\n",
    "data['diff'].describe()"
   ]
  },
  {
   "cell_type": "code",
   "execution_count": 11,
   "metadata": {},
   "outputs": [],
   "source": [
    "# data[['index', 'time', 'volume', 'bid_o', 'bid_h','bid_l','bid_c', 'ask_o', 'ask_h','ask_l','ask_c', 'ask_prev_c', 'bid_prev_c', 'target_tp', 'target_sl', 'g', 'l', 'l_time']].head(40)"
   ]
  },
  {
   "cell_type": "code",
   "execution_count": 12,
   "metadata": {},
   "outputs": [],
   "source": [
    "data['g']=np.NaN\n",
    "data['l']=np.NaN\n",
    "deep=len(data.index)\n",
    "irange = data['index'].values\n",
    "tp_good = False\n",
    "sl_good = False\n",
    "\n",
    "for i in irange:\n",
    "\n",
    "#     while tp_good == False and sl_good == False:\n",
    "    show = (i / len(irange))*100\n",
    "    show = str(round(show, 2))\n",
    "    show = show + ' - ' + str(datetime.now())\n",
    "    display(show)\n",
    "    tp_good = False\n",
    "    sl_good = False\n",
    "#     print(i)\n",
    "\n",
    "    for r in irange:\n",
    "#             print(i, r, tp_good, sl_good)\n",
    "        if r > i:\n",
    "            if tp_good == False and sl_good == False:\n",
    "                if  data[data['index'] == r]['ask_h'].values[0] >= data[data['index'] == i]['target_tp'].values[0] and not tp_good:\n",
    "                    data.at[i, 'g'] = data[data['index'] == r]['index'].values[0]\n",
    "                    data.at[i, 'g_time'] = data[data['index'] == r]['time'].values[0]\n",
    "                    tp_good = True\n",
    "                else:\n",
    "                    data.at[i, 'g'] = None\n",
    "                    data.at[i, 'g_time'] =None\n",
    "\n",
    "                if  data[data['index'] == r]['bid_l'].values[0] <= data[data['index'] == i]['target_sl'].values[0] and not sl_good:\n",
    "                    data.at[i, 'l'] = data[data['index'] == r]['index'].values[0]\n",
    "                    data.at[i, 'l_time'] = data[data['index'] == r]['time'].values[0]\n",
    "                    sl_good = True\n",
    "                else:  \n",
    "                    data.at[i, 'l'] = None     \n",
    "                    data.at[i, 'l_time'] = None  \n",
    "            else:\n",
    "                break\n",
    "\n",
    "    clear_output()    \n",
    "\n",
    "#     print(datetime.now())"
   ]
  },
  {
   "cell_type": "code",
   "execution_count": 13,
   "metadata": {},
   "outputs": [],
   "source": [
    "# START WITH FIRST TARGET INDEX BEC TIME ISSUE\n",
    "\n",
    "# if tp_good:\n",
    "#     target_index = data['g'].max()\n",
    "#     good_data = data[~data['g'].isnull()].copy()\n",
    "\n",
    "# if sl_good:\n",
    "#     target_index = data['l'].max()\n",
    "#     good_data = data[~data['g'].isnull()].copy()\n",
    "\n",
    "# tp_good = False\n",
    "# sl_good = False\n",
    "# done = False\n",
    "\n",
    "# counter = 1\n",
    "# while not done:\n",
    "#     show = (target_index / len(irange))*100\n",
    "#     show = str(round(show, 2))\n",
    "#     show = show + ' - ' + str(datetime.now())\n",
    "#     display(show)\n",
    "#     tp_good = False\n",
    "#     sl_good = False\n",
    "\n",
    "#     for r in irange:\n",
    "#         if r > target_index:\n",
    "#             if tp_good == False and sl_good == False:\n",
    "#                 if  data[data['index'] == r]['ask_h'].values[0] >= data[data['index'] == target_index]['target_tp'].values[0] and not tp_good:\n",
    "#                     data.at[target_index, 'g'] = data[data['index'] == r]['index'].values[0]\n",
    "#                     data.at[target_index, 'g_time'] = data[data['index'] == r]['time'].values[0]\n",
    "#                     tp_good = True\n",
    "#                 else:\n",
    "#                     data.at[target_index, 'g'] = None\n",
    "#                     data.at[target_index, 'g_time'] =None\n",
    "\n",
    "\n",
    "#                 if  data[data['index'] == r]['bid_l'].values[0] <= data[data['index'] == target_index]['target_sl'].values[0] and not sl_good:\n",
    "#                     data.at[target_index, 'l'] = data[data['index'] == r]['index'].values[0]\n",
    "#                     data.at[target_index, 'l_time'] = data[data['index'] == r]['time'].values[0]\n",
    "#                     sl_good = True\n",
    "\n",
    "#                 else:  \n",
    "#                     data.at[i, 'l'] = None     \n",
    "#                     data.at[i, 'l_time'] = None  \n",
    "#             else:\n",
    "#                 break\n",
    "    \n",
    "#     if tp_good == True:\n",
    "#         target_index = data['g'].max()\n",
    "#         try:\n",
    "#             temp = data[data['g'] == target_index].copy()\n",
    "#             temp2 = data[data['index'] == target_index].copy()\n",
    "\n",
    "#             if counter == 1:\n",
    "#                 good_data = temp\n",
    "#                 counter += 1\n",
    "#             else:\n",
    "#                 good_data = good_data.append(temp)\n",
    "\n",
    "#             if target_index == data['index'].max():\n",
    "#                 done = True\n",
    "#         except IndexError:\n",
    "#             done = True\n",
    "\n",
    "#     elif sl_good == True:\n",
    "#         target_index = data['l'].max()\n",
    "#         try:\n",
    "#             temp = data[data['l'] == target_index].copy()\n",
    "#             temp2 = data[data['index'] == target_index].copy()\n",
    "\n",
    "#             if counter == 1:\n",
    "#                 good_data = temp\n",
    "#                 counter += 1\n",
    "#             else:\n",
    "#                 good_data = good_data.append(temp)\n",
    "\n",
    "#             if target_index == data['index'].max():\n",
    "#                 done = True\n",
    "#         except IndexError:\n",
    "#             done = True\n",
    "            \n",
    "#     else:\n",
    "#         done = True\n",
    "\n",
    "\n",
    "#     clear_output()    "
   ]
  },
  {
   "cell_type": "code",
   "execution_count": 14,
   "metadata": {},
   "outputs": [
    {
     "data": {
      "text/plain": [
       "(16406, 793)"
      ]
     },
     "execution_count": 14,
     "metadata": {},
     "output_type": "execute_result"
    }
   ],
   "source": [
    "good_mask = (data['g'].isnull()) & (data['l'].isnull())\n",
    "good_data = data[~good_mask].copy()\n",
    "good_data.shape"
   ]
  },
  {
   "cell_type": "code",
   "execution_count": 15,
   "metadata": {},
   "outputs": [
    {
     "data": {
      "text/html": [
       "<div>\n",
       "<style>\n",
       "    .dataframe thead tr:only-child th {\n",
       "        text-align: right;\n",
       "    }\n",
       "\n",
       "    .dataframe thead th {\n",
       "        text-align: left;\n",
       "    }\n",
       "\n",
       "    .dataframe tbody tr th {\n",
       "        vertical-align: top;\n",
       "    }\n",
       "</style>\n",
       "<table border=\"1\" class=\"dataframe\">\n",
       "  <thead>\n",
       "    <tr style=\"text-align: right;\">\n",
       "      <th></th>\n",
       "      <th>time</th>\n",
       "      <th>volume</th>\n",
       "      <th>bid_o</th>\n",
       "      <th>bid_h</th>\n",
       "      <th>bid_l</th>\n",
       "      <th>bid_c</th>\n",
       "      <th>ask_o</th>\n",
       "      <th>ask_h</th>\n",
       "      <th>ask_l</th>\n",
       "      <th>ask_c</th>\n",
       "      <th>target_tp</th>\n",
       "      <th>target_sl</th>\n",
       "      <th>g</th>\n",
       "      <th>l</th>\n",
       "      <th>l_time</th>\n",
       "    </tr>\n",
       "  </thead>\n",
       "  <tbody>\n",
       "    <tr>\n",
       "      <th>0</th>\n",
       "      <td>2017-01-19 21:00:00</td>\n",
       "      <td>4461</td>\n",
       "      <td>1.06583</td>\n",
       "      <td>1.06612</td>\n",
       "      <td>1.06516</td>\n",
       "      <td>1.06530</td>\n",
       "      <td>1.06600</td>\n",
       "      <td>1.06632</td>\n",
       "      <td>1.06531</td>\n",
       "      <td>1.06546</td>\n",
       "      <td>1.06796</td>\n",
       "      <td>1.06280</td>\n",
       "      <td>1.0</td>\n",
       "      <td>NaN</td>\n",
       "      <td>NaN</td>\n",
       "    </tr>\n",
       "    <tr>\n",
       "      <th>1</th>\n",
       "      <td>2017-01-19 22:00:00</td>\n",
       "      <td>2878</td>\n",
       "      <td>1.06528</td>\n",
       "      <td>1.06871</td>\n",
       "      <td>1.06528</td>\n",
       "      <td>1.06808</td>\n",
       "      <td>1.06545</td>\n",
       "      <td>1.06888</td>\n",
       "      <td>1.06545</td>\n",
       "      <td>1.06821</td>\n",
       "      <td>1.07071</td>\n",
       "      <td>1.06558</td>\n",
       "      <td>NaN</td>\n",
       "      <td>9.0</td>\n",
       "      <td>1.484892e+18</td>\n",
       "    </tr>\n",
       "    <tr>\n",
       "      <th>2</th>\n",
       "      <td>2017-01-19 23:00:00</td>\n",
       "      <td>3073</td>\n",
       "      <td>1.06807</td>\n",
       "      <td>1.06834</td>\n",
       "      <td>1.06742</td>\n",
       "      <td>1.06767</td>\n",
       "      <td>1.06825</td>\n",
       "      <td>1.06847</td>\n",
       "      <td>1.06757</td>\n",
       "      <td>1.06781</td>\n",
       "      <td>1.07031</td>\n",
       "      <td>1.06517</td>\n",
       "      <td>NaN</td>\n",
       "      <td>9.0</td>\n",
       "      <td>1.484892e+18</td>\n",
       "    </tr>\n",
       "    <tr>\n",
       "      <th>3</th>\n",
       "      <td>2017-01-20 00:00:00</td>\n",
       "      <td>1888</td>\n",
       "      <td>1.06765</td>\n",
       "      <td>1.06929</td>\n",
       "      <td>1.06765</td>\n",
       "      <td>1.06847</td>\n",
       "      <td>1.06780</td>\n",
       "      <td>1.06943</td>\n",
       "      <td>1.06780</td>\n",
       "      <td>1.06861</td>\n",
       "      <td>1.07111</td>\n",
       "      <td>1.06597</td>\n",
       "      <td>NaN</td>\n",
       "      <td>9.0</td>\n",
       "      <td>1.484892e+18</td>\n",
       "    </tr>\n",
       "    <tr>\n",
       "      <th>4</th>\n",
       "      <td>2017-01-20 01:00:00</td>\n",
       "      <td>2733</td>\n",
       "      <td>1.06846</td>\n",
       "      <td>1.06853</td>\n",
       "      <td>1.06774</td>\n",
       "      <td>1.06797</td>\n",
       "      <td>1.06860</td>\n",
       "      <td>1.06867</td>\n",
       "      <td>1.06788</td>\n",
       "      <td>1.06811</td>\n",
       "      <td>1.07061</td>\n",
       "      <td>1.06547</td>\n",
       "      <td>NaN</td>\n",
       "      <td>9.0</td>\n",
       "      <td>1.484892e+18</td>\n",
       "    </tr>\n",
       "    <tr>\n",
       "      <th>5</th>\n",
       "      <td>2017-01-20 02:00:00</td>\n",
       "      <td>3330</td>\n",
       "      <td>1.06796</td>\n",
       "      <td>1.06809</td>\n",
       "      <td>1.06708</td>\n",
       "      <td>1.06716</td>\n",
       "      <td>1.06809</td>\n",
       "      <td>1.06823</td>\n",
       "      <td>1.06719</td>\n",
       "      <td>1.06731</td>\n",
       "      <td>1.06981</td>\n",
       "      <td>1.06466</td>\n",
       "      <td>NaN</td>\n",
       "      <td>9.0</td>\n",
       "      <td>1.484892e+18</td>\n",
       "    </tr>\n",
       "    <tr>\n",
       "      <th>6</th>\n",
       "      <td>2017-01-20 03:00:00</td>\n",
       "      <td>6519</td>\n",
       "      <td>1.06716</td>\n",
       "      <td>1.06856</td>\n",
       "      <td>1.06715</td>\n",
       "      <td>1.06820</td>\n",
       "      <td>1.06730</td>\n",
       "      <td>1.06868</td>\n",
       "      <td>1.06730</td>\n",
       "      <td>1.06839</td>\n",
       "      <td>1.07089</td>\n",
       "      <td>1.06570</td>\n",
       "      <td>NaN</td>\n",
       "      <td>9.0</td>\n",
       "      <td>1.484892e+18</td>\n",
       "    </tr>\n",
       "    <tr>\n",
       "      <th>7</th>\n",
       "      <td>2017-01-20 04:00:00</td>\n",
       "      <td>8151</td>\n",
       "      <td>1.06819</td>\n",
       "      <td>1.06915</td>\n",
       "      <td>1.06705</td>\n",
       "      <td>1.06715</td>\n",
       "      <td>1.06836</td>\n",
       "      <td>1.06928</td>\n",
       "      <td>1.06717</td>\n",
       "      <td>1.06727</td>\n",
       "      <td>1.06977</td>\n",
       "      <td>1.06465</td>\n",
       "      <td>NaN</td>\n",
       "      <td>9.0</td>\n",
       "      <td>1.484892e+18</td>\n",
       "    </tr>\n",
       "    <tr>\n",
       "      <th>8</th>\n",
       "      <td>2017-01-20 05:00:00</td>\n",
       "      <td>7173</td>\n",
       "      <td>1.06713</td>\n",
       "      <td>1.06831</td>\n",
       "      <td>1.06603</td>\n",
       "      <td>1.06626</td>\n",
       "      <td>1.06727</td>\n",
       "      <td>1.06845</td>\n",
       "      <td>1.06615</td>\n",
       "      <td>1.06639</td>\n",
       "      <td>1.06889</td>\n",
       "      <td>1.06376</td>\n",
       "      <td>NaN</td>\n",
       "      <td>10.0</td>\n",
       "      <td>1.484896e+18</td>\n",
       "    </tr>\n",
       "    <tr>\n",
       "      <th>9</th>\n",
       "      <td>2017-01-20 06:00:00</td>\n",
       "      <td>5923</td>\n",
       "      <td>1.06627</td>\n",
       "      <td>1.06665</td>\n",
       "      <td>1.06416</td>\n",
       "      <td>1.06459</td>\n",
       "      <td>1.06638</td>\n",
       "      <td>1.06678</td>\n",
       "      <td>1.06428</td>\n",
       "      <td>1.06470</td>\n",
       "      <td>1.06720</td>\n",
       "      <td>1.06209</td>\n",
       "      <td>15.0</td>\n",
       "      <td>NaN</td>\n",
       "      <td>NaN</td>\n",
       "    </tr>\n",
       "  </tbody>\n",
       "</table>\n",
       "</div>"
      ],
      "text/plain": [
       "                 time  volume    bid_o    bid_h    bid_l    bid_c    ask_o  \\\n",
       "0 2017-01-19 21:00:00    4461  1.06583  1.06612  1.06516  1.06530  1.06600   \n",
       "1 2017-01-19 22:00:00    2878  1.06528  1.06871  1.06528  1.06808  1.06545   \n",
       "2 2017-01-19 23:00:00    3073  1.06807  1.06834  1.06742  1.06767  1.06825   \n",
       "3 2017-01-20 00:00:00    1888  1.06765  1.06929  1.06765  1.06847  1.06780   \n",
       "4 2017-01-20 01:00:00    2733  1.06846  1.06853  1.06774  1.06797  1.06860   \n",
       "5 2017-01-20 02:00:00    3330  1.06796  1.06809  1.06708  1.06716  1.06809   \n",
       "6 2017-01-20 03:00:00    6519  1.06716  1.06856  1.06715  1.06820  1.06730   \n",
       "7 2017-01-20 04:00:00    8151  1.06819  1.06915  1.06705  1.06715  1.06836   \n",
       "8 2017-01-20 05:00:00    7173  1.06713  1.06831  1.06603  1.06626  1.06727   \n",
       "9 2017-01-20 06:00:00    5923  1.06627  1.06665  1.06416  1.06459  1.06638   \n",
       "\n",
       "     ask_h    ask_l    ask_c  target_tp  target_sl     g     l        l_time  \n",
       "0  1.06632  1.06531  1.06546    1.06796    1.06280   1.0   NaN           NaN  \n",
       "1  1.06888  1.06545  1.06821    1.07071    1.06558   NaN   9.0  1.484892e+18  \n",
       "2  1.06847  1.06757  1.06781    1.07031    1.06517   NaN   9.0  1.484892e+18  \n",
       "3  1.06943  1.06780  1.06861    1.07111    1.06597   NaN   9.0  1.484892e+18  \n",
       "4  1.06867  1.06788  1.06811    1.07061    1.06547   NaN   9.0  1.484892e+18  \n",
       "5  1.06823  1.06719  1.06731    1.06981    1.06466   NaN   9.0  1.484892e+18  \n",
       "6  1.06868  1.06730  1.06839    1.07089    1.06570   NaN   9.0  1.484892e+18  \n",
       "7  1.06928  1.06717  1.06727    1.06977    1.06465   NaN   9.0  1.484892e+18  \n",
       "8  1.06845  1.06615  1.06639    1.06889    1.06376   NaN  10.0  1.484896e+18  \n",
       "9  1.06678  1.06428  1.06470    1.06720    1.06209  15.0   NaN           NaN  "
      ]
     },
     "execution_count": 15,
     "metadata": {},
     "output_type": "execute_result"
    }
   ],
   "source": [
    "good_data[['time', 'volume', 'bid_o', 'bid_h','bid_l','bid_c', 'ask_o', 'ask_h','ask_l','ask_c', 'target_tp', 'target_sl', 'g', 'l', 'l_time']].head(10)"
   ]
  },
  {
   "cell_type": "code",
   "execution_count": 16,
   "metadata": {},
   "outputs": [],
   "source": [
    "def get_target(value):\n",
    "    if value > 0:\n",
    "        return 1\n",
    "    else:\n",
    "        return 0"
   ]
  },
  {
   "cell_type": "code",
   "execution_count": 17,
   "metadata": {},
   "outputs": [
    {
     "name": "stdout",
     "output_type": "stream",
     "text": [
      "0    8302\n",
      "1    8104\n",
      "Name: long_target, dtype: int64\n",
      "\n",
      "1    8430\n",
      "0    7976\n",
      "Name: short_target, dtype: int64\n"
     ]
    }
   ],
   "source": [
    "# max_date = data['time'].max()\n",
    "good_data['g_time'] = pd.to_datetime(good_data['g_time'])\n",
    "good_data['l_time'] = pd.to_datetime(good_data['l_time'])\n",
    "\n",
    "good_data['g'] = pd.to_numeric(good_data['g'])\n",
    "good_data['l'] = pd.to_numeric(good_data['l'])\n",
    "\n",
    "good_data['g'] = good_data['g'].fillna(0)\n",
    "good_data['l'] = good_data['l'].fillna(0)\n",
    "\n",
    "# data['g'] = data['g'].fillna(data['index'].max())\n",
    "# data['l'] = data['l'].fillna(data['index'].max())\n",
    "\n",
    "good_data['long_target'] = good_data['g'].apply(get_target)\n",
    "good_data['short_target'] = good_data['l'].apply(get_target)\n",
    "\n",
    "print(good_data['long_target'].value_counts())\n",
    "print()\n",
    "print(good_data['short_target'].value_counts())"
   ]
  },
  {
   "cell_type": "code",
   "execution_count": 18,
   "metadata": {},
   "outputs": [],
   "source": [
    "# good_data['g_time_shift'] = good_data['g_time'].shift(1)\n",
    "# good_data['g_time_shift'] = pd.to_datetime(good_data['g_time_shift'] )\n",
    "good_data['time'] = pd.to_datetime(good_data['time'] )\n",
    "# good_data['g_diff'] = good_data['g_time'] - good_data['g_time_shift']\n",
    "# good_data['g_diff'] = good_data['g_diff'].dt.seconds"
   ]
  },
  {
   "cell_type": "code",
   "execution_count": 19,
   "metadata": {},
   "outputs": [
    {
     "data": {
      "text/plain": [
       "(16278, 796)"
      ]
     },
     "execution_count": 19,
     "metadata": {},
     "output_type": "execute_result"
    }
   ],
   "source": [
    "# good_data['order'] = good_data.index\n",
    "# t1 = good_data[good_data['g'] != 0.0].drop_duplicates(subset='g')\n",
    "# t2 = good_data[good_data['l'] != 0.0].drop_duplicates(subset='l')\n",
    "# good_data = pd.concat([t1, t2], axis=0)\n",
    "# good_data= good_data.sort_values(by='order')\n",
    "good_data['same_time'] = good_data['g_time'] == good_data['l_time']\n",
    "good_data['same_time'] = good_data['same_time'].apply(lambda x: 1 if x else 0)\n",
    "good_data = good_data[good_data['same_time'] == 0]\n",
    "good_data.shape"
   ]
  },
  {
   "cell_type": "code",
   "execution_count": 20,
   "metadata": {},
   "outputs": [
    {
     "name": "stdout",
     "output_type": "stream",
     "text": [
      "(7976, 796)\n"
     ]
    },
    {
     "data": {
      "text/plain": [
       "(16278, 796)"
      ]
     },
     "execution_count": 20,
     "metadata": {},
     "output_type": "execute_result"
    }
   ],
   "source": [
    "pos = good_data[good_data['long_target'] == 1].copy()\n",
    "print(pos.shape)\n",
    "neg = good_data[good_data['long_target'] == 0].copy()\n",
    "\n",
    "pos['time_diff'] = (pos['g_time'] - pos['time']) / np.timedelta64(1, 'h')\n",
    "pos_bad = pos[pos['time_diff'] > 24].copy()\n",
    "pos_bad['long_target'] = 0\n",
    "\n",
    "pos = pos[pos['time_diff'] <= 24]\n",
    "\n",
    "pos.drop(['time_diff'], axis=1, inplace=True)\n",
    "pos_bad.drop(['time_diff'], axis=1, inplace=True)\n",
    "\n",
    "good_data = pd.concat([pos, neg, pos_bad], axis=0)\n",
    "good_data.shape"
   ]
  },
  {
   "cell_type": "code",
   "execution_count": 21,
   "metadata": {},
   "outputs": [],
   "source": [
    "good_data.to_csv('../data/' + filename_date + '_mds_out_final_v' + version + '_long.csv', index=False, header=True)"
   ]
  },
  {
   "cell_type": "code",
   "execution_count": 22,
   "metadata": {},
   "outputs": [
    {
     "data": {
      "text/html": [
       "<div>\n",
       "<style>\n",
       "    .dataframe thead tr:only-child th {\n",
       "        text-align: right;\n",
       "    }\n",
       "\n",
       "    .dataframe thead th {\n",
       "        text-align: left;\n",
       "    }\n",
       "\n",
       "    .dataframe tbody tr th {\n",
       "        vertical-align: top;\n",
       "    }\n",
       "</style>\n",
       "<table border=\"1\" class=\"dataframe\">\n",
       "  <thead>\n",
       "    <tr style=\"text-align: right;\">\n",
       "      <th></th>\n",
       "      <th>time</th>\n",
       "      <th>target_tp</th>\n",
       "      <th>target_sl</th>\n",
       "      <th>g</th>\n",
       "      <th>l</th>\n",
       "      <th>g_time</th>\n",
       "      <th>l_time</th>\n",
       "      <th>long_target</th>\n",
       "      <th>short_target</th>\n",
       "      <th>time</th>\n",
       "    </tr>\n",
       "  </thead>\n",
       "  <tbody>\n",
       "    <tr>\n",
       "      <th>0</th>\n",
       "      <td>2017-01-19 21:00:00</td>\n",
       "      <td>1.06796</td>\n",
       "      <td>1.06280</td>\n",
       "      <td>1.0</td>\n",
       "      <td>0.0</td>\n",
       "      <td>2017-01-19 22:00:00</td>\n",
       "      <td>NaT</td>\n",
       "      <td>1</td>\n",
       "      <td>0</td>\n",
       "      <td>2017-01-19 21:00:00</td>\n",
       "    </tr>\n",
       "    <tr>\n",
       "      <th>9</th>\n",
       "      <td>2017-01-20 06:00:00</td>\n",
       "      <td>1.06720</td>\n",
       "      <td>1.06209</td>\n",
       "      <td>15.0</td>\n",
       "      <td>0.0</td>\n",
       "      <td>2017-01-20 12:00:00</td>\n",
       "      <td>NaT</td>\n",
       "      <td>1</td>\n",
       "      <td>0</td>\n",
       "      <td>2017-01-20 06:00:00</td>\n",
       "    </tr>\n",
       "    <tr>\n",
       "      <th>10</th>\n",
       "      <td>2017-01-20 07:00:00</td>\n",
       "      <td>1.06628</td>\n",
       "      <td>1.06115</td>\n",
       "      <td>14.0</td>\n",
       "      <td>0.0</td>\n",
       "      <td>2017-01-20 11:00:00</td>\n",
       "      <td>NaT</td>\n",
       "      <td>1</td>\n",
       "      <td>0</td>\n",
       "      <td>2017-01-20 07:00:00</td>\n",
       "    </tr>\n",
       "    <tr>\n",
       "      <th>11</th>\n",
       "      <td>2017-01-20 08:00:00</td>\n",
       "      <td>1.06645</td>\n",
       "      <td>1.06132</td>\n",
       "      <td>14.0</td>\n",
       "      <td>0.0</td>\n",
       "      <td>2017-01-20 11:00:00</td>\n",
       "      <td>NaT</td>\n",
       "      <td>1</td>\n",
       "      <td>0</td>\n",
       "      <td>2017-01-20 08:00:00</td>\n",
       "    </tr>\n",
       "    <tr>\n",
       "      <th>12</th>\n",
       "      <td>2017-01-20 09:00:00</td>\n",
       "      <td>1.06532</td>\n",
       "      <td>1.06018</td>\n",
       "      <td>13.0</td>\n",
       "      <td>0.0</td>\n",
       "      <td>2017-01-20 10:00:00</td>\n",
       "      <td>NaT</td>\n",
       "      <td>1</td>\n",
       "      <td>0</td>\n",
       "      <td>2017-01-20 09:00:00</td>\n",
       "    </tr>\n",
       "    <tr>\n",
       "      <th>13</th>\n",
       "      <td>2017-01-20 10:00:00</td>\n",
       "      <td>1.06823</td>\n",
       "      <td>1.06308</td>\n",
       "      <td>15.0</td>\n",
       "      <td>0.0</td>\n",
       "      <td>2017-01-20 12:00:00</td>\n",
       "      <td>NaT</td>\n",
       "      <td>1</td>\n",
       "      <td>0</td>\n",
       "      <td>2017-01-20 10:00:00</td>\n",
       "    </tr>\n",
       "    <tr>\n",
       "      <th>14</th>\n",
       "      <td>2017-01-20 11:00:00</td>\n",
       "      <td>1.06807</td>\n",
       "      <td>1.06294</td>\n",
       "      <td>15.0</td>\n",
       "      <td>0.0</td>\n",
       "      <td>2017-01-20 12:00:00</td>\n",
       "      <td>NaT</td>\n",
       "      <td>1</td>\n",
       "      <td>0</td>\n",
       "      <td>2017-01-20 11:00:00</td>\n",
       "    </tr>\n",
       "    <tr>\n",
       "      <th>15</th>\n",
       "      <td>2017-01-20 12:00:00</td>\n",
       "      <td>1.07044</td>\n",
       "      <td>1.06533</td>\n",
       "      <td>19.0</td>\n",
       "      <td>0.0</td>\n",
       "      <td>2017-01-20 16:00:00</td>\n",
       "      <td>NaT</td>\n",
       "      <td>1</td>\n",
       "      <td>0</td>\n",
       "      <td>2017-01-20 12:00:00</td>\n",
       "    </tr>\n",
       "    <tr>\n",
       "      <th>16</th>\n",
       "      <td>2017-01-20 13:00:00</td>\n",
       "      <td>1.07048</td>\n",
       "      <td>1.06534</td>\n",
       "      <td>19.0</td>\n",
       "      <td>0.0</td>\n",
       "      <td>2017-01-20 16:00:00</td>\n",
       "      <td>NaT</td>\n",
       "      <td>1</td>\n",
       "      <td>0</td>\n",
       "      <td>2017-01-20 13:00:00</td>\n",
       "    </tr>\n",
       "    <tr>\n",
       "      <th>17</th>\n",
       "      <td>2017-01-20 14:00:00</td>\n",
       "      <td>1.07006</td>\n",
       "      <td>1.06492</td>\n",
       "      <td>19.0</td>\n",
       "      <td>0.0</td>\n",
       "      <td>2017-01-20 16:00:00</td>\n",
       "      <td>NaT</td>\n",
       "      <td>1</td>\n",
       "      <td>0</td>\n",
       "      <td>2017-01-20 14:00:00</td>\n",
       "    </tr>\n",
       "  </tbody>\n",
       "</table>\n",
       "</div>"
      ],
      "text/plain": [
       "                  time  target_tp  target_sl     g    l              g_time  \\\n",
       "0  2017-01-19 21:00:00    1.06796    1.06280   1.0  0.0 2017-01-19 22:00:00   \n",
       "9  2017-01-20 06:00:00    1.06720    1.06209  15.0  0.0 2017-01-20 12:00:00   \n",
       "10 2017-01-20 07:00:00    1.06628    1.06115  14.0  0.0 2017-01-20 11:00:00   \n",
       "11 2017-01-20 08:00:00    1.06645    1.06132  14.0  0.0 2017-01-20 11:00:00   \n",
       "12 2017-01-20 09:00:00    1.06532    1.06018  13.0  0.0 2017-01-20 10:00:00   \n",
       "13 2017-01-20 10:00:00    1.06823    1.06308  15.0  0.0 2017-01-20 12:00:00   \n",
       "14 2017-01-20 11:00:00    1.06807    1.06294  15.0  0.0 2017-01-20 12:00:00   \n",
       "15 2017-01-20 12:00:00    1.07044    1.06533  19.0  0.0 2017-01-20 16:00:00   \n",
       "16 2017-01-20 13:00:00    1.07048    1.06534  19.0  0.0 2017-01-20 16:00:00   \n",
       "17 2017-01-20 14:00:00    1.07006    1.06492  19.0  0.0 2017-01-20 16:00:00   \n",
       "\n",
       "   l_time  long_target  short_target                time  \n",
       "0     NaT            1             0 2017-01-19 21:00:00  \n",
       "9     NaT            1             0 2017-01-20 06:00:00  \n",
       "10    NaT            1             0 2017-01-20 07:00:00  \n",
       "11    NaT            1             0 2017-01-20 08:00:00  \n",
       "12    NaT            1             0 2017-01-20 09:00:00  \n",
       "13    NaT            1             0 2017-01-20 10:00:00  \n",
       "14    NaT            1             0 2017-01-20 11:00:00  \n",
       "15    NaT            1             0 2017-01-20 12:00:00  \n",
       "16    NaT            1             0 2017-01-20 13:00:00  \n",
       "17    NaT            1             0 2017-01-20 14:00:00  "
      ]
     },
     "execution_count": 22,
     "metadata": {},
     "output_type": "execute_result"
    }
   ],
   "source": [
    "good_data[['time', 'target_tp', 'target_sl', 'g', 'l', 'g_time', 'l_time', 'long_target', 'short_target', 'time']].head(10)"
   ]
  },
  {
   "cell_type": "code",
   "execution_count": 27,
   "metadata": {},
   "outputs": [
    {
     "data": {
      "text/plain": [
       "0    01:00:00\n",
       "9    06:00:00\n",
       "10   04:00:00\n",
       "11   03:00:00\n",
       "12   01:00:00\n",
       "Name: time_diff, dtype: timedelta64[ns]"
      ]
     },
     "execution_count": 27,
     "metadata": {},
     "output_type": "execute_result"
    }
   ],
   "source": [
    "shorts = good_data[good_data['long_target'] == 1].copy()\n",
    "shorts['time'] = pd.to_datetime(shorts['time'])\n",
    "shorts['g_time'] = pd.to_datetime(shorts['g_time'] )\n",
    "shorts['time_diff'] = shorts['g_time'] - shorts['time']\n",
    "shorts['time_diff'].head() "
   ]
  },
  {
   "cell_type": "code",
   "execution_count": 28,
   "metadata": {},
   "outputs": [],
   "source": [
    "shorts['time_diff'] = shorts['time_diff']  / np.timedelta64(1, 'h')"
   ]
  },
  {
   "cell_type": "code",
   "execution_count": 29,
   "metadata": {},
   "outputs": [
    {
     "data": {
      "text/plain": [
       "count    6930.000000\n",
       "mean        7.841703\n",
       "std         5.598684\n",
       "min         1.000000\n",
       "25%         3.000000\n",
       "50%         6.000000\n",
       "75%        11.000000\n",
       "max        24.000000\n",
       "Name: time_diff, dtype: float64"
      ]
     },
     "execution_count": 29,
     "metadata": {},
     "output_type": "execute_result"
    }
   ],
   "source": [
    "shorts['time_diff'].describe()"
   ]
  },
  {
   "cell_type": "code",
   "execution_count": null,
   "metadata": {},
   "outputs": [],
   "source": []
  }
 ],
 "metadata": {
  "hide_input": false,
  "kernelspec": {
   "display_name": "Python 3",
   "language": "python",
   "name": "python3"
  },
  "language_info": {
   "codemirror_mode": {
    "name": "ipython",
    "version": 3
   },
   "file_extension": ".py",
   "mimetype": "text/x-python",
   "name": "python",
   "nbconvert_exporter": "python",
   "pygments_lexer": "ipython3",
   "version": "3.6.2"
  },
  "toc": {
   "base_numbering": 1,
   "nav_menu": {},
   "number_sections": true,
   "sideBar": true,
   "skip_h1_title": false,
   "title_cell": "Table of Contents",
   "title_sidebar": "Contents",
   "toc_cell": false,
   "toc_position": {},
   "toc_section_display": true,
   "toc_window_display": false
  }
 },
 "nbformat": 4,
 "nbformat_minor": 2
}
