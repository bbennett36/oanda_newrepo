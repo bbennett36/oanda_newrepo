{
 "cells": [
  {
   "cell_type": "code",
   "execution_count": 1,
   "metadata": {
    "collapsed": true
   },
   "outputs": [],
   "source": [
    "import pandas as pd\n",
    "import requests\n",
    "import json\n",
    "import requests\n",
    "import time\n",
    "from datetime import datetime\n",
    "from IPython.display import display, clear_output\n",
    "import numpy as np"
   ]
  },
  {
   "cell_type": "code",
   "execution_count": 2,
   "metadata": {},
   "outputs": [],
   "source": [
    "pd.set_option('display.max_columns', None)\n",
    "pd.set_option('display.max_rows', None)"
   ]
  },
  {
   "cell_type": "code",
   "execution_count": 3,
   "metadata": {},
   "outputs": [
    {
     "data": {
      "text/plain": [
       "1.25"
      ]
     },
     "execution_count": 3,
     "metadata": {},
     "output_type": "execute_result"
    }
   ],
   "source": [
    "(0.001 / 0.0001)*(1000/8000)"
   ]
  },
  {
   "cell_type": "code",
   "execution_count": 4,
   "metadata": {},
   "outputs": [],
   "source": [
    "target_diff = 0.001\n",
    "stop_loss = 0.001\n",
    "units = 2000\n",
    "profit = (target_diff / 0.0001)*(units/8000)\n",
    "loss = (stop_loss / 0.0001)*(units/8000)"
   ]
  },
  {
   "cell_type": "code",
   "execution_count": 5,
   "metadata": {},
   "outputs": [
    {
     "data": {
      "text/plain": [
       "(16423, 595)"
      ]
     },
     "execution_count": 5,
     "metadata": {},
     "output_type": "execute_result"
    }
   ],
   "source": [
    "filename_date = '100519'\n",
    "\n",
    "layout = pd.read_csv('../data/' + filename_date + 'mds_out_layout.csv')\n",
    "layout = layout['features'].values\n",
    "data = pd.read_csv('../data/' + filename_date + 'mds_out.csv', usecols=layout)\n",
    "data.shape"
   ]
  },
  {
   "cell_type": "code",
   "execution_count": 6,
   "metadata": {},
   "outputs": [
    {
     "data": {
      "text/plain": [
       "'2017-01-19 21:00:00'"
      ]
     },
     "execution_count": 6,
     "metadata": {},
     "output_type": "execute_result"
    }
   ],
   "source": [
    "data['time'].min()"
   ]
  },
  {
   "cell_type": "code",
   "execution_count": 7,
   "metadata": {},
   "outputs": [
    {
     "data": {
      "text/plain": [
       "'2019-09-24 19:00:00'"
      ]
     },
     "execution_count": 7,
     "metadata": {},
     "output_type": "execute_result"
    }
   ],
   "source": [
    "data['time'].max()"
   ]
  },
  {
   "cell_type": "code",
   "execution_count": 8,
   "metadata": {},
   "outputs": [],
   "source": [
    "num_cols = ['ask_c', 'bid_c']"
   ]
  },
  {
   "cell_type": "code",
   "execution_count": 9,
   "metadata": {},
   "outputs": [],
   "source": [
    "data['time'] = pd.to_datetime(data['time'])\n",
    "data = data.sort_values(by='time')\n",
    "data = data.drop_duplicates(subset=['time'])\n",
    "data = data.reset_index(drop=True)\n",
    "data['index'] = data.index\n",
    "for n in num_cols:\n",
    "    data[n] = pd.to_numeric(data[n])\n",
    "data['target_sl'] = data['ask_c'] + stop_loss\n",
    "data['target_tp'] = data['bid_c'] - target_diff\n",
    "data = data[~data['target_tp'].isnull()]"
   ]
  },
  {
   "cell_type": "code",
   "execution_count": 10,
   "metadata": {},
   "outputs": [
    {
     "data": {
      "text/plain": [
       "count    16423.000000\n",
       "mean         0.002211\n",
       "std          0.000139\n",
       "min          0.002100\n",
       "25%          0.002160\n",
       "50%          0.002180\n",
       "75%          0.002200\n",
       "max          0.003700\n",
       "Name: diff, dtype: float64"
      ]
     },
     "execution_count": 10,
     "metadata": {},
     "output_type": "execute_result"
    }
   ],
   "source": [
    "data['diff'] = data['target_tp'] - data['target_sl']\n",
    "data['diff'].describe()"
   ]
  },
  {
   "cell_type": "code",
   "execution_count": 11,
   "metadata": {},
   "outputs": [],
   "source": [
    "# data[['index', 'time', 'volume', 'bid_o', 'bid_h','bid_l','bid_c', 'ask_o', 'ask_h','ask_l','ask_c', 'ask_prev_c', 'bid_prev_c', 'target_tp', 'target_sl', 'g', 'l', 'l_time']].head(40)"
   ]
  },
  {
   "cell_type": "code",
   "execution_count": 12,
   "metadata": {},
   "outputs": [],
   "source": [
    "data['g']=np.NaN\n",
    "data['l']=np.NaN\n",
    "deep=len(data.index)\n",
    "irange = data['index'].values\n",
    "tp_good = False\n",
    "sl_good = False\n",
    "\n",
    "for i in irange:\n",
    "\n",
    "#     while tp_good == False and sl_good == False:\n",
    "    show = (i / len(irange))*100\n",
    "    show = str(round(show, 2))\n",
    "    show = show + ' - ' + str(datetime.now())\n",
    "    display(show)\n",
    "    tp_good = False\n",
    "    sl_good = False\n",
    "#     print(i)\n",
    "\n",
    "    for r in irange:\n",
    "#             print(i, r, tp_good, sl_good)\n",
    "        if r > i:\n",
    "            if tp_good == False and sl_good == False:\n",
    "                if  data[data['index'] == r]['ask_h'].values[0] >= data[data['index'] == i]['target_sl'].values[0] and not tp_good:\n",
    "                    data.at[i, 'g'] = data[data['index'] == r]['index'].values[0]\n",
    "                    data.at[i, 'g_time'] = data[data['index'] == r]['time'].values[0]\n",
    "                    tp_good = True\n",
    "                else:\n",
    "                    data.at[i, 'g'] = None\n",
    "                    data.at[i, 'g_time'] =None\n",
    "\n",
    "                if  data[data['index'] == r]['bid_l'].values[0] <= data[data['index'] == i]['target_tp'].values[0] and not sl_good:\n",
    "                    data.at[i, 'l'] = data[data['index'] == r]['index'].values[0]\n",
    "                    data.at[i, 'l_time'] = data[data['index'] == r]['time'].values[0]\n",
    "                    sl_good = True\n",
    "                else:  \n",
    "                    data.at[i, 'l'] = None     \n",
    "                    data.at[i, 'l_time'] = None  \n",
    "            else:\n",
    "                break\n",
    "\n",
    "    clear_output()    \n",
    "\n",
    "#     print(datetime.now())"
   ]
  },
  {
   "cell_type": "code",
   "execution_count": 13,
   "metadata": {},
   "outputs": [],
   "source": [
    "# # START WITH FIRST TARGET INDEX BEC TIME ISSUE\n",
    "\n",
    "# if tp_good:\n",
    "#     target_index = data['g'].max()\n",
    "#     good_data = data[~data['g'].isnull()].copy()\n",
    "\n",
    "# if sl_good:\n",
    "#     target_index = data['l'].max()\n",
    "#     good_data = data[~data['g'].isnull()].copy()\n",
    "\n",
    "# tp_good = False\n",
    "# sl_good = False\n",
    "# done = False\n",
    "\n",
    "# counter = 1\n",
    "# while not done:\n",
    "#     show = (target_index / len(irange))*100\n",
    "#     show = str(round(show, 2))\n",
    "#     show = show + ' - ' + str(datetime.now())\n",
    "#     display(show)\n",
    "#     tp_good = False\n",
    "#     sl_good = False\n",
    "\n",
    "#     for r in irange:\n",
    "#         if r > target_index:\n",
    "#             if tp_good == False and sl_good == False:\n",
    "#                 if  data[data['index'] == r]['ask_h'].values[0] >= data[data['index'] == target_index]['target_tp'].values[0] and not tp_good:\n",
    "#                     data.at[target_index, 'g'] = data[data['index'] == r]['index'].values[0]\n",
    "#                     data.at[target_index, 'g_time'] = data[data['index'] == r]['time'].values[0]\n",
    "#                     tp_good = True\n",
    "#                 else:\n",
    "#                     data.at[target_index, 'g'] = None\n",
    "#                     data.at[target_index, 'g_time'] =None\n",
    "\n",
    "\n",
    "#                 if  data[data['index'] == r]['bid_l'].values[0] <= data[data['index'] == target_index]['target_sl'].values[0] and not sl_good:\n",
    "#                     data.at[target_index, 'l'] = data[data['index'] == r]['index'].values[0]\n",
    "#                     data.at[target_index, 'l_time'] = data[data['index'] == r]['time'].values[0]\n",
    "#                     sl_good = True\n",
    "\n",
    "#                 else:  \n",
    "#                     data.at[i, 'l'] = None     \n",
    "#                     data.at[i, 'l_time'] = None  \n",
    "#             else:\n",
    "#                 break\n",
    "    \n",
    "#     if tp_good == True:\n",
    "#         target_index = data['g'].max()\n",
    "#         try:\n",
    "#             temp = data[data['g'] == target_index].copy()\n",
    "#             temp2 = data[data['index'] == target_index].copy()\n",
    "\n",
    "#             if counter == 1:\n",
    "#                 good_data = temp\n",
    "#                 counter += 1\n",
    "#             else:\n",
    "#                 good_data = good_data.append(temp)\n",
    "\n",
    "#             if target_index == data['index'].max():\n",
    "#                 done = True\n",
    "#         except IndexError:\n",
    "#             done = True\n",
    "\n",
    "#     elif sl_good == True:\n",
    "#         target_index = data['l'].max()\n",
    "#         try:\n",
    "#             temp = data[data['l'] == target_index].copy()\n",
    "#             temp2 = data[data['index'] == target_index].copy()\n",
    "\n",
    "#             if counter == 1:\n",
    "#                 good_data = temp\n",
    "#                 counter += 1\n",
    "#             else:\n",
    "#                 good_data = good_data.append(temp)\n",
    "\n",
    "#             if target_index == data['index'].max():\n",
    "#                 done = True\n",
    "#         except IndexError:\n",
    "#             done = True\n",
    "            \n",
    "#     else:\n",
    "#         done = True\n",
    "\n",
    "\n",
    "#     clear_output()    "
   ]
  },
  {
   "cell_type": "code",
   "execution_count": 14,
   "metadata": {},
   "outputs": [
    {
     "data": {
      "text/plain": [
       "(16419, 603)"
      ]
     },
     "execution_count": 14,
     "metadata": {},
     "output_type": "execute_result"
    }
   ],
   "source": [
    "good_mask = (data['g'].isnull()) & (data['l'].isnull())\n",
    "good_data = data[~good_mask].copy()\n",
    "good_data.shape"
   ]
  },
  {
   "cell_type": "code",
   "execution_count": 15,
   "metadata": {},
   "outputs": [
    {
     "data": {
      "text/html": [
       "<div>\n",
       "<style>\n",
       "    .dataframe thead tr:only-child th {\n",
       "        text-align: right;\n",
       "    }\n",
       "\n",
       "    .dataframe thead th {\n",
       "        text-align: left;\n",
       "    }\n",
       "\n",
       "    .dataframe tbody tr th {\n",
       "        vertical-align: top;\n",
       "    }\n",
       "</style>\n",
       "<table border=\"1\" class=\"dataframe\">\n",
       "  <thead>\n",
       "    <tr style=\"text-align: right;\">\n",
       "      <th></th>\n",
       "      <th>time</th>\n",
       "      <th>volume</th>\n",
       "      <th>bid_o</th>\n",
       "      <th>bid_h</th>\n",
       "      <th>bid_l</th>\n",
       "      <th>bid_c</th>\n",
       "      <th>ask_o</th>\n",
       "      <th>ask_h</th>\n",
       "      <th>ask_l</th>\n",
       "      <th>ask_c</th>\n",
       "      <th>target_tp</th>\n",
       "      <th>target_sl</th>\n",
       "      <th>g</th>\n",
       "      <th>l</th>\n",
       "      <th>l_time</th>\n",
       "    </tr>\n",
       "  </thead>\n",
       "  <tbody>\n",
       "    <tr>\n",
       "      <th>0</th>\n",
       "      <td>2017-01-19 21:00:00</td>\n",
       "      <td>3959</td>\n",
       "      <td>1.33196</td>\n",
       "      <td>1.33261</td>\n",
       "      <td>1.33176</td>\n",
       "      <td>1.33252</td>\n",
       "      <td>1.33229</td>\n",
       "      <td>1.33284</td>\n",
       "      <td>1.33201</td>\n",
       "      <td>1.33278</td>\n",
       "      <td>1.33378</td>\n",
       "      <td>1.33152</td>\n",
       "      <td>NaN</td>\n",
       "      <td>1.0</td>\n",
       "      <td>2017-01-19 22:00:00</td>\n",
       "    </tr>\n",
       "    <tr>\n",
       "      <th>1</th>\n",
       "      <td>2017-01-19 22:00:00</td>\n",
       "      <td>2616</td>\n",
       "      <td>1.33257</td>\n",
       "      <td>1.33257</td>\n",
       "      <td>1.32843</td>\n",
       "      <td>1.32871</td>\n",
       "      <td>1.33282</td>\n",
       "      <td>1.33283</td>\n",
       "      <td>1.32867</td>\n",
       "      <td>1.32899</td>\n",
       "      <td>1.32999</td>\n",
       "      <td>1.32771</td>\n",
       "      <td>2.0</td>\n",
       "      <td>NaN</td>\n",
       "      <td>NaT</td>\n",
       "    </tr>\n",
       "    <tr>\n",
       "      <th>2</th>\n",
       "      <td>2017-01-19 23:00:00</td>\n",
       "      <td>1768</td>\n",
       "      <td>1.32864</td>\n",
       "      <td>1.33050</td>\n",
       "      <td>1.32833</td>\n",
       "      <td>1.32970</td>\n",
       "      <td>1.32895</td>\n",
       "      <td>1.33073</td>\n",
       "      <td>1.32859</td>\n",
       "      <td>1.32993</td>\n",
       "      <td>1.33093</td>\n",
       "      <td>1.32870</td>\n",
       "      <td>NaN</td>\n",
       "      <td>3.0</td>\n",
       "      <td>2017-01-20 00:00:00</td>\n",
       "    </tr>\n",
       "    <tr>\n",
       "      <th>3</th>\n",
       "      <td>2017-01-20 00:00:00</td>\n",
       "      <td>975</td>\n",
       "      <td>1.32972</td>\n",
       "      <td>1.32976</td>\n",
       "      <td>1.32851</td>\n",
       "      <td>1.32941</td>\n",
       "      <td>1.32991</td>\n",
       "      <td>1.32996</td>\n",
       "      <td>1.32877</td>\n",
       "      <td>1.32965</td>\n",
       "      <td>1.33065</td>\n",
       "      <td>1.32841</td>\n",
       "      <td>5.0</td>\n",
       "      <td>NaN</td>\n",
       "      <td>NaT</td>\n",
       "    </tr>\n",
       "    <tr>\n",
       "      <th>4</th>\n",
       "      <td>2017-01-20 01:00:00</td>\n",
       "      <td>1385</td>\n",
       "      <td>1.32945</td>\n",
       "      <td>1.33026</td>\n",
       "      <td>1.32945</td>\n",
       "      <td>1.32989</td>\n",
       "      <td>1.32967</td>\n",
       "      <td>1.33051</td>\n",
       "      <td>1.32966</td>\n",
       "      <td>1.33012</td>\n",
       "      <td>1.33112</td>\n",
       "      <td>1.32889</td>\n",
       "      <td>8.0</td>\n",
       "      <td>NaN</td>\n",
       "      <td>NaT</td>\n",
       "    </tr>\n",
       "    <tr>\n",
       "      <th>5</th>\n",
       "      <td>2017-01-20 02:00:00</td>\n",
       "      <td>2135</td>\n",
       "      <td>1.32991</td>\n",
       "      <td>1.33077</td>\n",
       "      <td>1.32966</td>\n",
       "      <td>1.33060</td>\n",
       "      <td>1.33010</td>\n",
       "      <td>1.33102</td>\n",
       "      <td>1.32988</td>\n",
       "      <td>1.33084</td>\n",
       "      <td>1.33184</td>\n",
       "      <td>1.32960</td>\n",
       "      <td>NaN</td>\n",
       "      <td>6.0</td>\n",
       "      <td>2017-01-20 03:00:00</td>\n",
       "    </tr>\n",
       "    <tr>\n",
       "      <th>6</th>\n",
       "      <td>2017-01-20 03:00:00</td>\n",
       "      <td>2472</td>\n",
       "      <td>1.33059</td>\n",
       "      <td>1.33060</td>\n",
       "      <td>1.32933</td>\n",
       "      <td>1.32987</td>\n",
       "      <td>1.33085</td>\n",
       "      <td>1.33086</td>\n",
       "      <td>1.32959</td>\n",
       "      <td>1.33012</td>\n",
       "      <td>1.33112</td>\n",
       "      <td>1.32887</td>\n",
       "      <td>8.0</td>\n",
       "      <td>NaN</td>\n",
       "      <td>NaT</td>\n",
       "    </tr>\n",
       "    <tr>\n",
       "      <th>7</th>\n",
       "      <td>2017-01-20 04:00:00</td>\n",
       "      <td>2779</td>\n",
       "      <td>1.32990</td>\n",
       "      <td>1.33036</td>\n",
       "      <td>1.32898</td>\n",
       "      <td>1.33005</td>\n",
       "      <td>1.33014</td>\n",
       "      <td>1.33059</td>\n",
       "      <td>1.32918</td>\n",
       "      <td>1.33028</td>\n",
       "      <td>1.33128</td>\n",
       "      <td>1.32905</td>\n",
       "      <td>8.0</td>\n",
       "      <td>NaN</td>\n",
       "      <td>NaT</td>\n",
       "    </tr>\n",
       "    <tr>\n",
       "      <th>8</th>\n",
       "      <td>2017-01-20 05:00:00</td>\n",
       "      <td>2430</td>\n",
       "      <td>1.33006</td>\n",
       "      <td>1.33244</td>\n",
       "      <td>1.32925</td>\n",
       "      <td>1.33242</td>\n",
       "      <td>1.33028</td>\n",
       "      <td>1.33266</td>\n",
       "      <td>1.32949</td>\n",
       "      <td>1.33264</td>\n",
       "      <td>1.33364</td>\n",
       "      <td>1.33142</td>\n",
       "      <td>9.0</td>\n",
       "      <td>NaN</td>\n",
       "      <td>NaT</td>\n",
       "    </tr>\n",
       "    <tr>\n",
       "      <th>9</th>\n",
       "      <td>2017-01-20 06:00:00</td>\n",
       "      <td>2937</td>\n",
       "      <td>1.33238</td>\n",
       "      <td>1.33436</td>\n",
       "      <td>1.33229</td>\n",
       "      <td>1.33367</td>\n",
       "      <td>1.33259</td>\n",
       "      <td>1.33459</td>\n",
       "      <td>1.33251</td>\n",
       "      <td>1.33388</td>\n",
       "      <td>1.33488</td>\n",
       "      <td>1.33267</td>\n",
       "      <td>10.0</td>\n",
       "      <td>NaN</td>\n",
       "      <td>NaT</td>\n",
       "    </tr>\n",
       "  </tbody>\n",
       "</table>\n",
       "</div>"
      ],
      "text/plain": [
       "                 time  volume    bid_o    bid_h    bid_l    bid_c    ask_o  \\\n",
       "0 2017-01-19 21:00:00    3959  1.33196  1.33261  1.33176  1.33252  1.33229   \n",
       "1 2017-01-19 22:00:00    2616  1.33257  1.33257  1.32843  1.32871  1.33282   \n",
       "2 2017-01-19 23:00:00    1768  1.32864  1.33050  1.32833  1.32970  1.32895   \n",
       "3 2017-01-20 00:00:00     975  1.32972  1.32976  1.32851  1.32941  1.32991   \n",
       "4 2017-01-20 01:00:00    1385  1.32945  1.33026  1.32945  1.32989  1.32967   \n",
       "5 2017-01-20 02:00:00    2135  1.32991  1.33077  1.32966  1.33060  1.33010   \n",
       "6 2017-01-20 03:00:00    2472  1.33059  1.33060  1.32933  1.32987  1.33085   \n",
       "7 2017-01-20 04:00:00    2779  1.32990  1.33036  1.32898  1.33005  1.33014   \n",
       "8 2017-01-20 05:00:00    2430  1.33006  1.33244  1.32925  1.33242  1.33028   \n",
       "9 2017-01-20 06:00:00    2937  1.33238  1.33436  1.33229  1.33367  1.33259   \n",
       "\n",
       "     ask_h    ask_l    ask_c  target_tp  target_sl     g    l  \\\n",
       "0  1.33284  1.33201  1.33278    1.33378    1.33152   NaN  1.0   \n",
       "1  1.33283  1.32867  1.32899    1.32999    1.32771   2.0  NaN   \n",
       "2  1.33073  1.32859  1.32993    1.33093    1.32870   NaN  3.0   \n",
       "3  1.32996  1.32877  1.32965    1.33065    1.32841   5.0  NaN   \n",
       "4  1.33051  1.32966  1.33012    1.33112    1.32889   8.0  NaN   \n",
       "5  1.33102  1.32988  1.33084    1.33184    1.32960   NaN  6.0   \n",
       "6  1.33086  1.32959  1.33012    1.33112    1.32887   8.0  NaN   \n",
       "7  1.33059  1.32918  1.33028    1.33128    1.32905   8.0  NaN   \n",
       "8  1.33266  1.32949  1.33264    1.33364    1.33142   9.0  NaN   \n",
       "9  1.33459  1.33251  1.33388    1.33488    1.33267  10.0  NaN   \n",
       "\n",
       "               l_time  \n",
       "0 2017-01-19 22:00:00  \n",
       "1                 NaT  \n",
       "2 2017-01-20 00:00:00  \n",
       "3                 NaT  \n",
       "4                 NaT  \n",
       "5 2017-01-20 03:00:00  \n",
       "6                 NaT  \n",
       "7                 NaT  \n",
       "8                 NaT  \n",
       "9                 NaT  "
      ]
     },
     "execution_count": 15,
     "metadata": {},
     "output_type": "execute_result"
    }
   ],
   "source": [
    "good_data[['time', 'volume', 'bid_o', 'bid_h','bid_l','bid_c', 'ask_o', 'ask_h','ask_l','ask_c', 'target_tp', 'target_sl', 'g', 'l', 'l_time']].head(10)"
   ]
  },
  {
   "cell_type": "code",
   "execution_count": 16,
   "metadata": {},
   "outputs": [],
   "source": [
    "def get_target(value):\n",
    "    if value > 0:\n",
    "        return 1\n",
    "    else:\n",
    "        return 0"
   ]
  },
  {
   "cell_type": "code",
   "execution_count": 17,
   "metadata": {},
   "outputs": [
    {
     "name": "stdout",
     "output_type": "stream",
     "text": [
      "1    8687\n",
      "0    7732\n",
      "Name: long_target, dtype: int64\n",
      "\n",
      "1    8493\n",
      "0    7926\n",
      "Name: short_target, dtype: int64\n"
     ]
    }
   ],
   "source": [
    "# max_date = data['time'].max()\n",
    "good_data['g_time'] = pd.to_datetime(good_data['g_time'])\n",
    "good_data['l_time'] = pd.to_datetime(good_data['l_time'])\n",
    "\n",
    "good_data['g'] = pd.to_numeric(good_data['g'])\n",
    "good_data['l'] = pd.to_numeric(good_data['l'])\n",
    "\n",
    "good_data['g'] = good_data['g'].fillna(0)\n",
    "good_data['l'] = good_data['l'].fillna(0)\n",
    "\n",
    "# data['g'] = data['g'].fillna(data['index'].max())\n",
    "# data['l'] = data['l'].fillna(data['index'].max())\n",
    "\n",
    "good_data['long_target'] = good_data['g'].apply(get_target)\n",
    "good_data['short_target'] = good_data['l'].apply(get_target)\n",
    "\n",
    "print(good_data['long_target'].value_counts())\n",
    "print()\n",
    "print(good_data['short_target'].value_counts())"
   ]
  },
  {
   "cell_type": "code",
   "execution_count": 18,
   "metadata": {},
   "outputs": [
    {
     "data": {
      "text/plain": [
       "30303"
      ]
     },
     "execution_count": 18,
     "metadata": {},
     "output_type": "execute_result"
    }
   ],
   "source": [
    "10101*3"
   ]
  },
  {
   "cell_type": "code",
   "execution_count": 19,
   "metadata": {},
   "outputs": [
    {
     "data": {
      "text/plain": [
       "28350.0"
      ]
     },
     "execution_count": 19,
     "metadata": {},
     "output_type": "execute_result"
    }
   ],
   "source": [
    "6300*4.5"
   ]
  },
  {
   "cell_type": "code",
   "execution_count": 20,
   "metadata": {},
   "outputs": [],
   "source": [
    "# good_data['g_time_shift'] = good_data['g_time'].shift(1)\n",
    "# good_data['g_time_shift'] = pd.to_datetime(good_data['g_time_shift'] )\n",
    "good_data['time'] = pd.to_datetime(good_data['time'])\n",
    "# good_data['g_diff'] = good_data['g_time'] - good_data['g_time_shift']\n",
    "# good_data['g_diff'] = good_data['g_diff'].dt.seconds"
   ]
  },
  {
   "cell_type": "code",
   "execution_count": 22,
   "metadata": {},
   "outputs": [
    {
     "data": {
      "text/plain": [
       "(9466, 607)"
      ]
     },
     "execution_count": 22,
     "metadata": {},
     "output_type": "execute_result"
    }
   ],
   "source": [
    "good_data['order'] = good_data.index\n",
    "t1 = good_data[good_data['g'] != 0.0].drop_duplicates(subset='g')\n",
    "t2 = good_data[good_data['l'] != 0.0].drop_duplicates(subset='l')\n",
    "good_data = pd.concat([t1, t2], axis=0)\n",
    "good_data= good_data.sort_values(by='order')\n",
    "good_data['same_time'] = good_data['g_time'] == good_data['l_time']\n",
    "good_data['same_time'] = good_data['same_time'].apply(lambda x: 1 if x else 0)\n",
    "good_data = good_data[good_data['same_time'] == 0]\n",
    "good_data.shape"
   ]
  },
  {
   "cell_type": "code",
   "execution_count": 23,
   "metadata": {},
   "outputs": [
    {
     "name": "stdout",
     "output_type": "stream",
     "text": [
      "1    4740\n",
      "0    4726\n",
      "Name: long_target, dtype: int64\n",
      "(4740, 607)\n",
      "0    7089\n",
      "1    2377\n",
      "Name: long_target, dtype: int64\n"
     ]
    },
    {
     "data": {
      "text/plain": [
       "(9466, 607)"
      ]
     },
     "execution_count": 23,
     "metadata": {},
     "output_type": "execute_result"
    }
   ],
   "source": [
    "pos = good_data[good_data['short_target'] == 1].copy()\n",
    "print(pos.shape)\n",
    "neg = good_data[good_data['short_target'] == 0].copy()\n",
    "\n",
    "pos['time_diff'] = (pos['l_time'] - pos['time']) / np.timedelta64(1, 'h')\n",
    "pos_bad = pos[pos['time_diff'] > 1].copy()\n",
    "pos_bad['short_target'] = 0\n",
    "\n",
    "pos = pos[pos['time_diff'] <= 1]\n",
    "\n",
    "pos.drop(['time_diff'], axis=1, inplace=True)\n",
    "pos_bad.drop(['time_diff'], axis=1, inplace=True)\n",
    "\n",
    "good_data = pd.concat([pos, neg, pos_bad], axis=0)\n",
    "good_data.shape"
   ]
  },
  {
   "cell_type": "code",
   "execution_count": 24,
   "metadata": {},
   "outputs": [],
   "source": [
    "good_data.to_csv('../data/' + filename_date + '_mds_out_final_v7_USDCAD_short.csv', index=False, header=True)"
   ]
  },
  {
   "cell_type": "code",
   "execution_count": 25,
   "metadata": {},
   "outputs": [
    {
     "data": {
      "text/html": [
       "<div>\n",
       "<style>\n",
       "    .dataframe thead tr:only-child th {\n",
       "        text-align: right;\n",
       "    }\n",
       "\n",
       "    .dataframe thead th {\n",
       "        text-align: left;\n",
       "    }\n",
       "\n",
       "    .dataframe tbody tr th {\n",
       "        vertical-align: top;\n",
       "    }\n",
       "</style>\n",
       "<table border=\"1\" class=\"dataframe\">\n",
       "  <thead>\n",
       "    <tr style=\"text-align: right;\">\n",
       "      <th></th>\n",
       "      <th>time</th>\n",
       "      <th>target_tp</th>\n",
       "      <th>target_sl</th>\n",
       "      <th>g</th>\n",
       "      <th>l</th>\n",
       "      <th>g_time</th>\n",
       "      <th>l_time</th>\n",
       "      <th>long_target</th>\n",
       "      <th>short_target</th>\n",
       "    </tr>\n",
       "  </thead>\n",
       "  <tbody>\n",
       "    <tr>\n",
       "      <th>1</th>\n",
       "      <td>2017-01-19 22:00:00</td>\n",
       "      <td>1.32999</td>\n",
       "      <td>1.32771</td>\n",
       "      <td>2.0</td>\n",
       "      <td>0.0</td>\n",
       "      <td>2017-01-19 23:00:00</td>\n",
       "      <td>NaT</td>\n",
       "      <td>1</td>\n",
       "      <td>0</td>\n",
       "    </tr>\n",
       "    <tr>\n",
       "      <th>8</th>\n",
       "      <td>2017-01-20 05:00:00</td>\n",
       "      <td>1.33364</td>\n",
       "      <td>1.33142</td>\n",
       "      <td>9.0</td>\n",
       "      <td>0.0</td>\n",
       "      <td>2017-01-20 06:00:00</td>\n",
       "      <td>NaT</td>\n",
       "      <td>1</td>\n",
       "      <td>0</td>\n",
       "    </tr>\n",
       "    <tr>\n",
       "      <th>9</th>\n",
       "      <td>2017-01-20 06:00:00</td>\n",
       "      <td>1.33488</td>\n",
       "      <td>1.33267</td>\n",
       "      <td>10.0</td>\n",
       "      <td>0.0</td>\n",
       "      <td>2017-01-20 07:00:00</td>\n",
       "      <td>NaT</td>\n",
       "      <td>1</td>\n",
       "      <td>0</td>\n",
       "    </tr>\n",
       "    <tr>\n",
       "      <th>10</th>\n",
       "      <td>2017-01-20 07:00:00</td>\n",
       "      <td>1.33693</td>\n",
       "      <td>1.33471</td>\n",
       "      <td>11.0</td>\n",
       "      <td>0.0</td>\n",
       "      <td>2017-01-20 08:00:00</td>\n",
       "      <td>NaT</td>\n",
       "      <td>1</td>\n",
       "      <td>0</td>\n",
       "    </tr>\n",
       "    <tr>\n",
       "      <th>15</th>\n",
       "      <td>2017-01-20 12:00:00</td>\n",
       "      <td>1.33410</td>\n",
       "      <td>1.33194</td>\n",
       "      <td>16.0</td>\n",
       "      <td>0.0</td>\n",
       "      <td>2017-01-20 13:00:00</td>\n",
       "      <td>NaT</td>\n",
       "      <td>1</td>\n",
       "      <td>0</td>\n",
       "    </tr>\n",
       "  </tbody>\n",
       "</table>\n",
       "</div>"
      ],
      "text/plain": [
       "                  time  target_tp  target_sl     g    l              g_time  \\\n",
       "1  2017-01-19 22:00:00    1.32999    1.32771   2.0  0.0 2017-01-19 23:00:00   \n",
       "8  2017-01-20 05:00:00    1.33364    1.33142   9.0  0.0 2017-01-20 06:00:00   \n",
       "9  2017-01-20 06:00:00    1.33488    1.33267  10.0  0.0 2017-01-20 07:00:00   \n",
       "10 2017-01-20 07:00:00    1.33693    1.33471  11.0  0.0 2017-01-20 08:00:00   \n",
       "15 2017-01-20 12:00:00    1.33410    1.33194  16.0  0.0 2017-01-20 13:00:00   \n",
       "\n",
       "   l_time  long_target  short_target  \n",
       "1     NaT            1             0  \n",
       "8     NaT            1             0  \n",
       "9     NaT            1             0  \n",
       "10    NaT            1             0  \n",
       "15    NaT            1             0  "
      ]
     },
     "execution_count": 25,
     "metadata": {},
     "output_type": "execute_result"
    }
   ],
   "source": [
    "good_data[['time', 'target_tp', 'target_sl', 'g', 'l', 'g_time', 'l_time', 'long_target', 'short_target']].head()"
   ]
  },
  {
   "cell_type": "code",
   "execution_count": 26,
   "metadata": {},
   "outputs": [
    {
     "data": {
      "text/html": [
       "<div>\n",
       "<style>\n",
       "    .dataframe thead tr:only-child th {\n",
       "        text-align: right;\n",
       "    }\n",
       "\n",
       "    .dataframe thead th {\n",
       "        text-align: left;\n",
       "    }\n",
       "\n",
       "    .dataframe tbody tr th {\n",
       "        vertical-align: top;\n",
       "    }\n",
       "</style>\n",
       "<table border=\"1\" class=\"dataframe\">\n",
       "  <thead>\n",
       "    <tr style=\"text-align: right;\">\n",
       "      <th></th>\n",
       "      <th>time</th>\n",
       "      <th>target_tp</th>\n",
       "      <th>target_sl</th>\n",
       "      <th>g</th>\n",
       "      <th>l</th>\n",
       "      <th>g_time</th>\n",
       "      <th>l_time</th>\n",
       "      <th>long_target</th>\n",
       "      <th>short_target</th>\n",
       "    </tr>\n",
       "  </thead>\n",
       "  <tbody>\n",
       "    <tr>\n",
       "      <th>16349</th>\n",
       "      <td>2019-09-19 19:00:00</td>\n",
       "      <td>1.32683</td>\n",
       "      <td>1.32458</td>\n",
       "      <td>16352.0</td>\n",
       "      <td>0.0</td>\n",
       "      <td>2019-09-19 22:00:00</td>\n",
       "      <td>NaT</td>\n",
       "      <td>0</td>\n",
       "      <td>0</td>\n",
       "    </tr>\n",
       "    <tr>\n",
       "      <th>16371</th>\n",
       "      <td>2019-09-20 17:00:00</td>\n",
       "      <td>1.32787</td>\n",
       "      <td>1.32487</td>\n",
       "      <td>16381.0</td>\n",
       "      <td>0.0</td>\n",
       "      <td>2019-09-23 02:00:00</td>\n",
       "      <td>NaT</td>\n",
       "      <td>0</td>\n",
       "      <td>0</td>\n",
       "    </tr>\n",
       "    <tr>\n",
       "      <th>16372</th>\n",
       "      <td>2019-09-22 17:00:00</td>\n",
       "      <td>1.32752</td>\n",
       "      <td>1.32452</td>\n",
       "      <td>16377.0</td>\n",
       "      <td>0.0</td>\n",
       "      <td>2019-09-22 22:00:00</td>\n",
       "      <td>NaT</td>\n",
       "      <td>0</td>\n",
       "      <td>0</td>\n",
       "    </tr>\n",
       "    <tr>\n",
       "      <th>16373</th>\n",
       "      <td>2019-09-22 18:00:00</td>\n",
       "      <td>1.32801</td>\n",
       "      <td>1.32539</td>\n",
       "      <td>16383.0</td>\n",
       "      <td>0.0</td>\n",
       "      <td>2019-09-23 04:00:00</td>\n",
       "      <td>NaT</td>\n",
       "      <td>0</td>\n",
       "      <td>0</td>\n",
       "    </tr>\n",
       "    <tr>\n",
       "      <th>16388</th>\n",
       "      <td>2019-09-23 09:00:00</td>\n",
       "      <td>1.32830</td>\n",
       "      <td>1.32614</td>\n",
       "      <td>16390.0</td>\n",
       "      <td>0.0</td>\n",
       "      <td>2019-09-23 11:00:00</td>\n",
       "      <td>NaT</td>\n",
       "      <td>0</td>\n",
       "      <td>0</td>\n",
       "    </tr>\n",
       "    <tr>\n",
       "      <th>16395</th>\n",
       "      <td>2019-09-23 16:00:00</td>\n",
       "      <td>1.32682</td>\n",
       "      <td>1.32463</td>\n",
       "      <td>16397.0</td>\n",
       "      <td>0.0</td>\n",
       "      <td>2019-09-23 18:00:00</td>\n",
       "      <td>NaT</td>\n",
       "      <td>0</td>\n",
       "      <td>0</td>\n",
       "    </tr>\n",
       "    <tr>\n",
       "      <th>16398</th>\n",
       "      <td>2019-09-23 19:00:00</td>\n",
       "      <td>1.32690</td>\n",
       "      <td>1.32466</td>\n",
       "      <td>16407.0</td>\n",
       "      <td>0.0</td>\n",
       "      <td>2019-09-24 04:00:00</td>\n",
       "      <td>NaT</td>\n",
       "      <td>0</td>\n",
       "      <td>0</td>\n",
       "    </tr>\n",
       "    <tr>\n",
       "      <th>16408</th>\n",
       "      <td>2019-09-24 05:00:00</td>\n",
       "      <td>1.32607</td>\n",
       "      <td>1.32390</td>\n",
       "      <td>16414.0</td>\n",
       "      <td>0.0</td>\n",
       "      <td>2019-09-24 11:00:00</td>\n",
       "      <td>NaT</td>\n",
       "      <td>0</td>\n",
       "      <td>0</td>\n",
       "    </tr>\n",
       "    <tr>\n",
       "      <th>16409</th>\n",
       "      <td>2019-09-24 06:00:00</td>\n",
       "      <td>1.32641</td>\n",
       "      <td>1.32425</td>\n",
       "      <td>16415.0</td>\n",
       "      <td>0.0</td>\n",
       "      <td>2019-09-24 12:00:00</td>\n",
       "      <td>NaT</td>\n",
       "      <td>0</td>\n",
       "      <td>0</td>\n",
       "    </tr>\n",
       "    <tr>\n",
       "      <th>16418</th>\n",
       "      <td>2019-09-24 15:00:00</td>\n",
       "      <td>1.32472</td>\n",
       "      <td>1.32255</td>\n",
       "      <td>16420.0</td>\n",
       "      <td>0.0</td>\n",
       "      <td>2019-09-24 17:00:00</td>\n",
       "      <td>NaT</td>\n",
       "      <td>0</td>\n",
       "      <td>0</td>\n",
       "    </tr>\n",
       "  </tbody>\n",
       "</table>\n",
       "</div>"
      ],
      "text/plain": [
       "                     time  target_tp  target_sl        g    l  \\\n",
       "16349 2019-09-19 19:00:00    1.32683    1.32458  16352.0  0.0   \n",
       "16371 2019-09-20 17:00:00    1.32787    1.32487  16381.0  0.0   \n",
       "16372 2019-09-22 17:00:00    1.32752    1.32452  16377.0  0.0   \n",
       "16373 2019-09-22 18:00:00    1.32801    1.32539  16383.0  0.0   \n",
       "16388 2019-09-23 09:00:00    1.32830    1.32614  16390.0  0.0   \n",
       "16395 2019-09-23 16:00:00    1.32682    1.32463  16397.0  0.0   \n",
       "16398 2019-09-23 19:00:00    1.32690    1.32466  16407.0  0.0   \n",
       "16408 2019-09-24 05:00:00    1.32607    1.32390  16414.0  0.0   \n",
       "16409 2019-09-24 06:00:00    1.32641    1.32425  16415.0  0.0   \n",
       "16418 2019-09-24 15:00:00    1.32472    1.32255  16420.0  0.0   \n",
       "\n",
       "                   g_time l_time  long_target  short_target  \n",
       "16349 2019-09-19 22:00:00    NaT            0             0  \n",
       "16371 2019-09-23 02:00:00    NaT            0             0  \n",
       "16372 2019-09-22 22:00:00    NaT            0             0  \n",
       "16373 2019-09-23 04:00:00    NaT            0             0  \n",
       "16388 2019-09-23 11:00:00    NaT            0             0  \n",
       "16395 2019-09-23 18:00:00    NaT            0             0  \n",
       "16398 2019-09-24 04:00:00    NaT            0             0  \n",
       "16408 2019-09-24 11:00:00    NaT            0             0  \n",
       "16409 2019-09-24 12:00:00    NaT            0             0  \n",
       "16418 2019-09-24 17:00:00    NaT            0             0  "
      ]
     },
     "execution_count": 26,
     "metadata": {},
     "output_type": "execute_result"
    }
   ],
   "source": [
    "good_data[['time', 'target_tp', 'target_sl', 'g', 'l', 'g_time', 'l_time', 'long_target', 'short_target']].tail(10)"
   ]
  },
  {
   "cell_type": "code",
   "execution_count": 27,
   "metadata": {},
   "outputs": [
    {
     "data": {
      "text/plain": [
       "0    01:00:00\n",
       "2    01:00:00\n",
       "5    01:00:00\n",
       "14   01:00:00\n",
       "17   01:00:00\n",
       "Name: time_diff, dtype: timedelta64[ns]"
      ]
     },
     "execution_count": 27,
     "metadata": {},
     "output_type": "execute_result"
    }
   ],
   "source": [
    "shorts = good_data[good_data['short_target'] == 1].copy()\n",
    "shorts['time'] = pd.to_datetime(shorts['time'])\n",
    "shorts['l_time'] = pd.to_datetime(shorts['l_time'] )\n",
    "shorts['time_diff'] = shorts['l_time'] - shorts['time']\n",
    "shorts['time_diff'].head() "
   ]
  },
  {
   "cell_type": "code",
   "execution_count": 28,
   "metadata": {},
   "outputs": [],
   "source": [
    "shorts['time_diff'] = shorts['time_diff']  / np.timedelta64(1, 'h')"
   ]
  },
  {
   "cell_type": "code",
   "execution_count": 29,
   "metadata": {},
   "outputs": [
    {
     "data": {
      "text/plain": [
       "count    4726.000000\n",
       "mean        3.453661\n",
       "std         9.279429\n",
       "min         1.000000\n",
       "25%         1.000000\n",
       "50%         2.000000\n",
       "75%         3.000000\n",
       "max       385.000000\n",
       "Name: time_diff, dtype: float64"
      ]
     },
     "execution_count": 29,
     "metadata": {},
     "output_type": "execute_result"
    }
   ],
   "source": [
    "shorts['time_diff'].describe()"
   ]
  },
  {
   "cell_type": "code",
   "execution_count": null,
   "metadata": {},
   "outputs": [],
   "source": []
  }
 ],
 "metadata": {
  "hide_input": false,
  "kernelspec": {
   "display_name": "Python 3",
   "language": "python",
   "name": "python3"
  },
  "language_info": {
   "codemirror_mode": {
    "name": "ipython",
    "version": 3
   },
   "file_extension": ".py",
   "mimetype": "text/x-python",
   "name": "python",
   "nbconvert_exporter": "python",
   "pygments_lexer": "ipython3",
   "version": "3.6.2"
  },
  "toc": {
   "base_numbering": 1,
   "nav_menu": {},
   "number_sections": true,
   "sideBar": true,
   "skip_h1_title": false,
   "title_cell": "Table of Contents",
   "title_sidebar": "Contents",
   "toc_cell": false,
   "toc_position": {},
   "toc_section_display": true,
   "toc_window_display": false
  }
 },
 "nbformat": 4,
 "nbformat_minor": 2
}
