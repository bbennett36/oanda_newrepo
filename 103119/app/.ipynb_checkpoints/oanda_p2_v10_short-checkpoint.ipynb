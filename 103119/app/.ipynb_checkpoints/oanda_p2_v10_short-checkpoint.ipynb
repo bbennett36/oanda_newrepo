{
 "cells": [
  {
   "cell_type": "code",
   "execution_count": 89,
   "metadata": {
    "collapsed": true
   },
   "outputs": [],
   "source": [
    "%matplotlib inline\n",
    "from matplotlib import pyplot as plt\n",
    "import seaborn as sns\n",
    "import pandas as pd\n",
    "import requests\n",
    "import json\n",
    "import requests\n",
    "import time\n",
    "from datetime import datetime\n",
    "from IPython.display import display, clear_output\n",
    "import numpy as np"
   ]
  },
  {
   "cell_type": "code",
   "execution_count": 90,
   "metadata": {},
   "outputs": [],
   "source": [
    "pd.set_option('display.max_columns', None)\n",
    "pd.set_option('display.max_rows', None)"
   ]
  },
  {
   "cell_type": "code",
   "execution_count": 91,
   "metadata": {},
   "outputs": [],
   "source": [
    "target_diff = 0.0025\n",
    "stop_loss = 0.0025\n",
    "profit = (target_diff / 0.0001)*0.75\n",
    "loss = (stop_loss / 0.0001)*0.75\n",
    "version = '10'"
   ]
  },
  {
   "cell_type": "code",
   "execution_count": 92,
   "metadata": {},
   "outputs": [
    {
     "data": {
      "text/plain": [
       "12.5"
      ]
     },
     "execution_count": 92,
     "metadata": {},
     "output_type": "execute_result"
    }
   ],
   "source": [
    "profit"
   ]
  },
  {
   "cell_type": "code",
   "execution_count": 93,
   "metadata": {},
   "outputs": [
    {
     "data": {
      "text/plain": [
       "(16415, 785)"
      ]
     },
     "execution_count": 93,
     "metadata": {},
     "output_type": "execute_result"
    }
   ],
   "source": [
    "filename_date = '100919'\n",
    "\n",
    "layout = pd.read_csv('../data/' + filename_date + 'mds_out_layout.csv')\n",
    "layout = layout['features'].values\n",
    "data = pd.read_csv('../data/' + filename_date + 'mds_out.csv', usecols=layout)\n",
    "data.shape"
   ]
  },
  {
   "cell_type": "code",
   "execution_count": 94,
   "metadata": {},
   "outputs": [
    {
     "data": {
      "text/plain": [
       "'2017-01-19 21:00:00'"
      ]
     },
     "execution_count": 94,
     "metadata": {},
     "output_type": "execute_result"
    }
   ],
   "source": [
    "data['time'].min()"
   ]
  },
  {
   "cell_type": "code",
   "execution_count": 95,
   "metadata": {},
   "outputs": [
    {
     "data": {
      "text/plain": [
       "'2019-09-24 19:00:00'"
      ]
     },
     "execution_count": 95,
     "metadata": {},
     "output_type": "execute_result"
    }
   ],
   "source": [
    "data['time'].max()"
   ]
  },
  {
   "cell_type": "code",
   "execution_count": 96,
   "metadata": {},
   "outputs": [],
   "source": [
    "num_cols = ['ask_c', 'bid_c']"
   ]
  },
  {
   "cell_type": "code",
   "execution_count": 97,
   "metadata": {},
   "outputs": [],
   "source": [
    "data['time'] = pd.to_datetime(data['time'])\n",
    "data = data.sort_values(by='time')\n",
    "data = data.drop_duplicates(subset=['time'])\n",
    "data = data.reset_index(drop=True)\n",
    "data['index'] = data.index\n",
    "for n in num_cols:\n",
    "    data[n] = pd.to_numeric(data[n])\n",
    "data['target_sl'] = data['ask_c'] + stop_loss\n",
    "data['target_tp'] = data['bid_c'] - target_diff\n",
    "data = data[~data['target_tp'].isnull()]"
   ]
  },
  {
   "cell_type": "code",
   "execution_count": 98,
   "metadata": {},
   "outputs": [
    {
     "data": {
      "text/plain": [
       "count    16415.000000\n",
       "mean        -0.005155\n",
       "std          0.000097\n",
       "min         -0.006500\n",
       "25%         -0.005140\n",
       "50%         -0.005130\n",
       "75%         -0.005120\n",
       "max         -0.005090\n",
       "Name: diff, dtype: float64"
      ]
     },
     "execution_count": 98,
     "metadata": {},
     "output_type": "execute_result"
    }
   ],
   "source": [
    "data['diff'] = data['target_tp'] - data['target_sl']\n",
    "data['diff'].describe()"
   ]
  },
  {
   "cell_type": "code",
   "execution_count": 99,
   "metadata": {},
   "outputs": [],
   "source": [
    "# data[['index', 'time', 'volume', 'bid_o', 'bid_h','bid_l','bid_c', 'ask_o', 'ask_h','ask_l','ask_c', 'ask_prev_c', 'bid_prev_c', 'target_tp', 'target_sl', 'g', 'l', 'l_time']].head(40)"
   ]
  },
  {
   "cell_type": "code",
   "execution_count": 100,
   "metadata": {},
   "outputs": [],
   "source": [
    "data['g']=np.NaN\n",
    "data['l']=np.NaN\n",
    "deep=len(data.index)\n",
    "irange = data['index'].values\n",
    "tp_good = False\n",
    "sl_good = False\n",
    "\n",
    "for i in irange:\n",
    "\n",
    "#     while tp_good == False and sl_good == False:\n",
    "    show = (i / len(irange))*100\n",
    "    show = str(round(show, 2))\n",
    "    show = show + ' - ' + str(datetime.now())\n",
    "    display(show)\n",
    "    tp_good = False\n",
    "    sl_good = False\n",
    "#     print(i)\n",
    "\n",
    "    for r in irange:\n",
    "#             print(i, r, tp_good, sl_good)\n",
    "        if r > i:\n",
    "            if tp_good == False and sl_good == False:\n",
    "                if  data[data['index'] == r]['ask_h'].values[0] >= data[data['index'] == i]['target_sl'].values[0] and not tp_good:\n",
    "                    data.at[i, 'g'] = data[data['index'] == r]['index'].values[0]\n",
    "                    data.at[i, 'g_time'] = data[data['index'] == r]['time'].values[0]\n",
    "                    tp_good = True\n",
    "                else:\n",
    "                    data.at[i, 'g'] = None\n",
    "                    data.at[i, 'g_time'] =None\n",
    "\n",
    "                if  data[data['index'] == r]['bid_l'].values[0] <= data[data['index'] == i]['target_tp'].values[0] and not sl_good:\n",
    "                    data.at[i, 'l'] = data[data['index'] == r]['index'].values[0]\n",
    "                    data.at[i, 'l_time'] = data[data['index'] == r]['time'].values[0]\n",
    "                    sl_good = True\n",
    "                else:  \n",
    "                    data.at[i, 'l'] = None     \n",
    "                    data.at[i, 'l_time'] = None  \n",
    "            else:\n",
    "                break\n",
    "\n",
    "    clear_output()    \n",
    "\n",
    "#     print(datetime.now())"
   ]
  },
  {
   "cell_type": "code",
   "execution_count": 101,
   "metadata": {},
   "outputs": [],
   "source": [
    "# START WITH FIRST TARGET INDEX BEC TIME ISSUE\n",
    "\n",
    "# if tp_good:\n",
    "#     target_index = data['g'].max()\n",
    "#     good_data = data[~data['g'].isnull()].copy()\n",
    "\n",
    "# if sl_good:\n",
    "#     target_index = data['l'].max()\n",
    "#     good_data = data[~data['g'].isnull()].copy()\n",
    "\n",
    "# tp_good = False\n",
    "# sl_good = False\n",
    "# done = False\n",
    "\n",
    "# counter = 1\n",
    "# while not done:\n",
    "#     show = (target_index / len(irange))*100\n",
    "#     show = str(round(show, 2))\n",
    "#     show = show + ' - ' + str(datetime.now())\n",
    "#     display(show)\n",
    "#     tp_good = False\n",
    "#     sl_good = False\n",
    "\n",
    "#     for r in irange:\n",
    "#         if r > target_index:\n",
    "#             if tp_good == False and sl_good == False:\n",
    "#                 if  data[data['index'] == r]['ask_h'].values[0] >= data[data['index'] == target_index]['target_tp'].values[0] and not tp_good:\n",
    "#                     data.at[target_index, 'g'] = data[data['index'] == r]['index'].values[0]\n",
    "#                     data.at[target_index, 'g_time'] = data[data['index'] == r]['time'].values[0]\n",
    "#                     tp_good = True\n",
    "#                 else:\n",
    "#                     data.at[target_index, 'g'] = None\n",
    "#                     data.at[target_index, 'g_time'] =None\n",
    "\n",
    "\n",
    "#                 if  data[data['index'] == r]['bid_l'].values[0] <= data[data['index'] == target_index]['target_sl'].values[0] and not sl_good:\n",
    "#                     data.at[target_index, 'l'] = data[data['index'] == r]['index'].values[0]\n",
    "#                     data.at[target_index, 'l_time'] = data[data['index'] == r]['time'].values[0]\n",
    "#                     sl_good = True\n",
    "\n",
    "#                 else:  \n",
    "#                     data.at[i, 'l'] = None     \n",
    "#                     data.at[i, 'l_time'] = None  \n",
    "#             else:\n",
    "#                 break\n",
    "    \n",
    "#     if tp_good == True:\n",
    "#         target_index = data['g'].max()\n",
    "#         try:\n",
    "#             temp = data[data['g'] == target_index].copy()\n",
    "#             temp2 = data[data['index'] == target_index].copy()\n",
    "\n",
    "#             if counter == 1:\n",
    "#                 good_data = temp\n",
    "#                 counter += 1\n",
    "#             else:\n",
    "#                 good_data = good_data.append(temp)\n",
    "\n",
    "#             if target_index == data['index'].max():\n",
    "#                 done = True\n",
    "#         except IndexError:\n",
    "#             done = True\n",
    "\n",
    "#     elif sl_good == True:\n",
    "#         target_index = data['l'].max()\n",
    "#         try:\n",
    "#             temp = data[data['l'] == target_index].copy()\n",
    "#             temp2 = data[data['index'] == target_index].copy()\n",
    "\n",
    "#             if counter == 1:\n",
    "#                 good_data = temp\n",
    "#                 counter += 1\n",
    "#             else:\n",
    "#                 good_data = good_data.append(temp)\n",
    "\n",
    "#             if target_index == data['index'].max():\n",
    "#                 done = True\n",
    "#         except IndexError:\n",
    "#             done = True\n",
    "            \n",
    "#     else:\n",
    "#         done = True\n",
    "\n",
    "\n",
    "#     clear_output()    "
   ]
  },
  {
   "cell_type": "code",
   "execution_count": 102,
   "metadata": {},
   "outputs": [
    {
     "data": {
      "text/plain": [
       "(16406, 793)"
      ]
     },
     "execution_count": 102,
     "metadata": {},
     "output_type": "execute_result"
    }
   ],
   "source": [
    "good_mask = (data['g'].isnull()) & (data['l'].isnull())\n",
    "good_data = data[~good_mask].copy()\n",
    "good_data.shape"
   ]
  },
  {
   "cell_type": "code",
   "execution_count": 103,
   "metadata": {},
   "outputs": [
    {
     "data": {
      "text/html": [
       "<div>\n",
       "<style>\n",
       "    .dataframe thead tr:only-child th {\n",
       "        text-align: right;\n",
       "    }\n",
       "\n",
       "    .dataframe thead th {\n",
       "        text-align: left;\n",
       "    }\n",
       "\n",
       "    .dataframe tbody tr th {\n",
       "        vertical-align: top;\n",
       "    }\n",
       "</style>\n",
       "<table border=\"1\" class=\"dataframe\">\n",
       "  <thead>\n",
       "    <tr style=\"text-align: right;\">\n",
       "      <th></th>\n",
       "      <th>time</th>\n",
       "      <th>volume</th>\n",
       "      <th>bid_o</th>\n",
       "      <th>bid_h</th>\n",
       "      <th>bid_l</th>\n",
       "      <th>bid_c</th>\n",
       "      <th>ask_o</th>\n",
       "      <th>ask_h</th>\n",
       "      <th>ask_l</th>\n",
       "      <th>ask_c</th>\n",
       "      <th>target_tp</th>\n",
       "      <th>target_sl</th>\n",
       "      <th>g</th>\n",
       "      <th>l</th>\n",
       "      <th>l_time</th>\n",
       "    </tr>\n",
       "  </thead>\n",
       "  <tbody>\n",
       "    <tr>\n",
       "      <th>0</th>\n",
       "      <td>2017-01-19 21:00:00</td>\n",
       "      <td>4461</td>\n",
       "      <td>1.06583</td>\n",
       "      <td>1.06612</td>\n",
       "      <td>1.06516</td>\n",
       "      <td>1.06530</td>\n",
       "      <td>1.06600</td>\n",
       "      <td>1.06632</td>\n",
       "      <td>1.06531</td>\n",
       "      <td>1.06546</td>\n",
       "      <td>1.06280</td>\n",
       "      <td>1.06796</td>\n",
       "      <td>1.0</td>\n",
       "      <td>NaN</td>\n",
       "      <td>NaN</td>\n",
       "    </tr>\n",
       "    <tr>\n",
       "      <th>1</th>\n",
       "      <td>2017-01-19 22:00:00</td>\n",
       "      <td>2878</td>\n",
       "      <td>1.06528</td>\n",
       "      <td>1.06871</td>\n",
       "      <td>1.06528</td>\n",
       "      <td>1.06808</td>\n",
       "      <td>1.06545</td>\n",
       "      <td>1.06888</td>\n",
       "      <td>1.06545</td>\n",
       "      <td>1.06821</td>\n",
       "      <td>1.06558</td>\n",
       "      <td>1.07071</td>\n",
       "      <td>NaN</td>\n",
       "      <td>9.0</td>\n",
       "      <td>1.484892e+18</td>\n",
       "    </tr>\n",
       "    <tr>\n",
       "      <th>2</th>\n",
       "      <td>2017-01-19 23:00:00</td>\n",
       "      <td>3073</td>\n",
       "      <td>1.06807</td>\n",
       "      <td>1.06834</td>\n",
       "      <td>1.06742</td>\n",
       "      <td>1.06767</td>\n",
       "      <td>1.06825</td>\n",
       "      <td>1.06847</td>\n",
       "      <td>1.06757</td>\n",
       "      <td>1.06781</td>\n",
       "      <td>1.06517</td>\n",
       "      <td>1.07031</td>\n",
       "      <td>NaN</td>\n",
       "      <td>9.0</td>\n",
       "      <td>1.484892e+18</td>\n",
       "    </tr>\n",
       "    <tr>\n",
       "      <th>3</th>\n",
       "      <td>2017-01-20 00:00:00</td>\n",
       "      <td>1888</td>\n",
       "      <td>1.06765</td>\n",
       "      <td>1.06929</td>\n",
       "      <td>1.06765</td>\n",
       "      <td>1.06847</td>\n",
       "      <td>1.06780</td>\n",
       "      <td>1.06943</td>\n",
       "      <td>1.06780</td>\n",
       "      <td>1.06861</td>\n",
       "      <td>1.06597</td>\n",
       "      <td>1.07111</td>\n",
       "      <td>NaN</td>\n",
       "      <td>9.0</td>\n",
       "      <td>1.484892e+18</td>\n",
       "    </tr>\n",
       "    <tr>\n",
       "      <th>4</th>\n",
       "      <td>2017-01-20 01:00:00</td>\n",
       "      <td>2733</td>\n",
       "      <td>1.06846</td>\n",
       "      <td>1.06853</td>\n",
       "      <td>1.06774</td>\n",
       "      <td>1.06797</td>\n",
       "      <td>1.06860</td>\n",
       "      <td>1.06867</td>\n",
       "      <td>1.06788</td>\n",
       "      <td>1.06811</td>\n",
       "      <td>1.06547</td>\n",
       "      <td>1.07061</td>\n",
       "      <td>NaN</td>\n",
       "      <td>9.0</td>\n",
       "      <td>1.484892e+18</td>\n",
       "    </tr>\n",
       "    <tr>\n",
       "      <th>5</th>\n",
       "      <td>2017-01-20 02:00:00</td>\n",
       "      <td>3330</td>\n",
       "      <td>1.06796</td>\n",
       "      <td>1.06809</td>\n",
       "      <td>1.06708</td>\n",
       "      <td>1.06716</td>\n",
       "      <td>1.06809</td>\n",
       "      <td>1.06823</td>\n",
       "      <td>1.06719</td>\n",
       "      <td>1.06731</td>\n",
       "      <td>1.06466</td>\n",
       "      <td>1.06981</td>\n",
       "      <td>NaN</td>\n",
       "      <td>9.0</td>\n",
       "      <td>1.484892e+18</td>\n",
       "    </tr>\n",
       "    <tr>\n",
       "      <th>6</th>\n",
       "      <td>2017-01-20 03:00:00</td>\n",
       "      <td>6519</td>\n",
       "      <td>1.06716</td>\n",
       "      <td>1.06856</td>\n",
       "      <td>1.06715</td>\n",
       "      <td>1.06820</td>\n",
       "      <td>1.06730</td>\n",
       "      <td>1.06868</td>\n",
       "      <td>1.06730</td>\n",
       "      <td>1.06839</td>\n",
       "      <td>1.06570</td>\n",
       "      <td>1.07089</td>\n",
       "      <td>NaN</td>\n",
       "      <td>9.0</td>\n",
       "      <td>1.484892e+18</td>\n",
       "    </tr>\n",
       "    <tr>\n",
       "      <th>7</th>\n",
       "      <td>2017-01-20 04:00:00</td>\n",
       "      <td>8151</td>\n",
       "      <td>1.06819</td>\n",
       "      <td>1.06915</td>\n",
       "      <td>1.06705</td>\n",
       "      <td>1.06715</td>\n",
       "      <td>1.06836</td>\n",
       "      <td>1.06928</td>\n",
       "      <td>1.06717</td>\n",
       "      <td>1.06727</td>\n",
       "      <td>1.06465</td>\n",
       "      <td>1.06977</td>\n",
       "      <td>NaN</td>\n",
       "      <td>9.0</td>\n",
       "      <td>1.484892e+18</td>\n",
       "    </tr>\n",
       "    <tr>\n",
       "      <th>8</th>\n",
       "      <td>2017-01-20 05:00:00</td>\n",
       "      <td>7173</td>\n",
       "      <td>1.06713</td>\n",
       "      <td>1.06831</td>\n",
       "      <td>1.06603</td>\n",
       "      <td>1.06626</td>\n",
       "      <td>1.06727</td>\n",
       "      <td>1.06845</td>\n",
       "      <td>1.06615</td>\n",
       "      <td>1.06639</td>\n",
       "      <td>1.06376</td>\n",
       "      <td>1.06889</td>\n",
       "      <td>NaN</td>\n",
       "      <td>10.0</td>\n",
       "      <td>1.484896e+18</td>\n",
       "    </tr>\n",
       "    <tr>\n",
       "      <th>9</th>\n",
       "      <td>2017-01-20 06:00:00</td>\n",
       "      <td>5923</td>\n",
       "      <td>1.06627</td>\n",
       "      <td>1.06665</td>\n",
       "      <td>1.06416</td>\n",
       "      <td>1.06459</td>\n",
       "      <td>1.06638</td>\n",
       "      <td>1.06678</td>\n",
       "      <td>1.06428</td>\n",
       "      <td>1.06470</td>\n",
       "      <td>1.06209</td>\n",
       "      <td>1.06720</td>\n",
       "      <td>15.0</td>\n",
       "      <td>NaN</td>\n",
       "      <td>NaN</td>\n",
       "    </tr>\n",
       "  </tbody>\n",
       "</table>\n",
       "</div>"
      ],
      "text/plain": [
       "                 time  volume    bid_o    bid_h    bid_l    bid_c    ask_o  \\\n",
       "0 2017-01-19 21:00:00    4461  1.06583  1.06612  1.06516  1.06530  1.06600   \n",
       "1 2017-01-19 22:00:00    2878  1.06528  1.06871  1.06528  1.06808  1.06545   \n",
       "2 2017-01-19 23:00:00    3073  1.06807  1.06834  1.06742  1.06767  1.06825   \n",
       "3 2017-01-20 00:00:00    1888  1.06765  1.06929  1.06765  1.06847  1.06780   \n",
       "4 2017-01-20 01:00:00    2733  1.06846  1.06853  1.06774  1.06797  1.06860   \n",
       "5 2017-01-20 02:00:00    3330  1.06796  1.06809  1.06708  1.06716  1.06809   \n",
       "6 2017-01-20 03:00:00    6519  1.06716  1.06856  1.06715  1.06820  1.06730   \n",
       "7 2017-01-20 04:00:00    8151  1.06819  1.06915  1.06705  1.06715  1.06836   \n",
       "8 2017-01-20 05:00:00    7173  1.06713  1.06831  1.06603  1.06626  1.06727   \n",
       "9 2017-01-20 06:00:00    5923  1.06627  1.06665  1.06416  1.06459  1.06638   \n",
       "\n",
       "     ask_h    ask_l    ask_c  target_tp  target_sl     g     l        l_time  \n",
       "0  1.06632  1.06531  1.06546    1.06280    1.06796   1.0   NaN           NaN  \n",
       "1  1.06888  1.06545  1.06821    1.06558    1.07071   NaN   9.0  1.484892e+18  \n",
       "2  1.06847  1.06757  1.06781    1.06517    1.07031   NaN   9.0  1.484892e+18  \n",
       "3  1.06943  1.06780  1.06861    1.06597    1.07111   NaN   9.0  1.484892e+18  \n",
       "4  1.06867  1.06788  1.06811    1.06547    1.07061   NaN   9.0  1.484892e+18  \n",
       "5  1.06823  1.06719  1.06731    1.06466    1.06981   NaN   9.0  1.484892e+18  \n",
       "6  1.06868  1.06730  1.06839    1.06570    1.07089   NaN   9.0  1.484892e+18  \n",
       "7  1.06928  1.06717  1.06727    1.06465    1.06977   NaN   9.0  1.484892e+18  \n",
       "8  1.06845  1.06615  1.06639    1.06376    1.06889   NaN  10.0  1.484896e+18  \n",
       "9  1.06678  1.06428  1.06470    1.06209    1.06720  15.0   NaN           NaN  "
      ]
     },
     "execution_count": 103,
     "metadata": {},
     "output_type": "execute_result"
    }
   ],
   "source": [
    "good_data[['time', 'volume', 'bid_o', 'bid_h','bid_l','bid_c', 'ask_o', 'ask_h','ask_l','ask_c', 'target_tp', 'target_sl', 'g', 'l', 'l_time']].head(10)"
   ]
  },
  {
   "cell_type": "code",
   "execution_count": 104,
   "metadata": {},
   "outputs": [],
   "source": [
    "def get_target(value):\n",
    "    if value > 0:\n",
    "        return 1\n",
    "    else:\n",
    "        return 0"
   ]
  },
  {
   "cell_type": "code",
   "execution_count": 105,
   "metadata": {},
   "outputs": [
    {
     "name": "stdout",
     "output_type": "stream",
     "text": [
      "0    8302\n",
      "1    8104\n",
      "Name: long_target, dtype: int64\n",
      "\n",
      "1    8430\n",
      "0    7976\n",
      "Name: short_target, dtype: int64\n"
     ]
    }
   ],
   "source": [
    "# max_date = data['time'].max()\n",
    "good_data['g_time'] = pd.to_datetime(good_data['g_time'])\n",
    "good_data['l_time'] = pd.to_datetime(good_data['l_time'])\n",
    "\n",
    "good_data['g'] = pd.to_numeric(good_data['g'])\n",
    "good_data['l'] = pd.to_numeric(good_data['l'])\n",
    "\n",
    "good_data['g'] = good_data['g'].fillna(0)\n",
    "good_data['l'] = good_data['l'].fillna(0)\n",
    "\n",
    "# data['g'] = data['g'].fillna(data['index'].max())\n",
    "# data['l'] = data['l'].fillna(data['index'].max())\n",
    "\n",
    "good_data['long_target'] = good_data['g'].apply(get_target)\n",
    "good_data['short_target'] = good_data['l'].apply(get_target)\n",
    "\n",
    "print(good_data['long_target'].value_counts())\n",
    "print()\n",
    "print(good_data['short_target'].value_counts())"
   ]
  },
  {
   "cell_type": "code",
   "execution_count": 106,
   "metadata": {},
   "outputs": [],
   "source": [
    "# good_data['g_time_shift'] = good_data['g_time'].shift(1)\n",
    "# good_data['g_time_shift'] = pd.to_datetime(good_data['g_time_shift'] )\n",
    "good_data['time'] = pd.to_datetime(good_data['time'] )\n",
    "# good_data['g_diff'] = good_data['g_time'] - good_data['g_time_shift']\n",
    "# good_data['g_diff'] = good_data['g_diff'].dt.seconds"
   ]
  },
  {
   "cell_type": "code",
   "execution_count": 107,
   "metadata": {},
   "outputs": [
    {
     "data": {
      "text/plain": [
       "(16278, 796)"
      ]
     },
     "execution_count": 107,
     "metadata": {},
     "output_type": "execute_result"
    }
   ],
   "source": [
    "# good_data['order'] = good_data.index\n",
    "# t1 = good_data[good_data['g'] != 0.0].drop_duplicates(subset='g')\n",
    "# t2 = good_data[good_data['l'] != 0.0].drop_duplicates(subset='l')\n",
    "# good_data = pd.concat([t1, t2], axis=0)\n",
    "# good_data= good_data.sort_values(by='order')\n",
    "good_data['same_time'] = good_data['g_time'] == good_data['l_time']\n",
    "good_data['same_time'] = good_data['same_time'].apply(lambda x: 1 if x else 0)\n",
    "good_data = good_data[good_data['same_time'] == 0]\n",
    "good_data.shape"
   ]
  },
  {
   "cell_type": "code",
   "execution_count": 108,
   "metadata": {},
   "outputs": [
    {
     "name": "stdout",
     "output_type": "stream",
     "text": [
      "(8302, 796)\n"
     ]
    },
    {
     "data": {
      "text/plain": [
       "(16278, 796)"
      ]
     },
     "execution_count": 108,
     "metadata": {},
     "output_type": "execute_result"
    }
   ],
   "source": [
    "pos = good_data[good_data['short_target'] == 1].copy()\n",
    "print(pos.shape)\n",
    "neg = good_data[good_data['short_target'] == 0].copy()\n",
    "\n",
    "pos['time_diff'] = (pos['l_time'] - pos['time']) / np.timedelta64(1, 'h')\n",
    "pos_bad = pos[pos['time_diff'] > 24].copy()\n",
    "pos_bad['short_target'] = 0\n",
    "\n",
    "pos = pos[pos['time_diff'] <= 24]\n",
    "\n",
    "pos.drop(['time_diff'], axis=1, inplace=True)\n",
    "pos_bad.drop(['time_diff'], axis=1, inplace=True)\n",
    "\n",
    "good_data = pd.concat([pos, neg, pos_bad], axis=0)\n",
    "good_data.shape"
   ]
  },
  {
   "cell_type": "code",
   "execution_count": 109,
   "metadata": {},
   "outputs": [
    {
     "data": {
      "text/plain": [
       "0    9004\n",
       "1    7274\n",
       "Name: short_target, dtype: int64"
      ]
     },
     "execution_count": 109,
     "metadata": {},
     "output_type": "execute_result"
    }
   ],
   "source": [
    "good_data['short_target'].value_counts()"
   ]
  },
  {
   "cell_type": "code",
   "execution_count": 110,
   "metadata": {},
   "outputs": [],
   "source": [
    "good_data.to_csv('../data/' + filename_date + '_mds_out_final_v' + version + '_short.csv', index=False, header=True)"
   ]
  },
  {
   "cell_type": "code",
   "execution_count": 111,
   "metadata": {},
   "outputs": [
    {
     "data": {
      "text/html": [
       "<div>\n",
       "<style>\n",
       "    .dataframe thead tr:only-child th {\n",
       "        text-align: right;\n",
       "    }\n",
       "\n",
       "    .dataframe thead th {\n",
       "        text-align: left;\n",
       "    }\n",
       "\n",
       "    .dataframe tbody tr th {\n",
       "        vertical-align: top;\n",
       "    }\n",
       "</style>\n",
       "<table border=\"1\" class=\"dataframe\">\n",
       "  <thead>\n",
       "    <tr style=\"text-align: right;\">\n",
       "      <th></th>\n",
       "      <th>time</th>\n",
       "      <th>target_tp</th>\n",
       "      <th>target_sl</th>\n",
       "      <th>g</th>\n",
       "      <th>l</th>\n",
       "      <th>g_time</th>\n",
       "      <th>l_time</th>\n",
       "      <th>long_target</th>\n",
       "      <th>short_target</th>\n",
       "      <th>time</th>\n",
       "    </tr>\n",
       "  </thead>\n",
       "  <tbody>\n",
       "    <tr>\n",
       "      <th>1</th>\n",
       "      <td>2017-01-19 22:00:00</td>\n",
       "      <td>1.06558</td>\n",
       "      <td>1.07071</td>\n",
       "      <td>0.0</td>\n",
       "      <td>9.0</td>\n",
       "      <td>NaT</td>\n",
       "      <td>2017-01-20 06:00:00</td>\n",
       "      <td>0</td>\n",
       "      <td>1</td>\n",
       "      <td>2017-01-19 22:00:00</td>\n",
       "    </tr>\n",
       "    <tr>\n",
       "      <th>2</th>\n",
       "      <td>2017-01-19 23:00:00</td>\n",
       "      <td>1.06517</td>\n",
       "      <td>1.07031</td>\n",
       "      <td>0.0</td>\n",
       "      <td>9.0</td>\n",
       "      <td>NaT</td>\n",
       "      <td>2017-01-20 06:00:00</td>\n",
       "      <td>0</td>\n",
       "      <td>1</td>\n",
       "      <td>2017-01-19 23:00:00</td>\n",
       "    </tr>\n",
       "    <tr>\n",
       "      <th>3</th>\n",
       "      <td>2017-01-20 00:00:00</td>\n",
       "      <td>1.06597</td>\n",
       "      <td>1.07111</td>\n",
       "      <td>0.0</td>\n",
       "      <td>9.0</td>\n",
       "      <td>NaT</td>\n",
       "      <td>2017-01-20 06:00:00</td>\n",
       "      <td>0</td>\n",
       "      <td>1</td>\n",
       "      <td>2017-01-20 00:00:00</td>\n",
       "    </tr>\n",
       "    <tr>\n",
       "      <th>4</th>\n",
       "      <td>2017-01-20 01:00:00</td>\n",
       "      <td>1.06547</td>\n",
       "      <td>1.07061</td>\n",
       "      <td>0.0</td>\n",
       "      <td>9.0</td>\n",
       "      <td>NaT</td>\n",
       "      <td>2017-01-20 06:00:00</td>\n",
       "      <td>0</td>\n",
       "      <td>1</td>\n",
       "      <td>2017-01-20 01:00:00</td>\n",
       "    </tr>\n",
       "    <tr>\n",
       "      <th>5</th>\n",
       "      <td>2017-01-20 02:00:00</td>\n",
       "      <td>1.06466</td>\n",
       "      <td>1.06981</td>\n",
       "      <td>0.0</td>\n",
       "      <td>9.0</td>\n",
       "      <td>NaT</td>\n",
       "      <td>2017-01-20 06:00:00</td>\n",
       "      <td>0</td>\n",
       "      <td>1</td>\n",
       "      <td>2017-01-20 02:00:00</td>\n",
       "    </tr>\n",
       "    <tr>\n",
       "      <th>6</th>\n",
       "      <td>2017-01-20 03:00:00</td>\n",
       "      <td>1.06570</td>\n",
       "      <td>1.07089</td>\n",
       "      <td>0.0</td>\n",
       "      <td>9.0</td>\n",
       "      <td>NaT</td>\n",
       "      <td>2017-01-20 06:00:00</td>\n",
       "      <td>0</td>\n",
       "      <td>1</td>\n",
       "      <td>2017-01-20 03:00:00</td>\n",
       "    </tr>\n",
       "    <tr>\n",
       "      <th>7</th>\n",
       "      <td>2017-01-20 04:00:00</td>\n",
       "      <td>1.06465</td>\n",
       "      <td>1.06977</td>\n",
       "      <td>0.0</td>\n",
       "      <td>9.0</td>\n",
       "      <td>NaT</td>\n",
       "      <td>2017-01-20 06:00:00</td>\n",
       "      <td>0</td>\n",
       "      <td>1</td>\n",
       "      <td>2017-01-20 04:00:00</td>\n",
       "    </tr>\n",
       "    <tr>\n",
       "      <th>8</th>\n",
       "      <td>2017-01-20 05:00:00</td>\n",
       "      <td>1.06376</td>\n",
       "      <td>1.06889</td>\n",
       "      <td>0.0</td>\n",
       "      <td>10.0</td>\n",
       "      <td>NaT</td>\n",
       "      <td>2017-01-20 07:00:00</td>\n",
       "      <td>0</td>\n",
       "      <td>1</td>\n",
       "      <td>2017-01-20 05:00:00</td>\n",
       "    </tr>\n",
       "    <tr>\n",
       "      <th>25</th>\n",
       "      <td>2017-01-22 22:00:00</td>\n",
       "      <td>1.07186</td>\n",
       "      <td>1.07699</td>\n",
       "      <td>0.0</td>\n",
       "      <td>37.0</td>\n",
       "      <td>NaT</td>\n",
       "      <td>2017-01-23 10:00:00</td>\n",
       "      <td>0</td>\n",
       "      <td>1</td>\n",
       "      <td>2017-01-22 22:00:00</td>\n",
       "    </tr>\n",
       "    <tr>\n",
       "      <th>26</th>\n",
       "      <td>2017-01-22 23:00:00</td>\n",
       "      <td>1.07200</td>\n",
       "      <td>1.07713</td>\n",
       "      <td>0.0</td>\n",
       "      <td>37.0</td>\n",
       "      <td>NaT</td>\n",
       "      <td>2017-01-23 10:00:00</td>\n",
       "      <td>0</td>\n",
       "      <td>1</td>\n",
       "      <td>2017-01-22 23:00:00</td>\n",
       "    </tr>\n",
       "  </tbody>\n",
       "</table>\n",
       "</div>"
      ],
      "text/plain": [
       "                  time  target_tp  target_sl    g     l g_time  \\\n",
       "1  2017-01-19 22:00:00    1.06558    1.07071  0.0   9.0    NaT   \n",
       "2  2017-01-19 23:00:00    1.06517    1.07031  0.0   9.0    NaT   \n",
       "3  2017-01-20 00:00:00    1.06597    1.07111  0.0   9.0    NaT   \n",
       "4  2017-01-20 01:00:00    1.06547    1.07061  0.0   9.0    NaT   \n",
       "5  2017-01-20 02:00:00    1.06466    1.06981  0.0   9.0    NaT   \n",
       "6  2017-01-20 03:00:00    1.06570    1.07089  0.0   9.0    NaT   \n",
       "7  2017-01-20 04:00:00    1.06465    1.06977  0.0   9.0    NaT   \n",
       "8  2017-01-20 05:00:00    1.06376    1.06889  0.0  10.0    NaT   \n",
       "25 2017-01-22 22:00:00    1.07186    1.07699  0.0  37.0    NaT   \n",
       "26 2017-01-22 23:00:00    1.07200    1.07713  0.0  37.0    NaT   \n",
       "\n",
       "                l_time  long_target  short_target                time  \n",
       "1  2017-01-20 06:00:00            0             1 2017-01-19 22:00:00  \n",
       "2  2017-01-20 06:00:00            0             1 2017-01-19 23:00:00  \n",
       "3  2017-01-20 06:00:00            0             1 2017-01-20 00:00:00  \n",
       "4  2017-01-20 06:00:00            0             1 2017-01-20 01:00:00  \n",
       "5  2017-01-20 06:00:00            0             1 2017-01-20 02:00:00  \n",
       "6  2017-01-20 06:00:00            0             1 2017-01-20 03:00:00  \n",
       "7  2017-01-20 06:00:00            0             1 2017-01-20 04:00:00  \n",
       "8  2017-01-20 07:00:00            0             1 2017-01-20 05:00:00  \n",
       "25 2017-01-23 10:00:00            0             1 2017-01-22 22:00:00  \n",
       "26 2017-01-23 10:00:00            0             1 2017-01-22 23:00:00  "
      ]
     },
     "execution_count": 111,
     "metadata": {},
     "output_type": "execute_result"
    }
   ],
   "source": [
    "good_data[['time', 'target_tp', 'target_sl', 'g', 'l', 'g_time', 'l_time', 'long_target', 'short_target', 'time']].head(10)"
   ]
  },
  {
   "cell_type": "code",
   "execution_count": 112,
   "metadata": {},
   "outputs": [
    {
     "data": {
      "text/plain": [
       "1   08:00:00\n",
       "2   07:00:00\n",
       "3   06:00:00\n",
       "4   05:00:00\n",
       "5   04:00:00\n",
       "Name: time_diff, dtype: timedelta64[ns]"
      ]
     },
     "execution_count": 112,
     "metadata": {},
     "output_type": "execute_result"
    }
   ],
   "source": [
    "shorts = good_data[good_data['short_target'] == 1].copy()\n",
    "shorts['time'] = pd.to_datetime(shorts['time'])\n",
    "shorts['l_time'] = pd.to_datetime(shorts['l_time'] )\n",
    "shorts['time_diff'] = shorts['l_time'] - shorts['time']\n",
    "shorts['time_diff'].head() "
   ]
  },
  {
   "cell_type": "code",
   "execution_count": 113,
   "metadata": {},
   "outputs": [],
   "source": [
    "shorts['time_diff'] = shorts['time_diff']  / np.timedelta64(1, 'h')"
   ]
  },
  {
   "cell_type": "code",
   "execution_count": 114,
   "metadata": {},
   "outputs": [
    {
     "data": {
      "text/plain": [
       "count    7274.000000\n",
       "mean        8.208276\n",
       "std         5.818411\n",
       "min         1.000000\n",
       "25%         3.000000\n",
       "50%         7.000000\n",
       "75%        12.000000\n",
       "max        24.000000\n",
       "Name: time_diff, dtype: float64"
      ]
     },
     "execution_count": 114,
     "metadata": {},
     "output_type": "execute_result"
    }
   ],
   "source": [
    "shorts['time_diff'].describe()"
   ]
  },
  {
   "cell_type": "code",
   "execution_count": 115,
   "metadata": {},
   "outputs": [
    {
     "data": {
      "text/plain": [
       "<matplotlib.lines.Line2D at 0x23c6b893390>"
      ]
     },
     "execution_count": 115,
     "metadata": {},
     "output_type": "execute_result"
    },
    {
     "data": {
      "image/png": "[encoded data removed]",
      "text/plain": [
       "<Figure size 1152x576 with 1 Axes>"
      ]
     },
     "metadata": {
      "needs_background": "light"
     },
     "output_type": "display_data"
    }
   ],
   "source": [
    "fig, ax = plt.subplots(figsize=(16,8))\n",
    "sns.distplot(shorts['time_diff'])\n",
    "ax.set_xticks(np.arange(0, 110, 10))\n",
    "ax.axvline(x=12, color='red')"
   ]
  },
  {
   "cell_type": "code",
   "execution_count": 116,
   "metadata": {},
   "outputs": [
    {
     "data": {
      "text/plain": [
       "<matplotlib.lines.Line2D at 0x23c6b8ccc18>"
      ]
     },
     "execution_count": 116,
     "metadata": {},
     "output_type": "execute_result"
    },
    {
     "data": {
      "image/png": "[encoded data removed]",
      "text/plain": [
       "<Figure size 1440x720 with 1 Axes>"
      ]
     },
     "metadata": {
      "needs_background": "light"
     },
     "output_type": "display_data"
    }
   ],
   "source": [
    "tcnt = shorts['time_diff'].value_counts().reset_index()\n",
    "tcnt.columns = ['diff', 'count']\n",
    "tcnt = tcnt.sort_values(by='diff')\n",
    "tcnt['csum'] = tcnt['count'].cumsum()\n",
    "tcnt['csum_pct'] = (tcnt['csum'] / tcnt['count'].sum()) * 100\n",
    "tcnt['count_pct'] = (tcnt['count'] / tcnt['count'].sum()) * 100\n",
    "tcnt['count_pct_ra']  = tcnt['count_pct'].rolling(8, min_periods=1).mean()\n",
    "\n",
    "fig, ax = plt.subplots(figsize=(20,10))\n",
    "sns.lineplot(x='diff', y='csum_pct', data=tcnt)\n",
    "ax.axhline(y=80, color='red')\n",
    "ax.axvline(x=24, color='red')"
   ]
  },
  {
   "cell_type": "code",
   "execution_count": 117,
   "metadata": {},
   "outputs": [
    {
     "data": {
      "text/html": [
       "<div>\n",
       "<style>\n",
       "    .dataframe thead tr:only-child th {\n",
       "        text-align: right;\n",
       "    }\n",
       "\n",
       "    .dataframe thead th {\n",
       "        text-align: left;\n",
       "    }\n",
       "\n",
       "    .dataframe tbody tr th {\n",
       "        vertical-align: top;\n",
       "    }\n",
       "</style>\n",
       "<table border=\"1\" class=\"dataframe\">\n",
       "  <thead>\n",
       "    <tr style=\"text-align: right;\">\n",
       "      <th></th>\n",
       "      <th>diff</th>\n",
       "      <th>count</th>\n",
       "      <th>csum</th>\n",
       "      <th>csum_pct</th>\n",
       "      <th>count_pct</th>\n",
       "      <th>count_pct_ra</th>\n",
       "    </tr>\n",
       "  </thead>\n",
       "  <tbody>\n",
       "    <tr>\n",
       "      <th>5</th>\n",
       "      <td>1.0</td>\n",
       "      <td>456</td>\n",
       "      <td>456</td>\n",
       "      <td>6.268903</td>\n",
       "      <td>6.268903</td>\n",
       "      <td>6.268903</td>\n",
       "    </tr>\n",
       "    <tr>\n",
       "      <th>0</th>\n",
       "      <td>2.0</td>\n",
       "      <td>784</td>\n",
       "      <td>1240</td>\n",
       "      <td>17.047017</td>\n",
       "      <td>10.778114</td>\n",
       "      <td>8.523508</td>\n",
       "    </tr>\n",
       "    <tr>\n",
       "      <th>1</th>\n",
       "      <td>3.0</td>\n",
       "      <td>676</td>\n",
       "      <td>1916</td>\n",
       "      <td>26.340390</td>\n",
       "      <td>9.293374</td>\n",
       "      <td>8.780130</td>\n",
       "    </tr>\n",
       "    <tr>\n",
       "      <th>2</th>\n",
       "      <td>4.0</td>\n",
       "      <td>620</td>\n",
       "      <td>2536</td>\n",
       "      <td>34.863899</td>\n",
       "      <td>8.523508</td>\n",
       "      <td>8.715975</td>\n",
       "    </tr>\n",
       "    <tr>\n",
       "      <th>3</th>\n",
       "      <td>5.0</td>\n",
       "      <td>515</td>\n",
       "      <td>3051</td>\n",
       "      <td>41.943910</td>\n",
       "      <td>7.080011</td>\n",
       "      <td>8.388782</td>\n",
       "    </tr>\n",
       "    <tr>\n",
       "      <th>4</th>\n",
       "      <td>6.0</td>\n",
       "      <td>471</td>\n",
       "      <td>3522</td>\n",
       "      <td>48.419027</td>\n",
       "      <td>6.475117</td>\n",
       "      <td>8.069838</td>\n",
       "    </tr>\n",
       "    <tr>\n",
       "      <th>6</th>\n",
       "      <td>7.0</td>\n",
       "      <td>403</td>\n",
       "      <td>3925</td>\n",
       "      <td>53.959307</td>\n",
       "      <td>5.540280</td>\n",
       "      <td>7.708472</td>\n",
       "    </tr>\n",
       "    <tr>\n",
       "      <th>7</th>\n",
       "      <td>8.0</td>\n",
       "      <td>398</td>\n",
       "      <td>4323</td>\n",
       "      <td>59.430850</td>\n",
       "      <td>5.471542</td>\n",
       "      <td>7.428856</td>\n",
       "    </tr>\n",
       "    <tr>\n",
       "      <th>8</th>\n",
       "      <td>9.0</td>\n",
       "      <td>356</td>\n",
       "      <td>4679</td>\n",
       "      <td>64.324993</td>\n",
       "      <td>4.894144</td>\n",
       "      <td>7.257011</td>\n",
       "    </tr>\n",
       "    <tr>\n",
       "      <th>9</th>\n",
       "      <td>10.0</td>\n",
       "      <td>336</td>\n",
       "      <td>5015</td>\n",
       "      <td>68.944185</td>\n",
       "      <td>4.619192</td>\n",
       "      <td>6.487146</td>\n",
       "    </tr>\n",
       "    <tr>\n",
       "      <th>10</th>\n",
       "      <td>11.0</td>\n",
       "      <td>314</td>\n",
       "      <td>5329</td>\n",
       "      <td>73.260929</td>\n",
       "      <td>4.316745</td>\n",
       "      <td>5.865067</td>\n",
       "    </tr>\n",
       "    <tr>\n",
       "      <th>11</th>\n",
       "      <td>12.0</td>\n",
       "      <td>272</td>\n",
       "      <td>5601</td>\n",
       "      <td>77.000275</td>\n",
       "      <td>3.739346</td>\n",
       "      <td>5.267047</td>\n",
       "    </tr>\n",
       "    <tr>\n",
       "      <th>12</th>\n",
       "      <td>13.0</td>\n",
       "      <td>244</td>\n",
       "      <td>5845</td>\n",
       "      <td>80.354688</td>\n",
       "      <td>3.354413</td>\n",
       "      <td>4.801347</td>\n",
       "    </tr>\n",
       "    <tr>\n",
       "      <th>13</th>\n",
       "      <td>14.0</td>\n",
       "      <td>229</td>\n",
       "      <td>6074</td>\n",
       "      <td>83.502887</td>\n",
       "      <td>3.148199</td>\n",
       "      <td>4.385483</td>\n",
       "    </tr>\n",
       "    <tr>\n",
       "      <th>14</th>\n",
       "      <td>15.0</td>\n",
       "      <td>192</td>\n",
       "      <td>6266</td>\n",
       "      <td>86.142425</td>\n",
       "      <td>2.639538</td>\n",
       "      <td>4.022890</td>\n",
       "    </tr>\n",
       "    <tr>\n",
       "      <th>15</th>\n",
       "      <td>16.0</td>\n",
       "      <td>178</td>\n",
       "      <td>6444</td>\n",
       "      <td>88.589497</td>\n",
       "      <td>2.447072</td>\n",
       "      <td>3.644831</td>\n",
       "    </tr>\n",
       "    <tr>\n",
       "      <th>16</th>\n",
       "      <td>17.0</td>\n",
       "      <td>160</td>\n",
       "      <td>6604</td>\n",
       "      <td>90.789112</td>\n",
       "      <td>2.199615</td>\n",
       "      <td>3.308015</td>\n",
       "    </tr>\n",
       "    <tr>\n",
       "      <th>17</th>\n",
       "      <td>18.0</td>\n",
       "      <td>139</td>\n",
       "      <td>6743</td>\n",
       "      <td>92.700027</td>\n",
       "      <td>1.910916</td>\n",
       "      <td>2.969480</td>\n",
       "    </tr>\n",
       "    <tr>\n",
       "      <th>18</th>\n",
       "      <td>19.0</td>\n",
       "      <td>123</td>\n",
       "      <td>6866</td>\n",
       "      <td>94.390982</td>\n",
       "      <td>1.690954</td>\n",
       "      <td>2.641257</td>\n",
       "    </tr>\n",
       "    <tr>\n",
       "      <th>19</th>\n",
       "      <td>20.0</td>\n",
       "      <td>111</td>\n",
       "      <td>6977</td>\n",
       "      <td>95.916965</td>\n",
       "      <td>1.525983</td>\n",
       "      <td>2.364586</td>\n",
       "    </tr>\n",
       "    <tr>\n",
       "      <th>20</th>\n",
       "      <td>21.0</td>\n",
       "      <td>100</td>\n",
       "      <td>7077</td>\n",
       "      <td>97.291724</td>\n",
       "      <td>1.374759</td>\n",
       "      <td>2.117130</td>\n",
       "    </tr>\n",
       "    <tr>\n",
       "      <th>22</th>\n",
       "      <td>22.0</td>\n",
       "      <td>75</td>\n",
       "      <td>7152</td>\n",
       "      <td>98.322794</td>\n",
       "      <td>1.031070</td>\n",
       "      <td>1.852488</td>\n",
       "    </tr>\n",
       "    <tr>\n",
       "      <th>21</th>\n",
       "      <td>23.0</td>\n",
       "      <td>76</td>\n",
       "      <td>7228</td>\n",
       "      <td>99.367611</td>\n",
       "      <td>1.044817</td>\n",
       "      <td>1.653148</td>\n",
       "    </tr>\n",
       "    <tr>\n",
       "      <th>23</th>\n",
       "      <td>24.0</td>\n",
       "      <td>46</td>\n",
       "      <td>7274</td>\n",
       "      <td>100.000000</td>\n",
       "      <td>0.632389</td>\n",
       "      <td>1.426313</td>\n",
       "    </tr>\n",
       "  </tbody>\n",
       "</table>\n",
       "</div>"
      ],
      "text/plain": [
       "    diff  count  csum    csum_pct  count_pct  count_pct_ra\n",
       "5    1.0    456   456    6.268903   6.268903      6.268903\n",
       "0    2.0    784  1240   17.047017  10.778114      8.523508\n",
       "1    3.0    676  1916   26.340390   9.293374      8.780130\n",
       "2    4.0    620  2536   34.863899   8.523508      8.715975\n",
       "3    5.0    515  3051   41.943910   7.080011      8.388782\n",
       "4    6.0    471  3522   48.419027   6.475117      8.069838\n",
       "6    7.0    403  3925   53.959307   5.540280      7.708472\n",
       "7    8.0    398  4323   59.430850   5.471542      7.428856\n",
       "8    9.0    356  4679   64.324993   4.894144      7.257011\n",
       "9   10.0    336  5015   68.944185   4.619192      6.487146\n",
       "10  11.0    314  5329   73.260929   4.316745      5.865067\n",
       "11  12.0    272  5601   77.000275   3.739346      5.267047\n",
       "12  13.0    244  5845   80.354688   3.354413      4.801347\n",
       "13  14.0    229  6074   83.502887   3.148199      4.385483\n",
       "14  15.0    192  6266   86.142425   2.639538      4.022890\n",
       "15  16.0    178  6444   88.589497   2.447072      3.644831\n",
       "16  17.0    160  6604   90.789112   2.199615      3.308015\n",
       "17  18.0    139  6743   92.700027   1.910916      2.969480\n",
       "18  19.0    123  6866   94.390982   1.690954      2.641257\n",
       "19  20.0    111  6977   95.916965   1.525983      2.364586\n",
       "20  21.0    100  7077   97.291724   1.374759      2.117130\n",
       "22  22.0     75  7152   98.322794   1.031070      1.852488\n",
       "21  23.0     76  7228   99.367611   1.044817      1.653148\n",
       "23  24.0     46  7274  100.000000   0.632389      1.426313"
      ]
     },
     "execution_count": 117,
     "metadata": {},
     "output_type": "execute_result"
    }
   ],
   "source": [
    "tcnt"
   ]
  },
  {
   "cell_type": "code",
   "execution_count": null,
   "metadata": {},
   "outputs": [],
   "source": []
  },
  {
   "cell_type": "code",
   "execution_count": null,
   "metadata": {},
   "outputs": [],
   "source": []
  }
 ],
 "metadata": {
  "hide_input": false,
  "kernelspec": {
   "display_name": "Python 3",
   "language": "python",
   "name": "python3"
  },
  "language_info": {
   "codemirror_mode": {
    "name": "ipython",
    "version": 3
   },
   "file_extension": ".py",
   "mimetype": "text/x-python",
   "name": "python",
   "nbconvert_exporter": "python",
   "pygments_lexer": "ipython3",
   "version": "3.6.2"
  },
  "toc": {
   "base_numbering": 1,
   "nav_menu": {},
   "number_sections": true,
   "sideBar": true,
   "skip_h1_title": false,
   "title_cell": "Table of Contents",
   "title_sidebar": "Contents",
   "toc_cell": false,
   "toc_position": {},
   "toc_section_display": true,
   "toc_window_display": false
  }
 },
 "nbformat": 4,
 "nbformat_minor": 2
}
