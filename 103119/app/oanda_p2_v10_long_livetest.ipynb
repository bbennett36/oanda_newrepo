{
 "cells": [
  {
   "cell_type": "code",
   "execution_count": 1,
   "metadata": {
    "collapsed": true
   },
   "outputs": [],
   "source": [
    "%matplotlib inline\n",
    "from matplotlib import pyplot as plt\n",
    "import pandas as pd\n",
    "import requests\n",
    "import json\n",
    "import requests\n",
    "import time\n",
    "from datetime import datetime\n",
    "from IPython.display import display, clear_output\n",
    "import numpy as np\n",
    "import seaborn as sns"
   ]
  },
  {
   "cell_type": "code",
   "execution_count": 2,
   "metadata": {},
   "outputs": [],
   "source": [
    "pd.set_option('display.max_columns', None)\n",
    "pd.set_option('display.max_rows', None)"
   ]
  },
  {
   "cell_type": "code",
   "execution_count": 3,
   "metadata": {},
   "outputs": [],
   "source": [
    "target_diff = 0.005\n",
    "stop_loss = 0.005\n",
    "units = 5000\n",
    "profit = (target_diff / 0.0001)*(units/10000)\n",
    "loss = (stop_loss / 0.0001)*(units/10000)\n",
    "version = '10'"
   ]
  },
  {
   "cell_type": "code",
   "execution_count": 4,
   "metadata": {},
   "outputs": [
    {
     "data": {
      "text/plain": [
       "(16415, 785)"
      ]
     },
     "execution_count": 4,
     "metadata": {},
     "output_type": "execute_result"
    }
   ],
   "source": [
    "filename_date = '100919'\n",
    "\n",
    "layout = pd.read_csv('../data/' + filename_date + 'mds_out_layout.csv')\n",
    "layout = layout['features'].values\n",
    "data = pd.read_csv('../data/' + filename_date + 'mds_out.csv', usecols=layout)\n",
    "data.shape"
   ]
  },
  {
   "cell_type": "code",
   "execution_count": 5,
   "metadata": {},
   "outputs": [
    {
     "data": {
      "text/plain": [
       "'2017-01-19 21:00:00'"
      ]
     },
     "execution_count": 5,
     "metadata": {},
     "output_type": "execute_result"
    }
   ],
   "source": [
    "data['time'].min()"
   ]
  },
  {
   "cell_type": "code",
   "execution_count": 6,
   "metadata": {},
   "outputs": [
    {
     "data": {
      "text/plain": [
       "'2019-09-24 19:00:00'"
      ]
     },
     "execution_count": 6,
     "metadata": {},
     "output_type": "execute_result"
    }
   ],
   "source": [
    "data['time'].max()"
   ]
  },
  {
   "cell_type": "code",
   "execution_count": 7,
   "metadata": {},
   "outputs": [],
   "source": [
    "num_cols = ['ask_c', 'bid_c']"
   ]
  },
  {
   "cell_type": "code",
   "execution_count": 8,
   "metadata": {},
   "outputs": [],
   "source": [
    "data['time'] = pd.to_datetime(data['time'])\n",
    "data = data.sort_values(by='time')\n",
    "data = data.drop_duplicates(subset=['time'])\n",
    "data = data.reset_index(drop=True)\n",
    "data['index'] = data.index\n",
    "for n in num_cols:\n",
    "    data[n] = pd.to_numeric(data[n])\n",
    "data['target_tp'] = data['ask_c'] + target_diff\n",
    "data['target_sl'] = data['bid_c'] - stop_loss\n",
    "data = data[~data['target_tp'].isnull()]"
   ]
  },
  {
   "cell_type": "code",
   "execution_count": 9,
   "metadata": {},
   "outputs": [
    {
     "data": {
      "text/plain": [
       "count    16415.000000\n",
       "mean         0.010155\n",
       "std          0.000097\n",
       "min          0.010090\n",
       "25%          0.010120\n",
       "50%          0.010130\n",
       "75%          0.010140\n",
       "max          0.011500\n",
       "Name: diff, dtype: float64"
      ]
     },
     "execution_count": 9,
     "metadata": {},
     "output_type": "execute_result"
    }
   ],
   "source": [
    "data['diff'] = data['target_tp'] - data['target_sl']\n",
    "data['diff'].describe()"
   ]
  },
  {
   "cell_type": "code",
   "execution_count": 10,
   "metadata": {},
   "outputs": [],
   "source": [
    "# data[['index', 'time', 'volume', 'bid_o', 'bid_h','bid_l','bid_c', 'ask_o', 'ask_h','ask_l','ask_c', 'ask_prev_c', 'bid_prev_c', 'target_tp', 'target_sl', 'g', 'l', 'l_time']].head(40)"
   ]
  },
  {
   "cell_type": "code",
   "execution_count": 11,
   "metadata": {},
   "outputs": [],
   "source": [
    "data['g']=np.NaN\n",
    "data['l']=np.NaN\n",
    "deep=len(data.index)\n",
    "irange = data['index'].values\n",
    "tp_good = False\n",
    "sl_good = False\n",
    "\n",
    "for i in irange:\n",
    "\n",
    "    while tp_good == False and sl_good == False:\n",
    "        show = (i / len(irange))*100\n",
    "        show = str(round(show, 2))\n",
    "        show = show + ' - ' + str(datetime.now())\n",
    "        display(show)\n",
    "        tp_good = False\n",
    "        sl_good = False\n",
    "    #     print(i)\n",
    "\n",
    "        for r in irange:\n",
    "    #             print(i, r, tp_good, sl_good)\n",
    "            if r > i:\n",
    "                if tp_good == False and sl_good == False:\n",
    "                    if  data[data['index'] == r]['ask_h'].values[0] >= data[data['index'] == i]['target_tp'].values[0] and not tp_good:\n",
    "                        data.at[i, 'g'] = data[data['index'] == r]['index'].values[0]\n",
    "                        data.at[i, 'g_time'] = data[data['index'] == r]['time'].values[0]\n",
    "                        tp_good = True\n",
    "                    else:\n",
    "                        data.at[i, 'g'] = None\n",
    "                        data.at[i, 'g_time'] =None\n",
    "\n",
    "                    if  data[data['index'] == r]['bid_l'].values[0] <= data[data['index'] == i]['target_sl'].values[0] and not sl_good:\n",
    "                        data.at[i, 'l'] = data[data['index'] == r]['index'].values[0]\n",
    "                        data.at[i, 'l_time'] = data[data['index'] == r]['time'].values[0]\n",
    "                        sl_good = True\n",
    "                    else:  \n",
    "                        data.at[i, 'l'] = None     \n",
    "                        data.at[i, 'l_time'] = None  \n",
    "                else:\n",
    "                    break\n",
    "\n",
    "        clear_output()    \n",
    "\n",
    "#     print(datetime.now())"
   ]
  },
  {
   "cell_type": "code",
   "execution_count": 12,
   "metadata": {},
   "outputs": [],
   "source": [
    "# START WITH FIRST TARGET INDEX BEC TIME ISSUE\n",
    "\n",
    "if tp_good:\n",
    "    target_index = data['g'].max()\n",
    "    good_data = data[~data['g'].isnull()].copy()\n",
    "\n",
    "if sl_good:\n",
    "    target_index = data['l'].max()\n",
    "    good_data = data[~data['g'].isnull()].copy()\n",
    "\n",
    "tp_good = False\n",
    "sl_good = False\n",
    "done = False\n",
    "\n",
    "counter = 1\n",
    "while not done:\n",
    "    show = (target_index / len(irange))*100\n",
    "    show = str(round(show, 2))\n",
    "    show = show + ' - ' + str(datetime.now())\n",
    "    display(show)\n",
    "    tp_good = False\n",
    "    sl_good = False\n",
    "\n",
    "    for r in irange:\n",
    "        if r > target_index:\n",
    "            if tp_good == False and sl_good == False:\n",
    "                if  data[data['index'] == r]['ask_h'].values[0] >= data[data['index'] == target_index]['target_tp'].values[0] and not tp_good:\n",
    "                    data.at[target_index, 'g'] = data[data['index'] == r]['index'].values[0]\n",
    "                    data.at[target_index, 'g_time'] = data[data['index'] == r]['time'].values[0]\n",
    "                    tp_good = True\n",
    "                else:\n",
    "                    data.at[target_index, 'g'] = None\n",
    "                    data.at[target_index, 'g_time'] =None\n",
    "\n",
    "\n",
    "                if  data[data['index'] == r]['bid_l'].values[0] <= data[data['index'] == target_index]['target_sl'].values[0] and not sl_good:\n",
    "                    data.at[target_index, 'l'] = data[data['index'] == r]['index'].values[0]\n",
    "                    data.at[target_index, 'l_time'] = data[data['index'] == r]['time'].values[0]\n",
    "                    sl_good = True\n",
    "\n",
    "                else:  \n",
    "                    data.at[i, 'l'] = None     \n",
    "                    data.at[i, 'l_time'] = None  \n",
    "            else:\n",
    "                break\n",
    "    \n",
    "    if tp_good == True:\n",
    "        target_index = data['g'].max()\n",
    "        try:\n",
    "            temp = data[data['g'] == target_index].copy()\n",
    "            temp2 = data[data['index'] == target_index].copy()\n",
    "\n",
    "            if counter == 1:\n",
    "                good_data = temp\n",
    "                counter += 1\n",
    "            else:\n",
    "                good_data = good_data.append(temp)\n",
    "\n",
    "            if target_index == data['index'].max():\n",
    "                done = True\n",
    "        except IndexError:\n",
    "            done = True\n",
    "\n",
    "    elif sl_good == True:\n",
    "        target_index = data['l'].max()\n",
    "        try:\n",
    "            temp = data[data['l'] == target_index].copy()\n",
    "            temp2 = data[data['index'] == target_index].copy()\n",
    "\n",
    "            if counter == 1:\n",
    "                good_data = temp\n",
    "                counter += 1\n",
    "            else:\n",
    "                good_data = good_data.append(temp)\n",
    "\n",
    "            if target_index == data['index'].max():\n",
    "                done = True\n",
    "        except IndexError:\n",
    "            done = True\n",
    "            \n",
    "    else:\n",
    "        done = True\n",
    "\n",
    "\n",
    "    clear_output()    "
   ]
  },
  {
   "cell_type": "code",
   "execution_count": 13,
   "metadata": {},
   "outputs": [
    {
     "data": {
      "text/plain": [
       "(588, 793)"
      ]
     },
     "execution_count": 13,
     "metadata": {},
     "output_type": "execute_result"
    }
   ],
   "source": [
    "# good_mask = (data['g'].isnull()) & (data['l'].isnull())\n",
    "# good_data = data[~good_mask].copy()\n",
    "good_data.shape"
   ]
  },
  {
   "cell_type": "code",
   "execution_count": 14,
   "metadata": {},
   "outputs": [
    {
     "data": {
      "text/html": [
       "<div>\n",
       "<style>\n",
       "    .dataframe thead tr:only-child th {\n",
       "        text-align: right;\n",
       "    }\n",
       "\n",
       "    .dataframe thead th {\n",
       "        text-align: left;\n",
       "    }\n",
       "\n",
       "    .dataframe tbody tr th {\n",
       "        vertical-align: top;\n",
       "    }\n",
       "</style>\n",
       "<table border=\"1\" class=\"dataframe\">\n",
       "  <thead>\n",
       "    <tr style=\"text-align: right;\">\n",
       "      <th></th>\n",
       "      <th>time</th>\n",
       "      <th>volume</th>\n",
       "      <th>bid_o</th>\n",
       "      <th>bid_h</th>\n",
       "      <th>bid_l</th>\n",
       "      <th>bid_c</th>\n",
       "      <th>ask_o</th>\n",
       "      <th>ask_h</th>\n",
       "      <th>ask_l</th>\n",
       "      <th>ask_c</th>\n",
       "      <th>target_tp</th>\n",
       "      <th>target_sl</th>\n",
       "      <th>g</th>\n",
       "      <th>l</th>\n",
       "      <th>l_time</th>\n",
       "    </tr>\n",
       "  </thead>\n",
       "  <tbody>\n",
       "    <tr>\n",
       "      <th>19</th>\n",
       "      <td>2017-01-20 16:00:00</td>\n",
       "      <td>5856</td>\n",
       "      <td>1.06806</td>\n",
       "      <td>1.07087</td>\n",
       "      <td>1.06797</td>\n",
       "      <td>1.07043</td>\n",
       "      <td>1.06820</td>\n",
       "      <td>1.07103</td>\n",
       "      <td>1.06811</td>\n",
       "      <td>1.07062</td>\n",
       "      <td>1.07562</td>\n",
       "      <td>1.06543</td>\n",
       "      <td>45.0</td>\n",
       "      <td>NaN</td>\n",
       "      <td>NaN</td>\n",
       "    </tr>\n",
       "    <tr>\n",
       "      <th>45</th>\n",
       "      <td>2017-01-23 18:00:00</td>\n",
       "      <td>1123</td>\n",
       "      <td>1.07427</td>\n",
       "      <td>1.07682</td>\n",
       "      <td>1.07423</td>\n",
       "      <td>1.07621</td>\n",
       "      <td>1.07443</td>\n",
       "      <td>1.07707</td>\n",
       "      <td>1.07436</td>\n",
       "      <td>1.07657</td>\n",
       "      <td>1.08157</td>\n",
       "      <td>1.07121</td>\n",
       "      <td>NaN</td>\n",
       "      <td>79.0</td>\n",
       "      <td>2017-01-25 04:00:00</td>\n",
       "    </tr>\n",
       "    <tr>\n",
       "      <th>79</th>\n",
       "      <td>2017-01-25 04:00:00</td>\n",
       "      <td>7874</td>\n",
       "      <td>1.07208</td>\n",
       "      <td>1.07265</td>\n",
       "      <td>1.07106</td>\n",
       "      <td>1.07129</td>\n",
       "      <td>1.07221</td>\n",
       "      <td>1.07278</td>\n",
       "      <td>1.07119</td>\n",
       "      <td>1.07143</td>\n",
       "      <td>1.07643</td>\n",
       "      <td>1.06629</td>\n",
       "      <td>84.0</td>\n",
       "      <td>NaN</td>\n",
       "      <td>NaT</td>\n",
       "    </tr>\n",
       "    <tr>\n",
       "      <th>84</th>\n",
       "      <td>2017-01-25 09:00:00</td>\n",
       "      <td>6850</td>\n",
       "      <td>1.07519</td>\n",
       "      <td>1.07693</td>\n",
       "      <td>1.07442</td>\n",
       "      <td>1.07451</td>\n",
       "      <td>1.07533</td>\n",
       "      <td>1.07706</td>\n",
       "      <td>1.07458</td>\n",
       "      <td>1.07462</td>\n",
       "      <td>1.07962</td>\n",
       "      <td>1.06951</td>\n",
       "      <td>NaN</td>\n",
       "      <td>109.0</td>\n",
       "      <td>2017-01-26 10:00:00</td>\n",
       "    </tr>\n",
       "    <tr>\n",
       "      <th>109</th>\n",
       "      <td>2017-01-26 10:00:00</td>\n",
       "      <td>11127</td>\n",
       "      <td>1.07103</td>\n",
       "      <td>1.07120</td>\n",
       "      <td>1.06880</td>\n",
       "      <td>1.06964</td>\n",
       "      <td>1.07116</td>\n",
       "      <td>1.07133</td>\n",
       "      <td>1.06893</td>\n",
       "      <td>1.06977</td>\n",
       "      <td>1.07477</td>\n",
       "      <td>1.06464</td>\n",
       "      <td>NaN</td>\n",
       "      <td>156.0</td>\n",
       "      <td>2017-01-30 09:00:00</td>\n",
       "    </tr>\n",
       "    <tr>\n",
       "      <th>156</th>\n",
       "      <td>2017-01-30 09:00:00</td>\n",
       "      <td>11299</td>\n",
       "      <td>1.06607</td>\n",
       "      <td>1.06650</td>\n",
       "      <td>1.06256</td>\n",
       "      <td>1.06286</td>\n",
       "      <td>1.06620</td>\n",
       "      <td>1.06661</td>\n",
       "      <td>1.06270</td>\n",
       "      <td>1.06303</td>\n",
       "      <td>1.06803</td>\n",
       "      <td>1.05786</td>\n",
       "      <td>159.0</td>\n",
       "      <td>NaN</td>\n",
       "      <td>NaT</td>\n",
       "    </tr>\n",
       "    <tr>\n",
       "      <th>159</th>\n",
       "      <td>2017-01-30 12:00:00</td>\n",
       "      <td>8437</td>\n",
       "      <td>1.06583</td>\n",
       "      <td>1.06921</td>\n",
       "      <td>1.06527</td>\n",
       "      <td>1.06871</td>\n",
       "      <td>1.06602</td>\n",
       "      <td>1.06933</td>\n",
       "      <td>1.06538</td>\n",
       "      <td>1.06883</td>\n",
       "      <td>1.07383</td>\n",
       "      <td>1.06371</td>\n",
       "      <td>179.0</td>\n",
       "      <td>NaN</td>\n",
       "      <td>NaT</td>\n",
       "    </tr>\n",
       "    <tr>\n",
       "      <th>179</th>\n",
       "      <td>2017-01-31 08:00:00</td>\n",
       "      <td>11088</td>\n",
       "      <td>1.07007</td>\n",
       "      <td>1.07517</td>\n",
       "      <td>1.06986</td>\n",
       "      <td>1.07501</td>\n",
       "      <td>1.07020</td>\n",
       "      <td>1.07533</td>\n",
       "      <td>1.06998</td>\n",
       "      <td>1.07513</td>\n",
       "      <td>1.08013</td>\n",
       "      <td>1.07001</td>\n",
       "      <td>183.0</td>\n",
       "      <td>NaN</td>\n",
       "      <td>NaT</td>\n",
       "    </tr>\n",
       "    <tr>\n",
       "      <th>183</th>\n",
       "      <td>2017-01-31 12:00:00</td>\n",
       "      <td>12255</td>\n",
       "      <td>1.07894</td>\n",
       "      <td>1.08101</td>\n",
       "      <td>1.07787</td>\n",
       "      <td>1.08093</td>\n",
       "      <td>1.07924</td>\n",
       "      <td>1.08115</td>\n",
       "      <td>1.07803</td>\n",
       "      <td>1.08106</td>\n",
       "      <td>1.08606</td>\n",
       "      <td>1.07593</td>\n",
       "      <td>NaN</td>\n",
       "      <td>206.0</td>\n",
       "      <td>2017-02-01 11:00:00</td>\n",
       "    </tr>\n",
       "    <tr>\n",
       "      <th>206</th>\n",
       "      <td>2017-02-01 11:00:00</td>\n",
       "      <td>11967</td>\n",
       "      <td>1.07597</td>\n",
       "      <td>1.07624</td>\n",
       "      <td>1.07497</td>\n",
       "      <td>1.07570</td>\n",
       "      <td>1.07609</td>\n",
       "      <td>1.07637</td>\n",
       "      <td>1.07511</td>\n",
       "      <td>1.07592</td>\n",
       "      <td>1.08092</td>\n",
       "      <td>1.07070</td>\n",
       "      <td>224.0</td>\n",
       "      <td>NaN</td>\n",
       "      <td>NaT</td>\n",
       "    </tr>\n",
       "  </tbody>\n",
       "</table>\n",
       "</div>"
      ],
      "text/plain": [
       "                   time  volume    bid_o    bid_h    bid_l    bid_c    ask_o  \\\n",
       "19  2017-01-20 16:00:00    5856  1.06806  1.07087  1.06797  1.07043  1.06820   \n",
       "45  2017-01-23 18:00:00    1123  1.07427  1.07682  1.07423  1.07621  1.07443   \n",
       "79  2017-01-25 04:00:00    7874  1.07208  1.07265  1.07106  1.07129  1.07221   \n",
       "84  2017-01-25 09:00:00    6850  1.07519  1.07693  1.07442  1.07451  1.07533   \n",
       "109 2017-01-26 10:00:00   11127  1.07103  1.07120  1.06880  1.06964  1.07116   \n",
       "156 2017-01-30 09:00:00   11299  1.06607  1.06650  1.06256  1.06286  1.06620   \n",
       "159 2017-01-30 12:00:00    8437  1.06583  1.06921  1.06527  1.06871  1.06602   \n",
       "179 2017-01-31 08:00:00   11088  1.07007  1.07517  1.06986  1.07501  1.07020   \n",
       "183 2017-01-31 12:00:00   12255  1.07894  1.08101  1.07787  1.08093  1.07924   \n",
       "206 2017-02-01 11:00:00   11967  1.07597  1.07624  1.07497  1.07570  1.07609   \n",
       "\n",
       "       ask_h    ask_l    ask_c  target_tp  target_sl      g      l  \\\n",
       "19   1.07103  1.06811  1.07062    1.07562    1.06543   45.0    NaN   \n",
       "45   1.07707  1.07436  1.07657    1.08157    1.07121    NaN   79.0   \n",
       "79   1.07278  1.07119  1.07143    1.07643    1.06629   84.0    NaN   \n",
       "84   1.07706  1.07458  1.07462    1.07962    1.06951    NaN  109.0   \n",
       "109  1.07133  1.06893  1.06977    1.07477    1.06464    NaN  156.0   \n",
       "156  1.06661  1.06270  1.06303    1.06803    1.05786  159.0    NaN   \n",
       "159  1.06933  1.06538  1.06883    1.07383    1.06371  179.0    NaN   \n",
       "179  1.07533  1.06998  1.07513    1.08013    1.07001  183.0    NaN   \n",
       "183  1.08115  1.07803  1.08106    1.08606    1.07593    NaN  206.0   \n",
       "206  1.07637  1.07511  1.07592    1.08092    1.07070  224.0    NaN   \n",
       "\n",
       "                  l_time  \n",
       "19                   NaN  \n",
       "45   2017-01-25 04:00:00  \n",
       "79                   NaT  \n",
       "84   2017-01-26 10:00:00  \n",
       "109  2017-01-30 09:00:00  \n",
       "156                  NaT  \n",
       "159                  NaT  \n",
       "179                  NaT  \n",
       "183  2017-02-01 11:00:00  \n",
       "206                  NaT  "
      ]
     },
     "execution_count": 14,
     "metadata": {},
     "output_type": "execute_result"
    }
   ],
   "source": [
    "good_data[['time', 'volume', 'bid_o', 'bid_h','bid_l','bid_c', 'ask_o', 'ask_h','ask_l','ask_c', 'target_tp', 'target_sl', 'g', 'l', 'l_time']].head(10)"
   ]
  },
  {
   "cell_type": "code",
   "execution_count": 15,
   "metadata": {},
   "outputs": [],
   "source": [
    "def get_target(value):\n",
    "    if value > 0:\n",
    "        return 1\n",
    "    else:\n",
    "        return 0"
   ]
  },
  {
   "cell_type": "code",
   "execution_count": 16,
   "metadata": {},
   "outputs": [
    {
     "name": "stdout",
     "output_type": "stream",
     "text": [
      "1    296\n",
      "0    292\n",
      "Name: long_target, dtype: int64\n",
      "\n",
      "1    294\n",
      "0    294\n",
      "Name: short_target, dtype: int64\n"
     ]
    }
   ],
   "source": [
    "# max_date = data['time'].max()\n",
    "good_data['g_time'] = pd.to_datetime(good_data['g_time'])\n",
    "good_data['l_time'] = pd.to_datetime(good_data['l_time'])\n",
    "\n",
    "good_data['g'] = pd.to_numeric(good_data['g'])\n",
    "good_data['l'] = pd.to_numeric(good_data['l'])\n",
    "\n",
    "good_data['g'] = good_data['g'].fillna(0)\n",
    "good_data['l'] = good_data['l'].fillna(0)\n",
    "\n",
    "# data['g'] = data['g'].fillna(data['index'].max())\n",
    "# data['l'] = data['l'].fillna(data['index'].max())\n",
    "\n",
    "good_data['long_target'] = good_data['g'].apply(get_target)\n",
    "good_data['short_target'] = good_data['l'].apply(get_target)\n",
    "\n",
    "print(good_data['long_target'].value_counts())\n",
    "print()\n",
    "print(good_data['short_target'].value_counts())"
   ]
  },
  {
   "cell_type": "code",
   "execution_count": 17,
   "metadata": {},
   "outputs": [],
   "source": [
    "# good_data['g_time_shift'] = good_data['g_time'].shift(1)\n",
    "# good_data['g_time_shift'] = pd.to_datetime(good_data['g_time_shift'] )\n",
    "good_data['time'] = pd.to_datetime(good_data['time'] )\n",
    "# good_data['g_diff'] = good_data['g_time'] - good_data['g_time_shift']\n",
    "# good_data['g_diff'] = good_data['g_diff'].dt.seconds"
   ]
  },
  {
   "cell_type": "code",
   "execution_count": 18,
   "metadata": {},
   "outputs": [
    {
     "data": {
      "text/plain": [
       "(586, 796)"
      ]
     },
     "execution_count": 18,
     "metadata": {},
     "output_type": "execute_result"
    }
   ],
   "source": [
    "# good_data['order'] = good_data.index\n",
    "# t1 = good_data[good_data['g'] != 0.0].drop_duplicates(subset='g')\n",
    "# t2 = good_data[good_data['l'] != 0.0].drop_duplicates(subset='l')\n",
    "# good_data = pd.concat([t1, t2], axis=0)\n",
    "# good_data= good_data.sort_values(by='order')\n",
    "good_data['same_time'] = good_data['g_time'] == good_data['l_time']\n",
    "good_data['same_time'] = good_data['same_time'].apply(lambda x: 1 if x else 0)\n",
    "good_data = good_data[good_data['same_time'] == 0]\n",
    "good_data.shape"
   ]
  },
  {
   "cell_type": "code",
   "execution_count": 19,
   "metadata": {},
   "outputs": [
    {
     "name": "stdout",
     "output_type": "stream",
     "text": [
      "(294, 796)\n"
     ]
    },
    {
     "data": {
      "text/plain": [
       "(586, 796)"
      ]
     },
     "execution_count": 19,
     "metadata": {},
     "output_type": "execute_result"
    }
   ],
   "source": [
    "pos = good_data[good_data['long_target'] == 1].copy()\n",
    "print(pos.shape)\n",
    "neg = good_data[good_data['long_target'] == 0].copy()\n",
    "\n",
    "pos['time_diff'] = (pos['g_time'] - pos['time']) / np.timedelta64(1, 'h')\n",
    "pos_bad = pos[pos['time_diff'] > 24].copy()\n",
    "pos_bad['long_target'] = 0\n",
    "\n",
    "pos = pos[pos['time_diff'] <= 24]\n",
    "\n",
    "pos.drop(['time_diff'], axis=1, inplace=True)\n",
    "pos_bad.drop(['time_diff'], axis=1, inplace=True)\n",
    "\n",
    "good_data = pd.concat([pos, neg, pos_bad], axis=0)\n",
    "good_data.shape"
   ]
  },
  {
   "cell_type": "code",
   "execution_count": 20,
   "metadata": {},
   "outputs": [
    {
     "data": {
      "text/plain": [
       "'../data/100919_mds_out_final_v10_long_live.csv'"
      ]
     },
     "execution_count": 20,
     "metadata": {},
     "output_type": "execute_result"
    }
   ],
   "source": [
    "'../data/' + filename_date + '_mds_out_final_v' + version + '_long_live.csv'"
   ]
  },
  {
   "cell_type": "code",
   "execution_count": 21,
   "metadata": {},
   "outputs": [],
   "source": [
    "good_data.to_csv('../data/' + filename_date + '_mds_out_final_v' + version + '_long_live.csv', index=False, header=True)"
   ]
  },
  {
   "cell_type": "code",
   "execution_count": 22,
   "metadata": {},
   "outputs": [
    {
     "data": {
      "text/html": [
       "<div>\n",
       "<style>\n",
       "    .dataframe thead tr:only-child th {\n",
       "        text-align: right;\n",
       "    }\n",
       "\n",
       "    .dataframe thead th {\n",
       "        text-align: left;\n",
       "    }\n",
       "\n",
       "    .dataframe tbody tr th {\n",
       "        vertical-align: top;\n",
       "    }\n",
       "</style>\n",
       "<table border=\"1\" class=\"dataframe\">\n",
       "  <thead>\n",
       "    <tr style=\"text-align: right;\">\n",
       "      <th></th>\n",
       "      <th>time</th>\n",
       "      <th>bid_c</th>\n",
       "      <th>ask_c</th>\n",
       "      <th>target_tp</th>\n",
       "      <th>target_sl</th>\n",
       "      <th>g</th>\n",
       "      <th>l</th>\n",
       "      <th>g_time</th>\n",
       "      <th>l_time</th>\n",
       "      <th>long_target</th>\n",
       "      <th>short_target</th>\n",
       "      <th>time</th>\n",
       "    </tr>\n",
       "  </thead>\n",
       "  <tbody>\n",
       "    <tr>\n",
       "      <th>79</th>\n",
       "      <td>2017-01-25 04:00:00</td>\n",
       "      <td>1.07129</td>\n",
       "      <td>1.07143</td>\n",
       "      <td>1.07643</td>\n",
       "      <td>1.06629</td>\n",
       "      <td>84.0</td>\n",
       "      <td>0.0</td>\n",
       "      <td>2017-01-25 09:00:00</td>\n",
       "      <td>NaT</td>\n",
       "      <td>1</td>\n",
       "      <td>0</td>\n",
       "      <td>2017-01-25 04:00:00</td>\n",
       "    </tr>\n",
       "    <tr>\n",
       "      <th>156</th>\n",
       "      <td>2017-01-30 09:00:00</td>\n",
       "      <td>1.06286</td>\n",
       "      <td>1.06303</td>\n",
       "      <td>1.06803</td>\n",
       "      <td>1.05786</td>\n",
       "      <td>159.0</td>\n",
       "      <td>0.0</td>\n",
       "      <td>2017-01-30 12:00:00</td>\n",
       "      <td>NaT</td>\n",
       "      <td>1</td>\n",
       "      <td>0</td>\n",
       "      <td>2017-01-30 09:00:00</td>\n",
       "    </tr>\n",
       "    <tr>\n",
       "      <th>159</th>\n",
       "      <td>2017-01-30 12:00:00</td>\n",
       "      <td>1.06871</td>\n",
       "      <td>1.06883</td>\n",
       "      <td>1.07383</td>\n",
       "      <td>1.06371</td>\n",
       "      <td>179.0</td>\n",
       "      <td>0.0</td>\n",
       "      <td>2017-01-31 08:00:00</td>\n",
       "      <td>NaT</td>\n",
       "      <td>1</td>\n",
       "      <td>0</td>\n",
       "      <td>2017-01-30 12:00:00</td>\n",
       "    </tr>\n",
       "    <tr>\n",
       "      <th>179</th>\n",
       "      <td>2017-01-31 08:00:00</td>\n",
       "      <td>1.07501</td>\n",
       "      <td>1.07513</td>\n",
       "      <td>1.08013</td>\n",
       "      <td>1.07001</td>\n",
       "      <td>183.0</td>\n",
       "      <td>0.0</td>\n",
       "      <td>2017-01-31 12:00:00</td>\n",
       "      <td>NaT</td>\n",
       "      <td>1</td>\n",
       "      <td>0</td>\n",
       "      <td>2017-01-31 08:00:00</td>\n",
       "    </tr>\n",
       "    <tr>\n",
       "      <th>206</th>\n",
       "      <td>2017-02-01 11:00:00</td>\n",
       "      <td>1.07570</td>\n",
       "      <td>1.07592</td>\n",
       "      <td>1.08092</td>\n",
       "      <td>1.07070</td>\n",
       "      <td>224.0</td>\n",
       "      <td>0.0</td>\n",
       "      <td>2017-02-02 05:00:00</td>\n",
       "      <td>NaT</td>\n",
       "      <td>1</td>\n",
       "      <td>0</td>\n",
       "      <td>2017-02-01 11:00:00</td>\n",
       "    </tr>\n",
       "    <tr>\n",
       "      <th>456</th>\n",
       "      <td>2017-02-15 21:00:00</td>\n",
       "      <td>1.06205</td>\n",
       "      <td>1.06218</td>\n",
       "      <td>1.06718</td>\n",
       "      <td>1.05705</td>\n",
       "      <td>471.0</td>\n",
       "      <td>0.0</td>\n",
       "      <td>2017-02-16 12:00:00</td>\n",
       "      <td>NaT</td>\n",
       "      <td>1</td>\n",
       "      <td>0</td>\n",
       "      <td>2017-02-15 21:00:00</td>\n",
       "    </tr>\n",
       "    <tr>\n",
       "      <th>559</th>\n",
       "      <td>2017-02-22 04:00:00</td>\n",
       "      <td>1.05077</td>\n",
       "      <td>1.05089</td>\n",
       "      <td>1.05589</td>\n",
       "      <td>1.04577</td>\n",
       "      <td>568.0</td>\n",
       "      <td>0.0</td>\n",
       "      <td>2017-02-22 13:00:00</td>\n",
       "      <td>NaT</td>\n",
       "      <td>1</td>\n",
       "      <td>0</td>\n",
       "      <td>2017-02-22 04:00:00</td>\n",
       "    </tr>\n",
       "    <tr>\n",
       "      <th>648</th>\n",
       "      <td>2017-02-27 21:00:00</td>\n",
       "      <td>1.05787</td>\n",
       "      <td>1.05801</td>\n",
       "      <td>1.06301</td>\n",
       "      <td>1.05287</td>\n",
       "      <td>663.0</td>\n",
       "      <td>0.0</td>\n",
       "      <td>2017-02-28 12:00:00</td>\n",
       "      <td>NaT</td>\n",
       "      <td>1</td>\n",
       "      <td>0</td>\n",
       "      <td>2017-02-27 21:00:00</td>\n",
       "    </tr>\n",
       "    <tr>\n",
       "      <th>715</th>\n",
       "      <td>2017-03-02 16:00:00</td>\n",
       "      <td>1.05010</td>\n",
       "      <td>1.05021</td>\n",
       "      <td>1.05521</td>\n",
       "      <td>1.04510</td>\n",
       "      <td>732.0</td>\n",
       "      <td>0.0</td>\n",
       "      <td>2017-03-03 09:00:00</td>\n",
       "      <td>NaT</td>\n",
       "      <td>1</td>\n",
       "      <td>0</td>\n",
       "      <td>2017-03-02 16:00:00</td>\n",
       "    </tr>\n",
       "    <tr>\n",
       "      <th>732</th>\n",
       "      <td>2017-03-03 09:00:00</td>\n",
       "      <td>1.05567</td>\n",
       "      <td>1.05578</td>\n",
       "      <td>1.06078</td>\n",
       "      <td>1.05067</td>\n",
       "      <td>739.0</td>\n",
       "      <td>0.0</td>\n",
       "      <td>2017-03-03 16:00:00</td>\n",
       "      <td>NaT</td>\n",
       "      <td>1</td>\n",
       "      <td>0</td>\n",
       "      <td>2017-03-03 09:00:00</td>\n",
       "    </tr>\n",
       "  </tbody>\n",
       "</table>\n",
       "</div>"
      ],
      "text/plain": [
       "                   time    bid_c    ask_c  target_tp  target_sl      g    l  \\\n",
       "79  2017-01-25 04:00:00  1.07129  1.07143    1.07643    1.06629   84.0  0.0   \n",
       "156 2017-01-30 09:00:00  1.06286  1.06303    1.06803    1.05786  159.0  0.0   \n",
       "159 2017-01-30 12:00:00  1.06871  1.06883    1.07383    1.06371  179.0  0.0   \n",
       "179 2017-01-31 08:00:00  1.07501  1.07513    1.08013    1.07001  183.0  0.0   \n",
       "206 2017-02-01 11:00:00  1.07570  1.07592    1.08092    1.07070  224.0  0.0   \n",
       "456 2017-02-15 21:00:00  1.06205  1.06218    1.06718    1.05705  471.0  0.0   \n",
       "559 2017-02-22 04:00:00  1.05077  1.05089    1.05589    1.04577  568.0  0.0   \n",
       "648 2017-02-27 21:00:00  1.05787  1.05801    1.06301    1.05287  663.0  0.0   \n",
       "715 2017-03-02 16:00:00  1.05010  1.05021    1.05521    1.04510  732.0  0.0   \n",
       "732 2017-03-03 09:00:00  1.05567  1.05578    1.06078    1.05067  739.0  0.0   \n",
       "\n",
       "                 g_time l_time  long_target  short_target                time  \n",
       "79  2017-01-25 09:00:00    NaT            1             0 2017-01-25 04:00:00  \n",
       "156 2017-01-30 12:00:00    NaT            1             0 2017-01-30 09:00:00  \n",
       "159 2017-01-31 08:00:00    NaT            1             0 2017-01-30 12:00:00  \n",
       "179 2017-01-31 12:00:00    NaT            1             0 2017-01-31 08:00:00  \n",
       "206 2017-02-02 05:00:00    NaT            1             0 2017-02-01 11:00:00  \n",
       "456 2017-02-16 12:00:00    NaT            1             0 2017-02-15 21:00:00  \n",
       "559 2017-02-22 13:00:00    NaT            1             0 2017-02-22 04:00:00  \n",
       "648 2017-02-28 12:00:00    NaT            1             0 2017-02-27 21:00:00  \n",
       "715 2017-03-03 09:00:00    NaT            1             0 2017-03-02 16:00:00  \n",
       "732 2017-03-03 16:00:00    NaT            1             0 2017-03-03 09:00:00  "
      ]
     },
     "execution_count": 22,
     "metadata": {},
     "output_type": "execute_result"
    }
   ],
   "source": [
    "good_data[['time', 'bid_c', 'ask_c','target_tp', 'target_sl', 'g', 'l', 'g_time', 'l_time', 'long_target', 'short_target', 'time']].head(10)"
   ]
  },
  {
   "cell_type": "code",
   "execution_count": 23,
   "metadata": {},
   "outputs": [
    {
     "data": {
      "text/plain": [
       "45    1 days 10:00:00\n",
       "84    1 days 01:00:00\n",
       "109   3 days 23:00:00\n",
       "183   0 days 23:00:00\n",
       "224   0 days 11:00:00\n",
       "Name: time_diff, dtype: timedelta64[ns]"
      ]
     },
     "execution_count": 23,
     "metadata": {},
     "output_type": "execute_result"
    }
   ],
   "source": [
    "shorts = good_data[good_data['short_target'] == 1].copy()\n",
    "shorts['time'] = pd.to_datetime(shorts['time'])\n",
    "shorts['l_time'] = pd.to_datetime(shorts['l_time'] )\n",
    "shorts['time_diff'] = shorts['l_time'] - shorts['time']\n",
    "shorts['time_diff'].head() "
   ]
  },
  {
   "cell_type": "code",
   "execution_count": 24,
   "metadata": {},
   "outputs": [],
   "source": [
    "shorts['time_diff'] = shorts['time_diff']  / np.timedelta64(1, 'h')"
   ]
  },
  {
   "cell_type": "code",
   "execution_count": 25,
   "metadata": {},
   "outputs": [
    {
     "data": {
      "text/plain": [
       "count    292.000000\n",
       "mean      39.821918\n",
       "std       40.836727\n",
       "min        1.000000\n",
       "25%       11.000000\n",
       "50%       23.000000\n",
       "75%       54.750000\n",
       "max      202.000000\n",
       "Name: time_diff, dtype: float64"
      ]
     },
     "execution_count": 25,
     "metadata": {},
     "output_type": "execute_result"
    }
   ],
   "source": [
    "shorts['time_diff'].describe()"
   ]
  },
  {
   "cell_type": "code",
   "execution_count": 26,
   "metadata": {},
   "outputs": [],
   "source": [
    "dcounts = good_data['time'].value_counts().reset_index()\n",
    "dcounts.columns = ['time', 'count']"
   ]
  },
  {
   "cell_type": "code",
   "execution_count": 27,
   "metadata": {},
   "outputs": [
    {
     "data": {
      "text/plain": [
       "120"
      ]
     },
     "execution_count": 27,
     "metadata": {},
     "output_type": "execute_result"
    }
   ],
   "source": [
    "24*5"
   ]
  },
  {
   "cell_type": "code",
   "execution_count": null,
   "metadata": {},
   "outputs": [],
   "source": []
  }
 ],
 "metadata": {
  "hide_input": false,
  "kernelspec": {
   "display_name": "Python 3",
   "language": "python",
   "name": "python3"
  },
  "language_info": {
   "codemirror_mode": {
    "name": "ipython",
    "version": 3
   },
   "file_extension": ".py",
   "mimetype": "text/x-python",
   "name": "python",
   "nbconvert_exporter": "python",
   "pygments_lexer": "ipython3",
   "version": "3.6.2"
  },
  "toc": {
   "base_numbering": 1,
   "nav_menu": {},
   "number_sections": true,
   "sideBar": true,
   "skip_h1_title": false,
   "title_cell": "Table of Contents",
   "title_sidebar": "Contents",
   "toc_cell": false,
   "toc_position": {},
   "toc_section_display": true,
   "toc_window_display": false
  }
 },
 "nbformat": 4,
 "nbformat_minor": 2
}
