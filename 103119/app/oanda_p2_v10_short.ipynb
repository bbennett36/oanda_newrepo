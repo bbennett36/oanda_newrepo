{
 "cells": [
  {
   "cell_type": "code",
   "execution_count": 1,
   "metadata": {
    "collapsed": true
   },
   "outputs": [],
   "source": [
    "%matplotlib inline\n",
    "from matplotlib import pyplot as plt\n",
    "import seaborn as sns\n",
    "import pandas as pd\n",
    "import requests\n",
    "import json\n",
    "import requests\n",
    "import time\n",
    "from datetime import datetime\n",
    "from IPython.display import display, clear_output\n",
    "import numpy as np"
   ]
  },
  {
   "cell_type": "code",
   "execution_count": 2,
   "metadata": {},
   "outputs": [],
   "source": [
    "pd.set_option('display.max_columns', None)\n",
    "pd.set_option('display.max_rows', None)"
   ]
  },
  {
   "cell_type": "code",
   "execution_count": 3,
   "metadata": {},
   "outputs": [],
   "source": [
    "target_diff = 0.003\n",
    "stop_loss = 0.003\n",
    "units = 5000\n",
    "profit = (target_diff / 0.0001)*0.75\n",
    "loss = (stop_loss / 0.0001)*0.75\n",
    "version = '10'"
   ]
  },
  {
   "cell_type": "code",
   "execution_count": 4,
   "metadata": {},
   "outputs": [
    {
     "data": {
      "text/plain": [
       "22.5"
      ]
     },
     "execution_count": 4,
     "metadata": {},
     "output_type": "execute_result"
    }
   ],
   "source": [
    "profit"
   ]
  },
  {
   "cell_type": "code",
   "execution_count": 5,
   "metadata": {},
   "outputs": [
    {
     "data": {
      "text/plain": [
       "(16415, 785)"
      ]
     },
     "execution_count": 5,
     "metadata": {},
     "output_type": "execute_result"
    }
   ],
   "source": [
    "filename_date = '100919'\n",
    "\n",
    "layout = pd.read_csv('../data/' + filename_date + 'mds_out_layout.csv')\n",
    "layout = layout['features'].values\n",
    "data = pd.read_csv('../data/' + filename_date + 'mds_out.csv', usecols=layout)\n",
    "data.shape"
   ]
  },
  {
   "cell_type": "code",
   "execution_count": 6,
   "metadata": {},
   "outputs": [
    {
     "data": {
      "text/plain": [
       "'2017-01-19 21:00:00'"
      ]
     },
     "execution_count": 6,
     "metadata": {},
     "output_type": "execute_result"
    }
   ],
   "source": [
    "data['time'].min()"
   ]
  },
  {
   "cell_type": "code",
   "execution_count": 7,
   "metadata": {},
   "outputs": [
    {
     "data": {
      "text/plain": [
       "'2019-09-24 19:00:00'"
      ]
     },
     "execution_count": 7,
     "metadata": {},
     "output_type": "execute_result"
    }
   ],
   "source": [
    "data['time'].max()"
   ]
  },
  {
   "cell_type": "code",
   "execution_count": 8,
   "metadata": {},
   "outputs": [],
   "source": [
    "num_cols = ['ask_c', 'bid_c']"
   ]
  },
  {
   "cell_type": "code",
   "execution_count": 9,
   "metadata": {},
   "outputs": [],
   "source": [
    "data['time'] = pd.to_datetime(data['time'])\n",
    "data = data.sort_values(by='time')\n",
    "data = data.drop_duplicates(subset=['time'])\n",
    "data = data.reset_index(drop=True)\n",
    "data['index'] = data.index\n",
    "for n in num_cols:\n",
    "    data[n] = pd.to_numeric(data[n])\n",
    "data['target_sl'] = data['ask_c'] + stop_loss\n",
    "data['target_tp'] = data['bid_c'] - target_diff\n",
    "data = data[~data['target_tp'].isnull()]"
   ]
  },
  {
   "cell_type": "code",
   "execution_count": 10,
   "metadata": {},
   "outputs": [
    {
     "data": {
      "text/plain": [
       "count    16415.000000\n",
       "mean        -0.006155\n",
       "std          0.000097\n",
       "min         -0.007500\n",
       "25%         -0.006140\n",
       "50%         -0.006130\n",
       "75%         -0.006120\n",
       "max         -0.006090\n",
       "Name: diff, dtype: float64"
      ]
     },
     "execution_count": 10,
     "metadata": {},
     "output_type": "execute_result"
    }
   ],
   "source": [
    "data['diff'] = data['target_tp'] - data['target_sl']\n",
    "data['diff'].describe()"
   ]
  },
  {
   "cell_type": "code",
   "execution_count": 11,
   "metadata": {},
   "outputs": [],
   "source": [
    "# data[['index', 'time', 'volume', 'bid_o', 'bid_h','bid_l','bid_c', 'ask_o', 'ask_h','ask_l','ask_c', 'ask_prev_c', 'bid_prev_c', 'target_tp', 'target_sl', 'g', 'l', 'l_time']].head(40)"
   ]
  },
  {
   "cell_type": "code",
   "execution_count": 12,
   "metadata": {},
   "outputs": [],
   "source": [
    "data['g']=np.NaN\n",
    "data['l']=np.NaN\n",
    "deep=len(data.index)\n",
    "irange = data['index'].values\n",
    "tp_good = False\n",
    "sl_good = False\n",
    "\n",
    "for i in irange:\n",
    "\n",
    "#     while tp_good == False and sl_good == False:\n",
    "    show = (i / len(irange))*100\n",
    "    show = str(round(show, 2))\n",
    "    show = show + ' - ' + str(datetime.now())\n",
    "    display(show)\n",
    "    tp_good = False\n",
    "    sl_good = False\n",
    "#     print(i)\n",
    "\n",
    "    for r in irange:\n",
    "#             print(i, r, tp_good, sl_good)\n",
    "        if r > i:\n",
    "            if tp_good == False and sl_good == False:\n",
    "                if  data[data['index'] == r]['ask_h'].values[0] >= data[data['index'] == i]['target_sl'].values[0] and not tp_good:\n",
    "                    data.at[i, 'g'] = data[data['index'] == r]['index'].values[0]\n",
    "                    data.at[i, 'g_time'] = data[data['index'] == r]['time'].values[0]\n",
    "                    tp_good = True\n",
    "                else:\n",
    "                    data.at[i, 'g'] = None\n",
    "                    data.at[i, 'g_time'] =None\n",
    "\n",
    "                if  data[data['index'] == r]['bid_l'].values[0] <= data[data['index'] == i]['target_tp'].values[0] and not sl_good:\n",
    "                    data.at[i, 'l'] = data[data['index'] == r]['index'].values[0]\n",
    "                    data.at[i, 'l_time'] = data[data['index'] == r]['time'].values[0]\n",
    "                    sl_good = True\n",
    "                else:  \n",
    "                    data.at[i, 'l'] = None     \n",
    "                    data.at[i, 'l_time'] = None  \n",
    "            else:\n",
    "                break\n",
    "\n",
    "    clear_output()    \n",
    "\n",
    "#     print(datetime.now())"
   ]
  },
  {
   "cell_type": "code",
   "execution_count": 13,
   "metadata": {},
   "outputs": [],
   "source": [
    "# START WITH FIRST TARGET INDEX BEC TIME ISSUE\n",
    "\n",
    "# if tp_good:\n",
    "#     target_index = data['g'].max()\n",
    "#     good_data = data[~data['g'].isnull()].copy()\n",
    "\n",
    "# if sl_good:\n",
    "#     target_index = data['l'].max()\n",
    "#     good_data = data[~data['g'].isnull()].copy()\n",
    "\n",
    "# tp_good = False\n",
    "# sl_good = False\n",
    "# done = False\n",
    "\n",
    "# counter = 1\n",
    "# while not done:\n",
    "#     show = (target_index / len(irange))*100\n",
    "#     show = str(round(show, 2))\n",
    "#     show = show + ' - ' + str(datetime.now())\n",
    "#     display(show)\n",
    "#     tp_good = False\n",
    "#     sl_good = False\n",
    "\n",
    "#     for r in irange:\n",
    "#         if r > target_index:\n",
    "#             if tp_good == False and sl_good == False:\n",
    "#                 if  data[data['index'] == r]['ask_h'].values[0] >= data[data['index'] == target_index]['target_tp'].values[0] and not tp_good:\n",
    "#                     data.at[target_index, 'g'] = data[data['index'] == r]['index'].values[0]\n",
    "#                     data.at[target_index, 'g_time'] = data[data['index'] == r]['time'].values[0]\n",
    "#                     tp_good = True\n",
    "#                 else:\n",
    "#                     data.at[target_index, 'g'] = None\n",
    "#                     data.at[target_index, 'g_time'] =None\n",
    "\n",
    "\n",
    "#                 if  data[data['index'] == r]['bid_l'].values[0] <= data[data['index'] == target_index]['target_sl'].values[0] and not sl_good:\n",
    "#                     data.at[target_index, 'l'] = data[data['index'] == r]['index'].values[0]\n",
    "#                     data.at[target_index, 'l_time'] = data[data['index'] == r]['time'].values[0]\n",
    "#                     sl_good = True\n",
    "\n",
    "#                 else:  \n",
    "#                     data.at[i, 'l'] = None     \n",
    "#                     data.at[i, 'l_time'] = None  \n",
    "#             else:\n",
    "#                 break\n",
    "    \n",
    "#     if tp_good == True:\n",
    "#         target_index = data['g'].max()\n",
    "#         try:\n",
    "#             temp = data[data['g'] == target_index].copy()\n",
    "#             temp2 = data[data['index'] == target_index].copy()\n",
    "\n",
    "#             if counter == 1:\n",
    "#                 good_data = temp\n",
    "#                 counter += 1\n",
    "#             else:\n",
    "#                 good_data = good_data.append(temp)\n",
    "\n",
    "#             if target_index == data['index'].max():\n",
    "#                 done = True\n",
    "#         except IndexError:\n",
    "#             done = True\n",
    "\n",
    "#     elif sl_good == True:\n",
    "#         target_index = data['l'].max()\n",
    "#         try:\n",
    "#             temp = data[data['l'] == target_index].copy()\n",
    "#             temp2 = data[data['index'] == target_index].copy()\n",
    "\n",
    "#             if counter == 1:\n",
    "#                 good_data = temp\n",
    "#                 counter += 1\n",
    "#             else:\n",
    "#                 good_data = good_data.append(temp)\n",
    "\n",
    "#             if target_index == data['index'].max():\n",
    "#                 done = True\n",
    "#         except IndexError:\n",
    "#             done = True\n",
    "            \n",
    "#     else:\n",
    "#         done = True\n",
    "\n",
    "\n",
    "#     clear_output()    "
   ]
  },
  {
   "cell_type": "code",
   "execution_count": 14,
   "metadata": {},
   "outputs": [
    {
     "data": {
      "text/plain": [
       "(16398, 793)"
      ]
     },
     "execution_count": 14,
     "metadata": {},
     "output_type": "execute_result"
    }
   ],
   "source": [
    "good_mask = (data['g'].isnull()) & (data['l'].isnull())\n",
    "good_data = data[~good_mask].copy()\n",
    "good_data.shape"
   ]
  },
  {
   "cell_type": "code",
   "execution_count": 15,
   "metadata": {},
   "outputs": [
    {
     "data": {
      "text/html": [
       "<div>\n",
       "<style>\n",
       "    .dataframe thead tr:only-child th {\n",
       "        text-align: right;\n",
       "    }\n",
       "\n",
       "    .dataframe thead th {\n",
       "        text-align: left;\n",
       "    }\n",
       "\n",
       "    .dataframe tbody tr th {\n",
       "        vertical-align: top;\n",
       "    }\n",
       "</style>\n",
       "<table border=\"1\" class=\"dataframe\">\n",
       "  <thead>\n",
       "    <tr style=\"text-align: right;\">\n",
       "      <th></th>\n",
       "      <th>time</th>\n",
       "      <th>volume</th>\n",
       "      <th>bid_o</th>\n",
       "      <th>bid_h</th>\n",
       "      <th>bid_l</th>\n",
       "      <th>bid_c</th>\n",
       "      <th>ask_o</th>\n",
       "      <th>ask_h</th>\n",
       "      <th>ask_l</th>\n",
       "      <th>ask_c</th>\n",
       "      <th>target_tp</th>\n",
       "      <th>target_sl</th>\n",
       "      <th>g</th>\n",
       "      <th>l</th>\n",
       "      <th>l_time</th>\n",
       "    </tr>\n",
       "  </thead>\n",
       "  <tbody>\n",
       "    <tr>\n",
       "      <th>0</th>\n",
       "      <td>2017-01-19 21:00:00</td>\n",
       "      <td>4461</td>\n",
       "      <td>1.06583</td>\n",
       "      <td>1.06612</td>\n",
       "      <td>1.06516</td>\n",
       "      <td>1.06530</td>\n",
       "      <td>1.06600</td>\n",
       "      <td>1.06632</td>\n",
       "      <td>1.06531</td>\n",
       "      <td>1.06546</td>\n",
       "      <td>1.06230</td>\n",
       "      <td>1.06846</td>\n",
       "      <td>1.0</td>\n",
       "      <td>NaN</td>\n",
       "      <td>NaN</td>\n",
       "    </tr>\n",
       "    <tr>\n",
       "      <th>1</th>\n",
       "      <td>2017-01-19 22:00:00</td>\n",
       "      <td>2878</td>\n",
       "      <td>1.06528</td>\n",
       "      <td>1.06871</td>\n",
       "      <td>1.06528</td>\n",
       "      <td>1.06808</td>\n",
       "      <td>1.06545</td>\n",
       "      <td>1.06888</td>\n",
       "      <td>1.06545</td>\n",
       "      <td>1.06821</td>\n",
       "      <td>1.06508</td>\n",
       "      <td>1.07121</td>\n",
       "      <td>NaN</td>\n",
       "      <td>9.0</td>\n",
       "      <td>1.484892e+18</td>\n",
       "    </tr>\n",
       "    <tr>\n",
       "      <th>2</th>\n",
       "      <td>2017-01-19 23:00:00</td>\n",
       "      <td>3073</td>\n",
       "      <td>1.06807</td>\n",
       "      <td>1.06834</td>\n",
       "      <td>1.06742</td>\n",
       "      <td>1.06767</td>\n",
       "      <td>1.06825</td>\n",
       "      <td>1.06847</td>\n",
       "      <td>1.06757</td>\n",
       "      <td>1.06781</td>\n",
       "      <td>1.06467</td>\n",
       "      <td>1.07081</td>\n",
       "      <td>NaN</td>\n",
       "      <td>9.0</td>\n",
       "      <td>1.484892e+18</td>\n",
       "    </tr>\n",
       "    <tr>\n",
       "      <th>3</th>\n",
       "      <td>2017-01-20 00:00:00</td>\n",
       "      <td>1888</td>\n",
       "      <td>1.06765</td>\n",
       "      <td>1.06929</td>\n",
       "      <td>1.06765</td>\n",
       "      <td>1.06847</td>\n",
       "      <td>1.06780</td>\n",
       "      <td>1.06943</td>\n",
       "      <td>1.06780</td>\n",
       "      <td>1.06861</td>\n",
       "      <td>1.06547</td>\n",
       "      <td>1.07161</td>\n",
       "      <td>NaN</td>\n",
       "      <td>9.0</td>\n",
       "      <td>1.484892e+18</td>\n",
       "    </tr>\n",
       "    <tr>\n",
       "      <th>4</th>\n",
       "      <td>2017-01-20 01:00:00</td>\n",
       "      <td>2733</td>\n",
       "      <td>1.06846</td>\n",
       "      <td>1.06853</td>\n",
       "      <td>1.06774</td>\n",
       "      <td>1.06797</td>\n",
       "      <td>1.06860</td>\n",
       "      <td>1.06867</td>\n",
       "      <td>1.06788</td>\n",
       "      <td>1.06811</td>\n",
       "      <td>1.06497</td>\n",
       "      <td>1.07111</td>\n",
       "      <td>NaN</td>\n",
       "      <td>9.0</td>\n",
       "      <td>1.484892e+18</td>\n",
       "    </tr>\n",
       "    <tr>\n",
       "      <th>5</th>\n",
       "      <td>2017-01-20 02:00:00</td>\n",
       "      <td>3330</td>\n",
       "      <td>1.06796</td>\n",
       "      <td>1.06809</td>\n",
       "      <td>1.06708</td>\n",
       "      <td>1.06716</td>\n",
       "      <td>1.06809</td>\n",
       "      <td>1.06823</td>\n",
       "      <td>1.06719</td>\n",
       "      <td>1.06731</td>\n",
       "      <td>1.06416</td>\n",
       "      <td>1.07031</td>\n",
       "      <td>NaN</td>\n",
       "      <td>9.0</td>\n",
       "      <td>1.484892e+18</td>\n",
       "    </tr>\n",
       "    <tr>\n",
       "      <th>6</th>\n",
       "      <td>2017-01-20 03:00:00</td>\n",
       "      <td>6519</td>\n",
       "      <td>1.06716</td>\n",
       "      <td>1.06856</td>\n",
       "      <td>1.06715</td>\n",
       "      <td>1.06820</td>\n",
       "      <td>1.06730</td>\n",
       "      <td>1.06868</td>\n",
       "      <td>1.06730</td>\n",
       "      <td>1.06839</td>\n",
       "      <td>1.06520</td>\n",
       "      <td>1.07139</td>\n",
       "      <td>NaN</td>\n",
       "      <td>9.0</td>\n",
       "      <td>1.484892e+18</td>\n",
       "    </tr>\n",
       "    <tr>\n",
       "      <th>7</th>\n",
       "      <td>2017-01-20 04:00:00</td>\n",
       "      <td>8151</td>\n",
       "      <td>1.06819</td>\n",
       "      <td>1.06915</td>\n",
       "      <td>1.06705</td>\n",
       "      <td>1.06715</td>\n",
       "      <td>1.06836</td>\n",
       "      <td>1.06928</td>\n",
       "      <td>1.06717</td>\n",
       "      <td>1.06727</td>\n",
       "      <td>1.06415</td>\n",
       "      <td>1.07027</td>\n",
       "      <td>NaN</td>\n",
       "      <td>10.0</td>\n",
       "      <td>1.484896e+18</td>\n",
       "    </tr>\n",
       "    <tr>\n",
       "      <th>8</th>\n",
       "      <td>2017-01-20 05:00:00</td>\n",
       "      <td>7173</td>\n",
       "      <td>1.06713</td>\n",
       "      <td>1.06831</td>\n",
       "      <td>1.06603</td>\n",
       "      <td>1.06626</td>\n",
       "      <td>1.06727</td>\n",
       "      <td>1.06845</td>\n",
       "      <td>1.06615</td>\n",
       "      <td>1.06639</td>\n",
       "      <td>1.06326</td>\n",
       "      <td>1.06939</td>\n",
       "      <td>NaN</td>\n",
       "      <td>10.0</td>\n",
       "      <td>1.484896e+18</td>\n",
       "    </tr>\n",
       "    <tr>\n",
       "      <th>9</th>\n",
       "      <td>2017-01-20 06:00:00</td>\n",
       "      <td>5923</td>\n",
       "      <td>1.06627</td>\n",
       "      <td>1.06665</td>\n",
       "      <td>1.06416</td>\n",
       "      <td>1.06459</td>\n",
       "      <td>1.06638</td>\n",
       "      <td>1.06678</td>\n",
       "      <td>1.06428</td>\n",
       "      <td>1.06470</td>\n",
       "      <td>1.06159</td>\n",
       "      <td>1.06770</td>\n",
       "      <td>15.0</td>\n",
       "      <td>NaN</td>\n",
       "      <td>NaN</td>\n",
       "    </tr>\n",
       "  </tbody>\n",
       "</table>\n",
       "</div>"
      ],
      "text/plain": [
       "                 time  volume    bid_o    bid_h    bid_l    bid_c    ask_o  \\\n",
       "0 2017-01-19 21:00:00    4461  1.06583  1.06612  1.06516  1.06530  1.06600   \n",
       "1 2017-01-19 22:00:00    2878  1.06528  1.06871  1.06528  1.06808  1.06545   \n",
       "2 2017-01-19 23:00:00    3073  1.06807  1.06834  1.06742  1.06767  1.06825   \n",
       "3 2017-01-20 00:00:00    1888  1.06765  1.06929  1.06765  1.06847  1.06780   \n",
       "4 2017-01-20 01:00:00    2733  1.06846  1.06853  1.06774  1.06797  1.06860   \n",
       "5 2017-01-20 02:00:00    3330  1.06796  1.06809  1.06708  1.06716  1.06809   \n",
       "6 2017-01-20 03:00:00    6519  1.06716  1.06856  1.06715  1.06820  1.06730   \n",
       "7 2017-01-20 04:00:00    8151  1.06819  1.06915  1.06705  1.06715  1.06836   \n",
       "8 2017-01-20 05:00:00    7173  1.06713  1.06831  1.06603  1.06626  1.06727   \n",
       "9 2017-01-20 06:00:00    5923  1.06627  1.06665  1.06416  1.06459  1.06638   \n",
       "\n",
       "     ask_h    ask_l    ask_c  target_tp  target_sl     g     l        l_time  \n",
       "0  1.06632  1.06531  1.06546    1.06230    1.06846   1.0   NaN           NaN  \n",
       "1  1.06888  1.06545  1.06821    1.06508    1.07121   NaN   9.0  1.484892e+18  \n",
       "2  1.06847  1.06757  1.06781    1.06467    1.07081   NaN   9.0  1.484892e+18  \n",
       "3  1.06943  1.06780  1.06861    1.06547    1.07161   NaN   9.0  1.484892e+18  \n",
       "4  1.06867  1.06788  1.06811    1.06497    1.07111   NaN   9.0  1.484892e+18  \n",
       "5  1.06823  1.06719  1.06731    1.06416    1.07031   NaN   9.0  1.484892e+18  \n",
       "6  1.06868  1.06730  1.06839    1.06520    1.07139   NaN   9.0  1.484892e+18  \n",
       "7  1.06928  1.06717  1.06727    1.06415    1.07027   NaN  10.0  1.484896e+18  \n",
       "8  1.06845  1.06615  1.06639    1.06326    1.06939   NaN  10.0  1.484896e+18  \n",
       "9  1.06678  1.06428  1.06470    1.06159    1.06770  15.0   NaN           NaN  "
      ]
     },
     "execution_count": 15,
     "metadata": {},
     "output_type": "execute_result"
    }
   ],
   "source": [
    "good_data[['time', 'volume', 'bid_o', 'bid_h','bid_l','bid_c', 'ask_o', 'ask_h','ask_l','ask_c', 'target_tp', 'target_sl', 'g', 'l', 'l_time']].head(10)"
   ]
  },
  {
   "cell_type": "code",
   "execution_count": 16,
   "metadata": {},
   "outputs": [],
   "source": [
    "def get_target(value):\n",
    "    if value > 0:\n",
    "        return 1\n",
    "    else:\n",
    "        return 0"
   ]
  },
  {
   "cell_type": "code",
   "execution_count": 17,
   "metadata": {},
   "outputs": [
    {
     "name": "stdout",
     "output_type": "stream",
     "text": [
      "0    8394\n",
      "1    8004\n",
      "Name: long_target, dtype: int64\n",
      "\n",
      "1    8488\n",
      "0    7910\n",
      "Name: short_target, dtype: int64\n"
     ]
    }
   ],
   "source": [
    "# max_date = data['time'].max()\n",
    "good_data['g_time'] = pd.to_datetime(good_data['g_time'])\n",
    "good_data['l_time'] = pd.to_datetime(good_data['l_time'])\n",
    "\n",
    "good_data['g'] = pd.to_numeric(good_data['g'])\n",
    "good_data['l'] = pd.to_numeric(good_data['l'])\n",
    "\n",
    "good_data['g'] = good_data['g'].fillna(0)\n",
    "good_data['l'] = good_data['l'].fillna(0)\n",
    "\n",
    "# data['g'] = data['g'].fillna(data['index'].max())\n",
    "# data['l'] = data['l'].fillna(data['index'].max())\n",
    "\n",
    "good_data['long_target'] = good_data['g'].apply(get_target)\n",
    "good_data['short_target'] = good_data['l'].apply(get_target)\n",
    "\n",
    "print(good_data['long_target'].value_counts())\n",
    "print()\n",
    "print(good_data['short_target'].value_counts())"
   ]
  },
  {
   "cell_type": "code",
   "execution_count": 18,
   "metadata": {},
   "outputs": [],
   "source": [
    "# good_data['g_time_shift'] = good_data['g_time'].shift(1)\n",
    "# good_data['g_time_shift'] = pd.to_datetime(good_data['g_time_shift'] )\n",
    "good_data['time'] = pd.to_datetime(good_data['time'] )\n",
    "# good_data['g_diff'] = good_data['g_time'] - good_data['g_time_shift']\n",
    "# good_data['g_diff'] = good_data['g_diff'].dt.seconds"
   ]
  },
  {
   "cell_type": "code",
   "execution_count": 19,
   "metadata": {},
   "outputs": [
    {
     "data": {
      "text/plain": [
       "(16304, 796)"
      ]
     },
     "execution_count": 19,
     "metadata": {},
     "output_type": "execute_result"
    }
   ],
   "source": [
    "# good_data['order'] = good_data.index\n",
    "# t1 = good_data[good_data['g'] != 0.0].drop_duplicates(subset='g')\n",
    "# t2 = good_data[good_data['l'] != 0.0].drop_duplicates(subset='l')\n",
    "# good_data = pd.concat([t1, t2], axis=0)\n",
    "# good_data= good_data.sort_values(by='order')\n",
    "good_data['same_time'] = good_data['g_time'] == good_data['l_time']\n",
    "good_data['same_time'] = good_data['same_time'].apply(lambda x: 1 if x else 0)\n",
    "good_data = good_data[good_data['same_time'] == 0]\n",
    "good_data.shape"
   ]
  },
  {
   "cell_type": "code",
   "execution_count": 20,
   "metadata": {},
   "outputs": [
    {
     "name": "stdout",
     "output_type": "stream",
     "text": [
      "(8394, 796)\n"
     ]
    },
    {
     "data": {
      "text/plain": [
       "(16304, 796)"
      ]
     },
     "execution_count": 20,
     "metadata": {},
     "output_type": "execute_result"
    }
   ],
   "source": [
    "pos = good_data[good_data['short_target'] == 1].copy()\n",
    "print(pos.shape)\n",
    "neg = good_data[good_data['short_target'] == 0].copy()\n",
    "\n",
    "pos['time_diff'] = (pos['l_time'] - pos['time']) / np.timedelta64(1, 'h')\n",
    "pos_bad = pos[pos['time_diff'] > 24].copy()\n",
    "pos_bad['short_target'] = 0\n",
    "\n",
    "pos = pos[pos['time_diff'] <= 24]\n",
    "\n",
    "pos.drop(['time_diff'], axis=1, inplace=True)\n",
    "pos_bad.drop(['time_diff'], axis=1, inplace=True)\n",
    "\n",
    "good_data = pd.concat([pos, neg, pos_bad], axis=0)\n",
    "good_data.shape"
   ]
  },
  {
   "cell_type": "code",
   "execution_count": 21,
   "metadata": {},
   "outputs": [
    {
     "data": {
      "text/plain": [
       "0    9538\n",
       "1    6766\n",
       "Name: short_target, dtype: int64"
      ]
     },
     "execution_count": 21,
     "metadata": {},
     "output_type": "execute_result"
    }
   ],
   "source": [
    "good_data['short_target'].value_counts()"
   ]
  },
  {
   "cell_type": "code",
   "execution_count": 22,
   "metadata": {},
   "outputs": [],
   "source": [
    "good_data.to_csv('../data/' + filename_date + '_mds_out_final_v' + version + '_short.csv', index=False, header=True)"
   ]
  },
  {
   "cell_type": "code",
   "execution_count": 23,
   "metadata": {},
   "outputs": [
    {
     "data": {
      "text/html": [
       "<div>\n",
       "<style>\n",
       "    .dataframe thead tr:only-child th {\n",
       "        text-align: right;\n",
       "    }\n",
       "\n",
       "    .dataframe thead th {\n",
       "        text-align: left;\n",
       "    }\n",
       "\n",
       "    .dataframe tbody tr th {\n",
       "        vertical-align: top;\n",
       "    }\n",
       "</style>\n",
       "<table border=\"1\" class=\"dataframe\">\n",
       "  <thead>\n",
       "    <tr style=\"text-align: right;\">\n",
       "      <th></th>\n",
       "      <th>time</th>\n",
       "      <th>target_tp</th>\n",
       "      <th>target_sl</th>\n",
       "      <th>g</th>\n",
       "      <th>l</th>\n",
       "      <th>g_time</th>\n",
       "      <th>l_time</th>\n",
       "      <th>long_target</th>\n",
       "      <th>short_target</th>\n",
       "      <th>time</th>\n",
       "    </tr>\n",
       "  </thead>\n",
       "  <tbody>\n",
       "    <tr>\n",
       "      <th>1</th>\n",
       "      <td>2017-01-19 22:00:00</td>\n",
       "      <td>1.06508</td>\n",
       "      <td>1.07121</td>\n",
       "      <td>0.0</td>\n",
       "      <td>9.0</td>\n",
       "      <td>NaT</td>\n",
       "      <td>2017-01-20 06:00:00</td>\n",
       "      <td>0</td>\n",
       "      <td>1</td>\n",
       "      <td>2017-01-19 22:00:00</td>\n",
       "    </tr>\n",
       "    <tr>\n",
       "      <th>2</th>\n",
       "      <td>2017-01-19 23:00:00</td>\n",
       "      <td>1.06467</td>\n",
       "      <td>1.07081</td>\n",
       "      <td>0.0</td>\n",
       "      <td>9.0</td>\n",
       "      <td>NaT</td>\n",
       "      <td>2017-01-20 06:00:00</td>\n",
       "      <td>0</td>\n",
       "      <td>1</td>\n",
       "      <td>2017-01-19 23:00:00</td>\n",
       "    </tr>\n",
       "    <tr>\n",
       "      <th>3</th>\n",
       "      <td>2017-01-20 00:00:00</td>\n",
       "      <td>1.06547</td>\n",
       "      <td>1.07161</td>\n",
       "      <td>0.0</td>\n",
       "      <td>9.0</td>\n",
       "      <td>NaT</td>\n",
       "      <td>2017-01-20 06:00:00</td>\n",
       "      <td>0</td>\n",
       "      <td>1</td>\n",
       "      <td>2017-01-20 00:00:00</td>\n",
       "    </tr>\n",
       "    <tr>\n",
       "      <th>4</th>\n",
       "      <td>2017-01-20 01:00:00</td>\n",
       "      <td>1.06497</td>\n",
       "      <td>1.07111</td>\n",
       "      <td>0.0</td>\n",
       "      <td>9.0</td>\n",
       "      <td>NaT</td>\n",
       "      <td>2017-01-20 06:00:00</td>\n",
       "      <td>0</td>\n",
       "      <td>1</td>\n",
       "      <td>2017-01-20 01:00:00</td>\n",
       "    </tr>\n",
       "    <tr>\n",
       "      <th>5</th>\n",
       "      <td>2017-01-20 02:00:00</td>\n",
       "      <td>1.06416</td>\n",
       "      <td>1.07031</td>\n",
       "      <td>0.0</td>\n",
       "      <td>9.0</td>\n",
       "      <td>NaT</td>\n",
       "      <td>2017-01-20 06:00:00</td>\n",
       "      <td>0</td>\n",
       "      <td>1</td>\n",
       "      <td>2017-01-20 02:00:00</td>\n",
       "    </tr>\n",
       "    <tr>\n",
       "      <th>6</th>\n",
       "      <td>2017-01-20 03:00:00</td>\n",
       "      <td>1.06520</td>\n",
       "      <td>1.07139</td>\n",
       "      <td>0.0</td>\n",
       "      <td>9.0</td>\n",
       "      <td>NaT</td>\n",
       "      <td>2017-01-20 06:00:00</td>\n",
       "      <td>0</td>\n",
       "      <td>1</td>\n",
       "      <td>2017-01-20 03:00:00</td>\n",
       "    </tr>\n",
       "    <tr>\n",
       "      <th>7</th>\n",
       "      <td>2017-01-20 04:00:00</td>\n",
       "      <td>1.06415</td>\n",
       "      <td>1.07027</td>\n",
       "      <td>0.0</td>\n",
       "      <td>10.0</td>\n",
       "      <td>NaT</td>\n",
       "      <td>2017-01-20 07:00:00</td>\n",
       "      <td>0</td>\n",
       "      <td>1</td>\n",
       "      <td>2017-01-20 04:00:00</td>\n",
       "    </tr>\n",
       "    <tr>\n",
       "      <th>8</th>\n",
       "      <td>2017-01-20 05:00:00</td>\n",
       "      <td>1.06326</td>\n",
       "      <td>1.06939</td>\n",
       "      <td>0.0</td>\n",
       "      <td>10.0</td>\n",
       "      <td>NaT</td>\n",
       "      <td>2017-01-20 07:00:00</td>\n",
       "      <td>0</td>\n",
       "      <td>1</td>\n",
       "      <td>2017-01-20 05:00:00</td>\n",
       "    </tr>\n",
       "    <tr>\n",
       "      <th>25</th>\n",
       "      <td>2017-01-22 22:00:00</td>\n",
       "      <td>1.07136</td>\n",
       "      <td>1.07749</td>\n",
       "      <td>0.0</td>\n",
       "      <td>37.0</td>\n",
       "      <td>NaT</td>\n",
       "      <td>2017-01-23 10:00:00</td>\n",
       "      <td>0</td>\n",
       "      <td>1</td>\n",
       "      <td>2017-01-22 22:00:00</td>\n",
       "    </tr>\n",
       "    <tr>\n",
       "      <th>26</th>\n",
       "      <td>2017-01-22 23:00:00</td>\n",
       "      <td>1.07150</td>\n",
       "      <td>1.07763</td>\n",
       "      <td>0.0</td>\n",
       "      <td>37.0</td>\n",
       "      <td>NaT</td>\n",
       "      <td>2017-01-23 10:00:00</td>\n",
       "      <td>0</td>\n",
       "      <td>1</td>\n",
       "      <td>2017-01-22 23:00:00</td>\n",
       "    </tr>\n",
       "  </tbody>\n",
       "</table>\n",
       "</div>"
      ],
      "text/plain": [
       "                  time  target_tp  target_sl    g     l g_time  \\\n",
       "1  2017-01-19 22:00:00    1.06508    1.07121  0.0   9.0    NaT   \n",
       "2  2017-01-19 23:00:00    1.06467    1.07081  0.0   9.0    NaT   \n",
       "3  2017-01-20 00:00:00    1.06547    1.07161  0.0   9.0    NaT   \n",
       "4  2017-01-20 01:00:00    1.06497    1.07111  0.0   9.0    NaT   \n",
       "5  2017-01-20 02:00:00    1.06416    1.07031  0.0   9.0    NaT   \n",
       "6  2017-01-20 03:00:00    1.06520    1.07139  0.0   9.0    NaT   \n",
       "7  2017-01-20 04:00:00    1.06415    1.07027  0.0  10.0    NaT   \n",
       "8  2017-01-20 05:00:00    1.06326    1.06939  0.0  10.0    NaT   \n",
       "25 2017-01-22 22:00:00    1.07136    1.07749  0.0  37.0    NaT   \n",
       "26 2017-01-22 23:00:00    1.07150    1.07763  0.0  37.0    NaT   \n",
       "\n",
       "                l_time  long_target  short_target                time  \n",
       "1  2017-01-20 06:00:00            0             1 2017-01-19 22:00:00  \n",
       "2  2017-01-20 06:00:00            0             1 2017-01-19 23:00:00  \n",
       "3  2017-01-20 06:00:00            0             1 2017-01-20 00:00:00  \n",
       "4  2017-01-20 06:00:00            0             1 2017-01-20 01:00:00  \n",
       "5  2017-01-20 06:00:00            0             1 2017-01-20 02:00:00  \n",
       "6  2017-01-20 06:00:00            0             1 2017-01-20 03:00:00  \n",
       "7  2017-01-20 07:00:00            0             1 2017-01-20 04:00:00  \n",
       "8  2017-01-20 07:00:00            0             1 2017-01-20 05:00:00  \n",
       "25 2017-01-23 10:00:00            0             1 2017-01-22 22:00:00  \n",
       "26 2017-01-23 10:00:00            0             1 2017-01-22 23:00:00  "
      ]
     },
     "execution_count": 23,
     "metadata": {},
     "output_type": "execute_result"
    }
   ],
   "source": [
    "good_data[['time', 'target_tp', 'target_sl', 'g', 'l', 'g_time', 'l_time', 'long_target', 'short_target', 'time']].head(10)"
   ]
  },
  {
   "cell_type": "code",
   "execution_count": 24,
   "metadata": {},
   "outputs": [
    {
     "data": {
      "text/plain": [
       "1   08:00:00\n",
       "2   07:00:00\n",
       "3   06:00:00\n",
       "4   05:00:00\n",
       "5   04:00:00\n",
       "Name: time_diff, dtype: timedelta64[ns]"
      ]
     },
     "execution_count": 24,
     "metadata": {},
     "output_type": "execute_result"
    }
   ],
   "source": [
    "shorts = good_data[good_data['short_target'] == 1].copy()\n",
    "shorts['time'] = pd.to_datetime(shorts['time'])\n",
    "shorts['l_time'] = pd.to_datetime(shorts['l_time'] )\n",
    "shorts['time_diff'] = shorts['l_time'] - shorts['time']\n",
    "shorts['time_diff'].head() "
   ]
  },
  {
   "cell_type": "code",
   "execution_count": 25,
   "metadata": {},
   "outputs": [],
   "source": [
    "shorts['time_diff'] = shorts['time_diff']  / np.timedelta64(1, 'h')"
   ]
  },
  {
   "cell_type": "code",
   "execution_count": 26,
   "metadata": {},
   "outputs": [
    {
     "data": {
      "text/plain": [
       "count    6766.000000\n",
       "mean        9.553207\n",
       "std         6.163939\n",
       "min         1.000000\n",
       "25%         4.000000\n",
       "50%         8.000000\n",
       "75%        14.000000\n",
       "max        24.000000\n",
       "Name: time_diff, dtype: float64"
      ]
     },
     "execution_count": 26,
     "metadata": {},
     "output_type": "execute_result"
    }
   ],
   "source": [
    "shorts['time_diff'].describe()"
   ]
  },
  {
   "cell_type": "code",
   "execution_count": 27,
   "metadata": {},
   "outputs": [
    {
     "name": "stderr",
     "output_type": "stream",
     "text": [
      "C:\\Users\\bbennett\\Anaconda3\\envs\\ml\\lib\\site-packages\\scipy\\stats\\stats.py:1633: FutureWarning: Using a non-tuple sequence for multidimensional indexing is deprecated; use `arr[tuple(seq)]` instead of `arr[seq]`. In the future this will be interpreted as an array index, `arr[np.array(seq)]`, which will result either in an error or a different result.\n",
      "  return np.add.reduce(sorted[indexer] * weights, axis=axis) / sumval\n"
     ]
    },
    {
     "data": {
      "text/plain": [
       "<matplotlib.lines.Line2D at 0x1f6864f0d30>"
      ]
     },
     "execution_count": 27,
     "metadata": {},
     "output_type": "execute_result"
    },
    {
     "data": {
      "image/png": "[encoded data removed]",
      "text/plain": [
       "<Figure size 1152x576 with 1 Axes>"
      ]
     },
     "metadata": {
      "needs_background": "light"
     },
     "output_type": "display_data"
    }
   ],
   "source": [
    "fig, ax = plt.subplots(figsize=(16,8))\n",
    "sns.distplot(shorts['time_diff'])\n",
    "ax.set_xticks(np.arange(0, 110, 10))\n",
    "ax.axvline(x=12, color='red')"
   ]
  },
  {
   "cell_type": "code",
   "execution_count": 28,
   "metadata": {},
   "outputs": [
    {
     "data": {
      "text/plain": [
       "<matplotlib.lines.Line2D at 0x1f6863fc7f0>"
      ]
     },
     "execution_count": 28,
     "metadata": {},
     "output_type": "execute_result"
    },
    {
     "data": {
      "image/png": "[encoded data removed]",
      "text/plain": [
       "<Figure size 1440x720 with 1 Axes>"
      ]
     },
     "metadata": {
      "needs_background": "light"
     },
     "output_type": "display_data"
    }
   ],
   "source": [
    "tcnt = shorts['time_diff'].value_counts().reset_index()\n",
    "tcnt.columns = ['diff', 'count']\n",
    "tcnt = tcnt.sort_values(by='diff')\n",
    "tcnt['csum'] = tcnt['count'].cumsum()\n",
    "tcnt['csum_pct'] = (tcnt['csum'] / tcnt['count'].sum()) * 100\n",
    "tcnt['count_pct'] = (tcnt['count'] / tcnt['count'].sum()) * 100\n",
    "tcnt['count_pct_ra']  = tcnt['count_pct'].rolling(8, min_periods=1).mean()\n",
    "\n",
    "fig, ax = plt.subplots(figsize=(20,10))\n",
    "sns.lineplot(x='diff', y='csum_pct', data=tcnt)\n",
    "ax.axhline(y=80, color='red')\n",
    "ax.axvline(x=24, color='red')"
   ]
  },
  {
   "cell_type": "code",
   "execution_count": 29,
   "metadata": {},
   "outputs": [
    {
     "data": {
      "text/html": [
       "<div>\n",
       "<style>\n",
       "    .dataframe thead tr:only-child th {\n",
       "        text-align: right;\n",
       "    }\n",
       "\n",
       "    .dataframe thead th {\n",
       "        text-align: left;\n",
       "    }\n",
       "\n",
       "    .dataframe tbody tr th {\n",
       "        vertical-align: top;\n",
       "    }\n",
       "</style>\n",
       "<table border=\"1\" class=\"dataframe\">\n",
       "  <thead>\n",
       "    <tr style=\"text-align: right;\">\n",
       "      <th></th>\n",
       "      <th>diff</th>\n",
       "      <th>count</th>\n",
       "      <th>csum</th>\n",
       "      <th>csum_pct</th>\n",
       "      <th>count_pct</th>\n",
       "      <th>count_pct_ra</th>\n",
       "    </tr>\n",
       "  </thead>\n",
       "  <tbody>\n",
       "    <tr>\n",
       "      <th>13</th>\n",
       "      <td>1.0</td>\n",
       "      <td>226</td>\n",
       "      <td>226</td>\n",
       "      <td>3.340231</td>\n",
       "      <td>3.340231</td>\n",
       "      <td>3.340231</td>\n",
       "    </tr>\n",
       "    <tr>\n",
       "      <th>0</th>\n",
       "      <td>2.0</td>\n",
       "      <td>542</td>\n",
       "      <td>768</td>\n",
       "      <td>11.350872</td>\n",
       "      <td>8.010641</td>\n",
       "      <td>5.675436</td>\n",
       "    </tr>\n",
       "    <tr>\n",
       "      <th>1</th>\n",
       "      <td>3.0</td>\n",
       "      <td>538</td>\n",
       "      <td>1306</td>\n",
       "      <td>19.302394</td>\n",
       "      <td>7.951522</td>\n",
       "      <td>6.434131</td>\n",
       "    </tr>\n",
       "    <tr>\n",
       "      <th>2</th>\n",
       "      <td>4.0</td>\n",
       "      <td>486</td>\n",
       "      <td>1792</td>\n",
       "      <td>26.485368</td>\n",
       "      <td>7.182974</td>\n",
       "      <td>6.621342</td>\n",
       "    </tr>\n",
       "    <tr>\n",
       "      <th>3</th>\n",
       "      <td>5.0</td>\n",
       "      <td>472</td>\n",
       "      <td>2264</td>\n",
       "      <td>33.461425</td>\n",
       "      <td>6.976057</td>\n",
       "      <td>6.692285</td>\n",
       "    </tr>\n",
       "    <tr>\n",
       "      <th>4</th>\n",
       "      <td>6.0</td>\n",
       "      <td>428</td>\n",
       "      <td>2692</td>\n",
       "      <td>39.787171</td>\n",
       "      <td>6.325746</td>\n",
       "      <td>6.631195</td>\n",
       "    </tr>\n",
       "    <tr>\n",
       "      <th>5</th>\n",
       "      <td>7.0</td>\n",
       "      <td>383</td>\n",
       "      <td>3075</td>\n",
       "      <td>45.447827</td>\n",
       "      <td>5.660656</td>\n",
       "      <td>6.492547</td>\n",
       "    </tr>\n",
       "    <tr>\n",
       "      <th>6</th>\n",
       "      <td>8.0</td>\n",
       "      <td>344</td>\n",
       "      <td>3419</td>\n",
       "      <td>50.532072</td>\n",
       "      <td>5.084245</td>\n",
       "      <td>6.316509</td>\n",
       "    </tr>\n",
       "    <tr>\n",
       "      <th>7</th>\n",
       "      <td>9.0</td>\n",
       "      <td>339</td>\n",
       "      <td>3758</td>\n",
       "      <td>55.542418</td>\n",
       "      <td>5.010346</td>\n",
       "      <td>6.525273</td>\n",
       "    </tr>\n",
       "    <tr>\n",
       "      <th>8</th>\n",
       "      <td>10.0</td>\n",
       "      <td>338</td>\n",
       "      <td>4096</td>\n",
       "      <td>60.537984</td>\n",
       "      <td>4.995566</td>\n",
       "      <td>6.148389</td>\n",
       "    </tr>\n",
       "    <tr>\n",
       "      <th>9</th>\n",
       "      <td>11.0</td>\n",
       "      <td>297</td>\n",
       "      <td>4393</td>\n",
       "      <td>64.927579</td>\n",
       "      <td>4.389595</td>\n",
       "      <td>5.703148</td>\n",
       "    </tr>\n",
       "    <tr>\n",
       "      <th>11</th>\n",
       "      <td>12.0</td>\n",
       "      <td>275</td>\n",
       "      <td>4668</td>\n",
       "      <td>68.992019</td>\n",
       "      <td>4.064440</td>\n",
       "      <td>5.313331</td>\n",
       "    </tr>\n",
       "    <tr>\n",
       "      <th>10</th>\n",
       "      <td>13.0</td>\n",
       "      <td>291</td>\n",
       "      <td>4959</td>\n",
       "      <td>73.292935</td>\n",
       "      <td>4.300916</td>\n",
       "      <td>4.978939</td>\n",
       "    </tr>\n",
       "    <tr>\n",
       "      <th>12</th>\n",
       "      <td>14.0</td>\n",
       "      <td>243</td>\n",
       "      <td>5202</td>\n",
       "      <td>76.884422</td>\n",
       "      <td>3.591487</td>\n",
       "      <td>4.637156</td>\n",
       "    </tr>\n",
       "    <tr>\n",
       "      <th>15</th>\n",
       "      <td>15.0</td>\n",
       "      <td>219</td>\n",
       "      <td>5421</td>\n",
       "      <td>80.121194</td>\n",
       "      <td>3.236772</td>\n",
       "      <td>4.334171</td>\n",
       "    </tr>\n",
       "    <tr>\n",
       "      <th>14</th>\n",
       "      <td>16.0</td>\n",
       "      <td>225</td>\n",
       "      <td>5646</td>\n",
       "      <td>83.446645</td>\n",
       "      <td>3.325451</td>\n",
       "      <td>4.114322</td>\n",
       "    </tr>\n",
       "    <tr>\n",
       "      <th>16</th>\n",
       "      <td>17.0</td>\n",
       "      <td>191</td>\n",
       "      <td>5837</td>\n",
       "      <td>86.269583</td>\n",
       "      <td>2.822938</td>\n",
       "      <td>3.840896</td>\n",
       "    </tr>\n",
       "    <tr>\n",
       "      <th>18</th>\n",
       "      <td>18.0</td>\n",
       "      <td>171</td>\n",
       "      <td>6008</td>\n",
       "      <td>88.796926</td>\n",
       "      <td>2.527343</td>\n",
       "      <td>3.532368</td>\n",
       "    </tr>\n",
       "    <tr>\n",
       "      <th>17</th>\n",
       "      <td>19.0</td>\n",
       "      <td>173</td>\n",
       "      <td>6181</td>\n",
       "      <td>91.353828</td>\n",
       "      <td>2.556902</td>\n",
       "      <td>3.303281</td>\n",
       "    </tr>\n",
       "    <tr>\n",
       "      <th>21</th>\n",
       "      <td>20.0</td>\n",
       "      <td>132</td>\n",
       "      <td>6313</td>\n",
       "      <td>93.304759</td>\n",
       "      <td>1.950931</td>\n",
       "      <td>3.039093</td>\n",
       "    </tr>\n",
       "    <tr>\n",
       "      <th>19</th>\n",
       "      <td>21.0</td>\n",
       "      <td>139</td>\n",
       "      <td>6452</td>\n",
       "      <td>95.359149</td>\n",
       "      <td>2.054390</td>\n",
       "      <td>2.758277</td>\n",
       "    </tr>\n",
       "    <tr>\n",
       "      <th>20</th>\n",
       "      <td>22.0</td>\n",
       "      <td>135</td>\n",
       "      <td>6587</td>\n",
       "      <td>97.354419</td>\n",
       "      <td>1.995270</td>\n",
       "      <td>2.558750</td>\n",
       "    </tr>\n",
       "    <tr>\n",
       "      <th>22</th>\n",
       "      <td>23.0</td>\n",
       "      <td>97</td>\n",
       "      <td>6684</td>\n",
       "      <td>98.788058</td>\n",
       "      <td>1.433639</td>\n",
       "      <td>2.333358</td>\n",
       "    </tr>\n",
       "    <tr>\n",
       "      <th>23</th>\n",
       "      <td>24.0</td>\n",
       "      <td>82</td>\n",
       "      <td>6766</td>\n",
       "      <td>100.000000</td>\n",
       "      <td>1.211942</td>\n",
       "      <td>2.069169</td>\n",
       "    </tr>\n",
       "  </tbody>\n",
       "</table>\n",
       "</div>"
      ],
      "text/plain": [
       "    diff  count  csum    csum_pct  count_pct  count_pct_ra\n",
       "13   1.0    226   226    3.340231   3.340231      3.340231\n",
       "0    2.0    542   768   11.350872   8.010641      5.675436\n",
       "1    3.0    538  1306   19.302394   7.951522      6.434131\n",
       "2    4.0    486  1792   26.485368   7.182974      6.621342\n",
       "3    5.0    472  2264   33.461425   6.976057      6.692285\n",
       "4    6.0    428  2692   39.787171   6.325746      6.631195\n",
       "5    7.0    383  3075   45.447827   5.660656      6.492547\n",
       "6    8.0    344  3419   50.532072   5.084245      6.316509\n",
       "7    9.0    339  3758   55.542418   5.010346      6.525273\n",
       "8   10.0    338  4096   60.537984   4.995566      6.148389\n",
       "9   11.0    297  4393   64.927579   4.389595      5.703148\n",
       "11  12.0    275  4668   68.992019   4.064440      5.313331\n",
       "10  13.0    291  4959   73.292935   4.300916      4.978939\n",
       "12  14.0    243  5202   76.884422   3.591487      4.637156\n",
       "15  15.0    219  5421   80.121194   3.236772      4.334171\n",
       "14  16.0    225  5646   83.446645   3.325451      4.114322\n",
       "16  17.0    191  5837   86.269583   2.822938      3.840896\n",
       "18  18.0    171  6008   88.796926   2.527343      3.532368\n",
       "17  19.0    173  6181   91.353828   2.556902      3.303281\n",
       "21  20.0    132  6313   93.304759   1.950931      3.039093\n",
       "19  21.0    139  6452   95.359149   2.054390      2.758277\n",
       "20  22.0    135  6587   97.354419   1.995270      2.558750\n",
       "22  23.0     97  6684   98.788058   1.433639      2.333358\n",
       "23  24.0     82  6766  100.000000   1.211942      2.069169"
      ]
     },
     "execution_count": 29,
     "metadata": {},
     "output_type": "execute_result"
    }
   ],
   "source": [
    "tcnt"
   ]
  },
  {
   "cell_type": "code",
   "execution_count": null,
   "metadata": {},
   "outputs": [],
   "source": []
  },
  {
   "cell_type": "code",
   "execution_count": null,
   "metadata": {},
   "outputs": [],
   "source": []
  }
 ],
 "metadata": {
  "hide_input": false,
  "kernelspec": {
   "display_name": "Python 3",
   "language": "python",
   "name": "python3"
  },
  "language_info": {
   "codemirror_mode": {
    "name": "ipython",
    "version": 3
   },
   "file_extension": ".py",
   "mimetype": "text/x-python",
   "name": "python",
   "nbconvert_exporter": "python",
   "pygments_lexer": "ipython3",
   "version": "3.6.2"
  },
  "toc": {
   "base_numbering": 1,
   "nav_menu": {},
   "number_sections": true,
   "sideBar": true,
   "skip_h1_title": false,
   "title_cell": "Table of Contents",
   "title_sidebar": "Contents",
   "toc_cell": false,
   "toc_position": {},
   "toc_section_display": true,
   "toc_window_display": false
  }
 },
 "nbformat": 4,
 "nbformat_minor": 2
}
